{
  "cells": [
    {
      "cell_type": "markdown",
      "metadata": {
        "id": "zOK-6wmkFuv6"
      },
      "source": [
        "# AI534 Implementation 1\n",
        "**Deadline**: Sunday, Oct. 12, by 11:59pm\n",
        "\n",
        "**Submission Instruction**: Submit 1) your completed notebook in ipynb format, and 2) a PDF export of the completed notebook with outputs (the codeblock at the end of the notebook should automatically produce the pdf file).\n",
        "\n",
        "**Overview** In this assignment, we will implement and experiment with linear regression models to predict house prices based on various features. We will use the same housing data you explored in the warm-up assignment.\n",
        "\n",
        "We will implement two versions, one using the closed-form solution, and one using gradient descent.\n",
        "\n",
        "You may modify the starter code as you see fit, including changing the signatures of functions and adding/removing helper functions. However, please make sure that your TA can understand what you are doing and why."
      ]
    },
    {
      "cell_type": "markdown",
      "metadata": {
        "id": "aP84hVzY97rb"
      },
      "source": [
        "First lets import the necessary packages and configure the notebook environment."
      ]
    },
    {
      "cell_type": "code",
      "execution_count": 2,
      "metadata": {
        "id": "mfC82i5Bw_Cm"
      },
      "outputs": [],
      "source": [
        "# Install required packages for PDF export (used at the end of the notebook)\n",
        "# !pip install nbconvert > /dev/null 2>&1\n",
        "# !pip install pdfkit > /dev/null 2>&1\n",
        "# !apt-get install -y wkhtmltopdf > /dev/null 2>&1\n",
        "\n",
        "# Import system and utility libraries\n",
        "import os\n",
        "import pdfkit\n",
        "import contextlib\n",
        "import sys\n",
        "# from google.colab import files\n",
        "\n",
        "# Import data science libraries\n",
        "import matplotlib.pyplot as plt\n",
        "import numpy as np\n",
        "import pandas as pd\n",
        "\n",
        "# add more imports if necessary"
      ]
    },
    {
      "cell_type": "markdown",
      "metadata": {
        "id": "7Z0sSMySHB-Z"
      },
      "source": [
        "# Part 0: (5 pts) Data and preprocessing\n",
        "\n",
        "---\n",
        "### Data access\n",
        "Follow these steps to access the datasets:\n",
        "1. On Canvas, download the following files:\n",
        "- `IA1_train.csv` (training data)\n",
        "- `IA1_val.csv` (validation data)\n",
        "2. Upload both files to your Google Drive at:\n",
        "```\n",
        "/My Drive/AI534/\n",
        "```\n",
        "3. Mount Google Drive in Colab using the following code block, which assumes specific file paths for your files."
      ]
    },
    {
      "cell_type": "code",
      "execution_count": 3,
      "metadata": {
        "id": "E6K8DsDcwjS6"
      },
      "outputs": [],
      "source": [
        "# from google.colab import drive\n",
        "# drive.mount('/content/gdrive')\n",
        "\n",
        "# train_path = '/content/gdrive/My Drive/AI534/IA1_train.csv' # DO NOT MODIFY THIS. Please make sure your data has this exact path\n",
        "# val_path = '/content/gdrive/My Drive/AI534/IA1_val.csv' # DO NOT MODIFY THIS. Please make sure your data has this exact path\n",
        "\n",
        "train_path = './IA1_train.csv' # DO NOT MODIFY THIS. Please make sure your data has this exact path\n",
        "val_path = './IA1_dev.csv' # DO NOT MODIFY THIS. Please make sure your data has this exact path"
      ]
    },
    {
      "cell_type": "markdown",
      "metadata": {
        "id": "nsuGx9oFxRu3"
      },
      "source": [
        "Now load the training and validation data."
      ]
    },
    {
      "cell_type": "code",
      "execution_count": 4,
      "metadata": {
        "id": "9uTz8ldzx0EM"
      },
      "outputs": [
        {
          "data": {
            "text/html": [
              "<div>\n",
              "<style scoped>\n",
              "    .dataframe tbody tr th:only-of-type {\n",
              "        vertical-align: middle;\n",
              "    }\n",
              "\n",
              "    .dataframe tbody tr th {\n",
              "        vertical-align: top;\n",
              "    }\n",
              "\n",
              "    .dataframe thead th {\n",
              "        text-align: right;\n",
              "    }\n",
              "</style>\n",
              "<table border=\"1\" class=\"dataframe\">\n",
              "  <thead>\n",
              "    <tr style=\"text-align: right;\">\n",
              "      <th></th>\n",
              "      <th>id</th>\n",
              "      <th>date</th>\n",
              "      <th>bedrooms</th>\n",
              "      <th>bathrooms</th>\n",
              "      <th>sqft_living</th>\n",
              "      <th>sqft_lot</th>\n",
              "      <th>floors</th>\n",
              "      <th>waterfront</th>\n",
              "      <th>view</th>\n",
              "      <th>condition</th>\n",
              "      <th>...</th>\n",
              "      <th>sqft_above</th>\n",
              "      <th>sqft_basement</th>\n",
              "      <th>yr_built</th>\n",
              "      <th>yr_renovated</th>\n",
              "      <th>zipcode</th>\n",
              "      <th>lat</th>\n",
              "      <th>long</th>\n",
              "      <th>sqft_living15</th>\n",
              "      <th>sqft_lot15</th>\n",
              "      <th>price</th>\n",
              "    </tr>\n",
              "  </thead>\n",
              "  <tbody>\n",
              "    <tr>\n",
              "      <th>0</th>\n",
              "      <td>7972604355</td>\n",
              "      <td>5/21/2014</td>\n",
              "      <td>3</td>\n",
              "      <td>1.00</td>\n",
              "      <td>1020</td>\n",
              "      <td>7874</td>\n",
              "      <td>1.0</td>\n",
              "      <td>0</td>\n",
              "      <td>0</td>\n",
              "      <td>3</td>\n",
              "      <td>...</td>\n",
              "      <td>1020</td>\n",
              "      <td>0</td>\n",
              "      <td>1956</td>\n",
              "      <td>0</td>\n",
              "      <td>98106</td>\n",
              "      <td>47.5175</td>\n",
              "      <td>-122.346</td>\n",
              "      <td>1290</td>\n",
              "      <td>7320</td>\n",
              "      <td>2.1800</td>\n",
              "    </tr>\n",
              "    <tr>\n",
              "      <th>1</th>\n",
              "      <td>8731951130</td>\n",
              "      <td>6/9/2014</td>\n",
              "      <td>3</td>\n",
              "      <td>2.25</td>\n",
              "      <td>2210</td>\n",
              "      <td>8000</td>\n",
              "      <td>2.0</td>\n",
              "      <td>0</td>\n",
              "      <td>0</td>\n",
              "      <td>4</td>\n",
              "      <td>...</td>\n",
              "      <td>2210</td>\n",
              "      <td>0</td>\n",
              "      <td>1969</td>\n",
              "      <td>0</td>\n",
              "      <td>98023</td>\n",
              "      <td>47.3085</td>\n",
              "      <td>-122.381</td>\n",
              "      <td>1990</td>\n",
              "      <td>8000</td>\n",
              "      <td>2.5025</td>\n",
              "    </tr>\n",
              "    <tr>\n",
              "      <th>2</th>\n",
              "      <td>7885800740</td>\n",
              "      <td>2/18/2015</td>\n",
              "      <td>4</td>\n",
              "      <td>2.50</td>\n",
              "      <td>2350</td>\n",
              "      <td>5835</td>\n",
              "      <td>2.0</td>\n",
              "      <td>0</td>\n",
              "      <td>0</td>\n",
              "      <td>3</td>\n",
              "      <td>...</td>\n",
              "      <td>2350</td>\n",
              "      <td>0</td>\n",
              "      <td>2003</td>\n",
              "      <td>0</td>\n",
              "      <td>98042</td>\n",
              "      <td>47.3494</td>\n",
              "      <td>-122.153</td>\n",
              "      <td>3010</td>\n",
              "      <td>5772</td>\n",
              "      <td>2.7000</td>\n",
              "    </tr>\n",
              "    <tr>\n",
              "      <th>3</th>\n",
              "      <td>4232900940</td>\n",
              "      <td>5/22/2014</td>\n",
              "      <td>3</td>\n",
              "      <td>1.50</td>\n",
              "      <td>1660</td>\n",
              "      <td>4800</td>\n",
              "      <td>2.0</td>\n",
              "      <td>0</td>\n",
              "      <td>0</td>\n",
              "      <td>3</td>\n",
              "      <td>...</td>\n",
              "      <td>1660</td>\n",
              "      <td>0</td>\n",
              "      <td>1907</td>\n",
              "      <td>0</td>\n",
              "      <td>98119</td>\n",
              "      <td>47.6352</td>\n",
              "      <td>-122.358</td>\n",
              "      <td>1690</td>\n",
              "      <td>4000</td>\n",
              "      <td>9.2630</td>\n",
              "    </tr>\n",
              "    <tr>\n",
              "      <th>4</th>\n",
              "      <td>3275850190</td>\n",
              "      <td>9/5/2014</td>\n",
              "      <td>3</td>\n",
              "      <td>2.50</td>\n",
              "      <td>2410</td>\n",
              "      <td>9916</td>\n",
              "      <td>2.0</td>\n",
              "      <td>0</td>\n",
              "      <td>0</td>\n",
              "      <td>4</td>\n",
              "      <td>...</td>\n",
              "      <td>2410</td>\n",
              "      <td>0</td>\n",
              "      <td>1989</td>\n",
              "      <td>0</td>\n",
              "      <td>98052</td>\n",
              "      <td>47.6911</td>\n",
              "      <td>-122.103</td>\n",
              "      <td>2310</td>\n",
              "      <td>8212</td>\n",
              "      <td>7.0000</td>\n",
              "    </tr>\n",
              "  </tbody>\n",
              "</table>\n",
              "<p>5 rows × 21 columns</p>\n",
              "</div>"
            ],
            "text/plain": [
              "           id       date  bedrooms  bathrooms  sqft_living  sqft_lot  floors  \\\n",
              "0  7972604355  5/21/2014         3       1.00         1020      7874     1.0   \n",
              "1  8731951130   6/9/2014         3       2.25         2210      8000     2.0   \n",
              "2  7885800740  2/18/2015         4       2.50         2350      5835     2.0   \n",
              "3  4232900940  5/22/2014         3       1.50         1660      4800     2.0   \n",
              "4  3275850190   9/5/2014         3       2.50         2410      9916     2.0   \n",
              "\n",
              "   waterfront  view  condition  ...  sqft_above  sqft_basement  yr_built  \\\n",
              "0           0     0          3  ...        1020              0      1956   \n",
              "1           0     0          4  ...        2210              0      1969   \n",
              "2           0     0          3  ...        2350              0      2003   \n",
              "3           0     0          3  ...        1660              0      1907   \n",
              "4           0     0          4  ...        2410              0      1989   \n",
              "\n",
              "   yr_renovated  zipcode      lat     long  sqft_living15  sqft_lot15   price  \n",
              "0             0    98106  47.5175 -122.346           1290        7320  2.1800  \n",
              "1             0    98023  47.3085 -122.381           1990        8000  2.5025  \n",
              "2             0    98042  47.3494 -122.153           3010        5772  2.7000  \n",
              "3             0    98119  47.6352 -122.358           1690        4000  9.2630  \n",
              "4             0    98052  47.6911 -122.103           2310        8212  7.0000  \n",
              "\n",
              "[5 rows x 21 columns]"
            ]
          },
          "execution_count": 4,
          "metadata": {},
          "output_type": "execute_result"
        }
      ],
      "source": [
        "train_df = pd.read_csv(train_path)\n",
        "val_df = pd.read_csv(val_path)\n",
        "\n",
        "train_df.head()"
      ]
    },
    {
      "cell_type": "markdown",
      "metadata": {
        "id": "iQkAKzeSyMds"
      },
      "source": [
        "## 🚧 Preprocessing\n",
        "Implement the preprocessing function:\n",
        "1. **Remove** the *ID* column from both training and validation data\n",
        "2. **Extract date components** Convert the 'date' column into 3 numerical features: 'day', 'month' and 'year'\n",
        "3. **Create a new feature 'age_since_renovated'** to replace the inconsistent 'yr_renovated'.  is set to 0 if the house has not been renovated. This creates an inconsistent meaning to the numerical values. Replace it with a new feature called *age_since_renovated*:\n",
        "\n",
        ">if *yr_renovate* != 0\n",
        ">> *age_since_renovated* = *year* - *yr\\_renovated*  \n",
        "\n",
        ">else\n",
        ">> *age\\_since\\_renovated = year - yr\\_built*\n",
        "\n",
        "4. **Normalize features using z-score normalization** (except the target 'price')\n",
        "For each feature 'x':\n",
        "$$ z=\\frac{x-\\mu}{\\sigma} $$\n",
        "\n",
        "where:\n",
        " $\\mu$ is the mean of 'x' in the training set\n",
        " $\\sigma$ is the standard deviation of 'x' in the training set\n",
        "\n",
        "Apply the same $\\mu$ and $\\sigma$ from the training data to normalize both the training and validation data.\n",
        "\n",
        "\n"
      ]
    },
    {
      "cell_type": "code",
      "execution_count": 13,
      "metadata": {
        "id": "foN0WXP43pdC"
      },
      "outputs": [],
      "source": [
        "\n",
        "def preprocess(train_df, val_df):\n",
        "    # Your code goes here\n",
        "    _train_df = train_df.drop(columns=\"id\")\n",
        "    _val_df = val_df.drop(columns=\"id\")\n",
        "\n",
        "    #Process date\n",
        "    _train_df[\"date\"] = pd.to_datetime(_train_df[\"date\"])\n",
        "    _train_df[\"day\"] = _train_df[\"date\"].dt.day\n",
        "    _train_df[\"year\"] = _train_df[\"date\"].dt.year\n",
        "    _train_df[\"month\"] = _train_df[\"date\"].dt.month\n",
        "\n",
        "    _train_df[\"age_since_renovated\"] = np.where(_train_df[\"yr_renovated\"] != 0, _train_df[\"year\"]-_train_df[\"yr_renovated\"], _train_df[\"year\"]-_train_df[\"yr_built\"])\n",
        "\n",
        "\n",
        "    _train_df = _train_df.drop(columns='date')\n",
        "\n",
        "    _val_df[\"date\"] = pd.to_datetime(_val_df[\"date\"])\n",
        "    _val_df[\"day\"] = _val_df[\"date\"].dt.day\n",
        "    _val_df[\"year\"] = _val_df[\"date\"].dt.year\n",
        "    _val_df[\"month\"] = _val_df[\"date\"].dt.month\n",
        "\n",
        "    _val_df = _val_df.drop(columns='date')\n",
        "\n",
        "    _val_df[\"age_since_renovated\"] = np.where(_val_df[\"yr_renovated\"] != 0, _val_df[\"year\"]-_val_df[\"yr_renovated\"], _val_df[\"year\"]-_val_df[\"yr_built\"])\n",
        "\n",
        "    #Normalize all columns except price\n",
        "    for col_name in _train_df.drop(columns=['price']).columns:\n",
        "        mu = _train_df[col_name].mean()\n",
        "        sigma =_train_df[col_name].std()\n",
        "        \n",
        "        _train_df[col_name] = (_train_df[col_name] - mu) / sigma\n",
        "        _val_df[col_name] = (_val_df[col_name] - mu) / sigma\n",
        "\n",
        "    return _train_df.drop(columns=['price']), _val_df.drop(columns=['price']), _train_df[\"price\"], _val_df[\"price\"]\n"
      ]
    },
    {
      "cell_type": "markdown",
      "metadata": {
        "id": "WmnQIMbV6nkq"
      },
      "source": [
        "Let's do a quick testing of your normalization, please\n",
        "1. Estimate and print the new mean and standard deviation of the normalized features for the training data --- this should be 0 and 1 respectively.  \n",
        "2. Estimate and print the new mean and standard deviation of the normalized features for the validation data --- these values will not be 0 and 1, but somewhat close"
      ]
    },
    {
      "cell_type": "code",
      "execution_count": 14,
      "metadata": {
        "id": "KIGpj-8v5aFS"
      },
      "outputs": [
        {
          "name": "stdout",
          "output_type": "stream",
          "text": [
            "Training set (normalized features):\n",
            "Mean: [0.0, -0.0, 0.0, -0.0, 0.0, 0.0, 0.0, 0.0, 0.0, -0.0, 0.0, 0.0, -0.0, 0.0, -0.0, 0.0, 0.0, -0.0, -0.0, 0.0, -0.0, -0.0]\n",
            "Std:  [1.0, 1.0, 1.0, 1.0, 1.0, 1.0, 1.0, 1.0, 1.0, 1.0, 1.0, 1.0, 1.0, 1.0, 1.0, 1.0, 1.0, 1.0, 1.0, 1.0, 1.0, 1.0]\n",
            "\n",
            "Validation set (normalized features):\n",
            "Mean: [0.01, -0.01, 0.01, 0.01, 0.02, 0.02, 0.0, -0.06, 0.06, 0.03, -0.02, 0.02, 0.01, -0.03, -0.02, 0.02, 0.05, -0.01, -0.02, 0.01, -0.02, -0.02]\n",
            "Std:  [0.89, 1.0, 0.99, 0.91, 0.99, 1.09, 1.03, 0.98, 1.03, 1.0, 0.98, 1.0, 1.03, 1.01, 1.0, 0.99, 1.05, 0.79, 1.01, 1.0, 0.98, 1.0]\n"
          ]
        }
      ],
      "source": [
        "# Apply preprocessing\n",
        "X_train, X_val, y_train, y_val = preprocess(train_df, val_df)\n",
        "\n",
        "# Print training set stats\n",
        "print(\"Training set (normalized features):\")\n",
        "print(\"Mean:\", X_train.mean().round(2).to_list())\n",
        "print(\"Std: \", X_train.std().round(2).to_list())\n",
        "\n",
        "# Print validation set stats\n",
        "print(\"\\nValidation set (normalized features):\")\n",
        "print(\"Mean:\", X_val.mean().round(2).to_list())\n",
        "print(\"Std: \", X_val.std().round(2).to_list())\n"
      ]
    },
    {
      "cell_type": "markdown",
      "metadata": {
        "id": "6_ifN_sv66Lt"
      },
      "source": [
        "\n",
        "## ✍️ Question\n",
        "Why is it import to use the same $\\mu$ and $\\sigma$ to perform normalization on the training and validation data? What would happen if we use $\\mu$ and $\\sigma$ estimated using the validation to perform normalization on the validation data?  \n"
      ]
    },
    {
      "cell_type": "markdown",
      "metadata": {
        "id": "LqL-ygV7ewdv"
      },
      "source": [
        "**Answer:**\n",
        "**If we use the mean and std from the validation data to normalize the validation data, we would be providing information about the validation data through the mean and std. Since we want to validate our model using the validation data, we have to avoid letting the model know how the validation data looks like before hand, we do this by using the training data mean and std. Otherwise our model would \"see\" how the validation data looks like by the way it is normalized, and this will invalidate any evaluation we do with the validation data.**"
      ]
    },
    {
      "cell_type": "markdown",
      "metadata": {
        "id": "C4djL2J-By8Y"
      },
      "source": [
        "# Part 1 (10 pts) Generate closed-form solution for reference.\n",
        "\n",
        "Before we implement gradient descent, we’ll begin by solving linear regression using the **closed-form solution** as a reference point.\n",
        "\n",
        "Our data now contains 21 numeric features. Including the bias term $w_0$, the learned weight vector should have 22 dimensions.\n",
        "\n"
      ]
    },
    {
      "cell_type": "markdown",
      "metadata": {
        "id": "hg1ynVYnRsNq"
      },
      "source": [
        "## 🚧 Implement closed-form solution for linear regression\n",
        "Write a function to compute the weight vector for linear regression using the **closed-form solution** (also known as the normal equation):\n",
        "$$\n",
        "\\mathbf{w} = (\\mathbf{X}^T \\mathbf{X})^{-1} \\mathbf{X}^T \\mathbf{y}\n",
        "$$\n",
        "\n",
        "You may use NumPy's build-in matrix operations. For numerical stability, we recommend using `np.linalg.pinv()` when computing the inverse.\n",
        "\n",
        "Your function should take the feature matrix and target vector as input, and return the learned weight vector \\( \\mathbf{w} \\)."
      ]
    },
    {
      "cell_type": "code",
      "execution_count": 1,
      "metadata": {
        "id": "sc2kX8JxXLiI"
      },
      "outputs": [],
      "source": [
        "def closed_form_linear_regression(X, y):\n",
        "    \"\"\"\n",
        "    Compute weights for linear regression using the closed-form solution.\n",
        "\n",
        "    Args:\n",
        "        X (ndarray): Feature matrix of shape (n_samples, n_features)\n",
        "        y (ndarray): Target vector of shape (n_samples,)\n",
        "\n",
        "    Returns:\n",
        "        w (ndarray): Weight vector of shape (n_features,)\n",
        "    \"\"\"\n",
        "    # Your code goes here\n",
        "\n",
        "    w=np.linalg.pinv(X.T.dot(X)).dot(X.T).dot(y)\n",
        "    return w\n"
      ]
    },
    {
      "cell_type": "markdown",
      "metadata": {
        "id": "IhNJnMh3S55j"
      },
      "source": [
        "## 🚧 Apply and evaluate the model\n",
        "1. Use your `closed_form_linear_regression()` function to learn weights from the **training data**.\n",
        "2. Use the learned weights to make predictions on both **training** and **validation** sets.\n",
        "3. Report the **Mean Squared Error (MSE)** for both sets.\n",
        "4. Print the learned weight vector (should have 22 values: 21 features + bias)."
      ]
    },
    {
      "cell_type": "code",
      "execution_count": 35,
      "metadata": {
        "id": "vvsCJ_8ATgGI"
      },
      "outputs": [
        {
          "name": "stdout",
          "output_type": "stream",
          "text": [
            "MSE_Train: 1.3413979288308422\n",
            "MSE_Val: 5.41402293257365\n",
            "Learned weight vector: [-0.28101388  0.33929257  0.76228256  0.0580919   0.01971891  0.32714501\n",
            "  0.44583096  0.19976084  1.11719537  0.75470832  0.15598767 -0.76291067\n",
            "  0.05447898 -0.26346066  0.83634846 -0.30344009  0.14389482 -0.09936385\n",
            " -0.05049912  0.17241986  0.05545877  0.01715014]\n",
            "bedrooms: -0.28101388314451364\n",
            "bathrooms: 0.3392925711352849\n",
            "sqft_living: 0.7622825637295012\n",
            "sqft_lot: 0.05809190325742661\n",
            "floors: 0.019718914892372777\n",
            "waterfront: 0.32714500752829684\n",
            "view: 0.44583096173731196\n",
            "condition: 0.19976083911520712\n",
            "grade: 1.1171953729163286\n",
            "sqft_above: 0.7547083184347432\n",
            "sqft_basement: 0.15598766980858414\n",
            "yr_built: -0.7629106656297356\n",
            "yr_renovated: 0.05447898238665083\n",
            "zipcode: -0.263460658486948\n",
            "lat: 0.8363484586234192\n",
            "long: -0.30344009362493285\n",
            "sqft_living15: 0.14389482170249646\n",
            "sqft_lot15: -0.09936385056446054\n",
            "day: -0.05049911979420463\n",
            "year: 0.17241986135808937\n",
            "month: 0.05545876839507307\n",
            "age_since_renovated: 0.017150141988409418\n"
          ]
        }
      ],
      "source": [
        "# Your Code goes here\n",
        "w=closed_form_linear_regression(X_train, y_train)\n",
        "\n",
        "x_train_list = [row.to_numpy() for _, row in X_train.iterrows()]\n",
        "y_train_list = y_train.tolist()\n",
        "\n",
        "\n",
        "x_val_list = [row.to_numpy() for _, row in X_val.iterrows()]\n",
        "y_val_list = y_val.tolist()\n",
        "\n",
        "mse_train = 0\n",
        "mse_val = 0\n",
        "\n",
        "for x_t, x_v, y_t, y_v in zip(x_train_list, x_val_list, y_train_list, y_val_list):\n",
        "    y_train_pred = w.T.dot(x_t)\n",
        "    mse_train += (y_t-y_train_pred) * (1/len(y_train_list))\n",
        "\n",
        "    y_val_pred = w.T.dot(x_v)\n",
        "\n",
        "    mse_val += (y_v-y_val_pred) * (1/len(y_val_list))\n",
        "\n",
        "print(f\"MSE_Train: {mse_train}\")\n",
        "print(f\"MSE_Val: {mse_val}\")\n",
        "\n",
        "print(f\"Learned weight vector: {w}\")\n",
        "\n",
        "feature_weight_dict = dict(zip(X_train.columns.tolist(), w.tolist()))\n",
        "for key in feature_weight_dict:\n",
        "    print (f\"{key}: {feature_weight_dict[key]}\")"
      ]
    },
    {
      "cell_type": "markdown",
      "metadata": {
        "id": "DIn4qhdOftK9"
      },
      "source": [
        "## ✍️ Question\n",
        "The learned feature weights are often used  to understand the importance of the features. The sign of the weights indicates if a feature positively or negatively impact the price, and the magnitude suggests the strength of the impact. Does the sign of all the features match your expection based on your common-sense understanding of what makes a house expensive? Please hightlight any surprises from the results.\n"
      ]
    },
    {
      "cell_type": "markdown",
      "metadata": {
        "id": "0l6zfscrfBgs"
      },
      "source": [
        "**Answer:**\n",
        "**Generally the features match my expectation of what makes a house expensive, however there are some features that caught my attention. First I was expecting the number of bedrooms to have a positive impact on the price however in this dataset it has a negative impact with a weight of -0.28. I was surprised to see that the largest positive weight was attributed the grade given to the house. I was also surprised by the small positive impact of sqft_lot, i was expecting the size of the land to be of much more importance to the price.**"
      ]
    },
    {
      "cell_type": "markdown",
      "metadata": {
        "id": "DhGbxDUIWUtZ"
      },
      "source": [
        "# Part 2 (35 pts) Implement and experiment with batch gradient descent\n",
        "\n",
        "In this part, you will implement batch gradient descent for linear regression and experiment with it on the given data."
      ]
    },
    {
      "cell_type": "markdown",
      "metadata": {
        "id": "P_aqamSiUnc2"
      },
      "source": [
        "## 🚧 Implement 'batch_gradient_descent' function\n",
        "\n",
        "Your function should take following **inputs:**\n",
        "- `X` : training feature matrix (shape: n_samples × d)\n",
        "- `y` : target vector (shape: n_samples)\n",
        "- `gamma` : learning rate \\( \\gamma \\)\n",
        "- `T` : number of iterations (epochs)\n",
        "- `epsilon_loss` *(optional)*: convergence threshold for loss \\( \\epsilon_l \\)\n",
        "- `epsilon_grad` *(optional)*: convergence threshold for gradient norm \\( \\epsilon_g \\)\n",
        "\n",
        "It should output:\n",
        "1. 'w': the learned $d+1$ - dimensional weight vector\n",
        "2. 'losses': list of mean squared errors for each training iteration"
      ]
    },
    {
      "cell_type": "code",
      "execution_count": 20,
      "metadata": {
        "id": "W3SKfBArbO2Y"
      },
      "outputs": [],
      "source": [
        "def batch_gradient_descent(X, y, gamma, T, epsilon_loss=None, epsilon_grad=None):\n",
        "    \"\"\"\n",
        "    Perform batch gradient descent for linear regression.\n",
        "\n",
        "    Args:\n",
        "        X (ndarray): Feature matrix (n_samples, n_features)\n",
        "        y (ndarray): Target vector (n_samples,)\n",
        "        gamma (float): Learning rate\n",
        "        T (int): Number of iterations (epochs)\n",
        "        epsilon_loss (float, optional): Convergence threshold for loss\n",
        "        epsilon_grad (float, optional): Convergence threshold for gradient norm\n",
        "\n",
        "    Returns:\n",
        "        w (ndarray): Learned weight vector (d+1, includes bias)\n",
        "        losses (list): MSE loss at each epoch\n",
        "    \"\"\"\n",
        "    # Your code goes here"
      ]
    },
    {
      "cell_type": "markdown",
      "metadata": {
        "id": "c4kKoNUIbi7r"
      },
      "source": [
        "## 🚧 Experiment with different learning rate\n",
        "Use your 'batch_gradient_descent' function to\n",
        "1. Train models on the training data with learning rates $\\gamma = 10^{-i}$ for $i = 0, 1, 2, 3, 4$.\n",
        "2. Train for up to 3000 iterations (stop early if the loss converges or diverges).\n",
        "3. For each converging (not necessarily converged yet) learning rate, compute and report the final MSE on the **validation set**.\n",
        "4. Plot the **training loss curves** (MSE vs. iterations) for all converging learning rates.\n",
        "   - Use different colors for each learning rate\n",
        "   - Include a legend"
      ]
    },
    {
      "cell_type": "code",
      "execution_count": 21,
      "metadata": {
        "id": "Zigtq7OhbQDR"
      },
      "outputs": [],
      "source": [
        "# Your code goes here"
      ]
    },
    {
      "cell_type": "markdown",
      "metadata": {
        "id": "QLewEsdZbShd"
      },
      "source": [
        "## ✍️ Question\n",
        "\n",
        "Which learning rate leads to the best training and validation MSE respectively? Do you observe better training MSE tend to correpsond to better validation MSE? How is this different from the trend shown on page 52 (or vicinity) of the lecture slides (titled 'danger of using training loss to select M') regarding overfitting? Is there any issue with using training loss to pick learning rate in this case?"
      ]
    },
    {
      "cell_type": "markdown",
      "metadata": {
        "id": "LH2gZ8aLkRq9"
      },
      "source": [
        "**Your answer goes here.**"
      ]
    },
    {
      "cell_type": "markdown",
      "metadata": {
        "id": "-_FelVO1km4e"
      },
      "source": [
        "# Part 3. More exploration."
      ]
    },
    {
      "cell_type": "markdown",
      "metadata": {
        "id": "PPga1ENbSkm1"
      },
      "source": [
        "## **3(a). (25 pts) Normalization of features: what is the impact?**\n",
        "In part 1, you were asked to perform z-score normalization of all the features. In this part, we will ask you to first conceptually think about what is the impact this operation on the solution and then use some experiments to varify your conceptual understanding."
      ]
    },
    {
      "cell_type": "markdown",
      "metadata": {
        "id": "PPYb-oTeFt8B"
      },
      "source": [
        "## ✍️ **Questions.**\n",
        "\n",
        "The normalization process applies a linear transformation to each feature, where the transformed feature $x'$ is simply a linear function of original feature $x$: $x'=\\frac{x-\\mu}{\\sigma}$.\n",
        "\n",
        "Let's disect the influence of this transformation on our learned linear regression model.\n",
        "1. How do you think this transformation will influnce the training and validation MSE we get for the closed-form solution? Why?\n",
        "2. How do you think this will change the magnitude of the weights of the learned model? Why?\n",
        "3. How do you think this will change the convergence behavior of the batch gradient descent algorithm? Why?"
      ]
    },
    {
      "cell_type": "markdown",
      "metadata": {
        "id": "liLbn0htPA3v"
      },
      "source": [
        "**Your answer goes here.**"
      ]
    },
    {
      "cell_type": "markdown",
      "metadata": {
        "id": "uti32GaMPGwD"
      },
      "source": [
        "## 🚧Experimental verification\n",
        "Now please perform the following experiments to verify your answer to the above questions.\n",
        "1. Apply 'closed_form_linear_regression' to training data that did not go through the feature normalization step, and report the learned weights and the resulting training and testing MSEs.\n",
        "\n",
        "2. Apply 'batch_gradient_descent' to training data that did not go through the feature normalization step using different learning rates. Note that the learning rate used in previous section will no longer work here. You will need to search for an appropriate learning rate to get some converging behavior. Plot your MSE loss curve as a function of the epochs once you identify a convergent learning rate.\n",
        "Hint: the learning rate needs to be much, much,much, much, much, much, much smaller (think about each much as an order of manitude) than what was used in part 2). Also unless you let it run for a long time, it is unlikely to converge to the same level of loss values. So use a reasonable upper bound on the # of iterations so that it won't take forever."
      ]
    },
    {
      "cell_type": "code",
      "execution_count": 22,
      "metadata": {
        "id": "cfqvAxFpkhAn"
      },
      "outputs": [],
      "source": [
        "# Your code goes here"
      ]
    },
    {
      "cell_type": "markdown",
      "metadata": {
        "id": "IqECgJNNQhzM"
      },
      "source": [
        "## ✍️ Questions\n",
        "\n",
        "Please revisit the questions above. Does your experiment confirm your expectation?  Can you provide explanations to the observed differences (or lack of differences) between the normalized data and unnormalized data? Based on these observations and your understanding of them, please comment on the benefits of normalizing the input features in learning for linear regressions.\n"
      ]
    },
    {
      "cell_type": "markdown",
      "metadata": {
        "id": "lAiBYtRZROtt"
      },
      "source": [
        "**Your answer goes here**"
      ]
    },
    {
      "cell_type": "markdown",
      "metadata": {
        "id": "4-sVWZX-SZzS"
      },
      "source": [
        "## **3(b). (15 pts) Explore the impact of correlated features**\n",
        "\n",
        "In the warm up exercise, you all have seen some features are highly correlated with one another. For example, there are multiple squared footage related features that are strongly correlated (e.g., *sqft_above* and *sqrt_living* has a correlation coefficient of 0.878).  This is referred to as multicollinearity phenomeon, where two or more features are correlated.\n",
        "\n",
        "There are numerous consequences from multicollinearity. It makes it more challenging to estimate the weights of the features accurately. The weights may become unstable, and their interpretation becomes less clear.\n",
        "\n",
        "In this part you will work with the pre-processed training set, and perform the following experiments to examine how correlated features affect the stability of learned weights."
      ]
    },
    {
      "cell_type": "markdown",
      "metadata": {
        "id": "bETVJ5sKYSwm"
      },
      "source": [
        " ## 🚧Experiment to investigate impact of correlated features\n",
        "Conduct following experiments.\n",
        "1. **Create five training subsets**:  Randomly subsample 75% of the orginial preprocessed training set to form five slightly different training sets.\n",
        "2. **Fit models**:  Use your 'closed_form_linear_regression' function to train a linear regression model on each of the five training sets.\n",
        "3. **Report learned weights in a table**:  \n",
        "   - The table should have **five rows** (one for each model)  \n",
        "   - Each column corresponds to a **feature’s weight**  \n",
        "   - Include a **header row** with the feature names\n",
        "\n",
        "4. **Report the variance of weights across models**:  \n",
        "   Include an additional row to the above table to report for each feature, the variance of its learned weight coefficients across the five models.  This variance serves as a measure of the **stability** of the weight assigned to each feature. Larger variance suggests lower stability.\n",
        "  \n",
        "  Note: We use 5 random training subset here to get a rough sense of weight stability. For more robust analysis, you could increase this to 10 or more runs.\n",
        "\n"
      ]
    },
    {
      "cell_type": "code",
      "execution_count": 23,
      "metadata": {
        "id": "SSoQZp6egyR2"
      },
      "outputs": [],
      "source": [
        "# Your code goes here"
      ]
    },
    {
      "cell_type": "markdown",
      "metadata": {
        "id": "vodiypKgh26u"
      },
      "source": [
        "## ✍️ Questions\n",
        "Ideally, we want the learned weight coefficients to be **stable across different runs**, as this indicates a more **reliable and interpretable** model.\n",
        "- Based on the variances you computed:\n",
        "  - Do features with **high correlation to others** tend to show **more instability** in their weights across different training subsets?\n",
        "  - What trends do you observe?\n",
        "- Use a **correlation matrix** of the input features to support your observations. Which features appear most correlated?\n",
        "- What implications does this have for interpreting feature importance in your model?\n"
      ]
    },
    {
      "cell_type": "markdown",
      "metadata": {
        "id": "3xc4Aik1ikzE"
      },
      "source": [
        "**Your answer goes here.**"
      ]
    },
    {
      "cell_type": "markdown",
      "metadata": {
        "id": "Ej_IvVZEkS3j"
      },
      "source": [
        "# Kaggle competition (10 pts)\n",
        "In this section, you will try to build your best model on the given training data and apply it to the provided test data and submit the predictions for the class-wide competition on Kaggle.\n",
        "\n",
        "**Model restriction.** You must use linear regression (without regularization) as your predictive model. No advanced models, such as Ridge, Lasso, tree-based models, neural networks, or other complex learners are not allowed.\n",
        "\n",
        "**Implementation note.** For this part, you are allowed to use a standard library implementation (e.g., 'sklearn.linear_model.LinearRegression') to speed up experimentation.\n",
        "\n",
        "**Exploration encouraged.** You are encouraged to explore:\n",
        "- feature engineering such as removing, transforming features, constructing new features based on existing ones, using different encoding for the discrete features;\n",
        "- training data filtering/modification such as identifying and removing potential outliers in the training data;\n",
        "- target manipulation such as normalizing, or log transforming the prediction target\n",
        "\n",
        "**Fair play and have fun!** The spirit of this competition is for you to learn how far linear regression can go when paired with thoughtful data preparation.\n",
        "\n",
        "To participate in this competition, use the following link:\n",
        "https://www.kaggle.com/t/7e07d14f327c4ee1babd526d4ccf0701\n",
        "\n",
        "\n",
        "**Team work.** You should continue working in the same team for this competition. Make sure to note in your submission your kaggle team name.\n",
        "\n",
        "**How to sumbit.**\n",
        "Your submission should include the prediction for every test sample. The file must be a CSV with two columns: `id` and `price`.\n",
        "- `id` is the unique identifier for each instance as provided in the test data PA1_test1.csv  \n",
        "- `price` is your predicted result.\n",
        "Your file should start with a header row (`id, price`) and followed by $N$ rows, one per test sample.\n",
        "\n",
        "\n",
        "**Competition evluation. ** The competition has two leaderboards: the public leader board as well as the private leader board. The results on the public leader board are visible through out the competition so that you can tell how well your model works compared to others and use it to pick the best models to make submission for the private leader board. Each team will be allowed to submit 3 entries to be evaluated on the private leaderboard for the final performance. The results on the private leaderboard will be released after the competition is closed.\n",
        "\n",
        "**Points and bonus points.** You will get the full 10 points if you\n",
        "- participate in the competition (successful submissions)\n",
        "\n",
        "- achieve non-trivial performance (outperform some simple baseline)\n",
        "\n",
        "- complete the report on the competition below.\n",
        "\n",
        "You will get **3 nonus points** if your team scored top 3 on the private leader board, or entered the largest number of unique submissions (unique sores).\n",
        "\n",
        "**No late submission.** The competition will be closed at 11:59 pm of the due date. No late submission will be allowed for this portion of the assignment to ensure fairness.\n"
      ]
    },
    {
      "cell_type": "markdown",
      "metadata": {
        "id": "9ISiBeSLtphi"
      },
      "source": [
        "## ✍️ Report on the Kaggle competition\n",
        "\n",
        "1. **Team name**:\n",
        "2. **Exploration Summary:** Brief describe the approches you tried. 3. **Most Impactful Change: ** Which exploration led to the most performance improvement, and why do you think it helped?\n"
      ]
    },
    {
      "cell_type": "code",
      "execution_count": 24,
      "metadata": {
        "id": "VBJ-Uzzk7yIC"
      },
      "outputs": [
        {
          "name": "stdout",
          "output_type": "stream",
          "text": [
            "usage: jupyter [-h] [--version] [--config-dir] [--data-dir] [--runtime-dir]\n",
            "               [--paths] [--json] [--debug]\n",
            "               [subcommand]\n",
            "\n",
            "Jupyter: Interactive Computing\n",
            "\n",
            "positional arguments:\n",
            "  subcommand     the subcommand to launch\n",
            "\n",
            "options:\n",
            "  -h, --help     show this help message and exit\n",
            "  --version      show the versions of core jupyter packages and exit\n",
            "  --config-dir   show Jupyter config dir\n",
            "  --data-dir     show Jupyter data dir\n",
            "  --runtime-dir  show Jupyter runtime dir\n",
            "  --paths        show all Jupyter paths. Add --json for machine-readable\n",
            "                 format.\n",
            "  --json         output paths as machine-readable json\n",
            "  --debug        output debug information about paths\n",
            "\n",
            "Available subcommands: kernel kernelspec migrate run troubleshoot\n",
            "\n",
            "Jupyter command `jupyter-nbconvert` not found.\n"
          ]
        },
        {
          "ename": "OSError",
          "evalue": "No such file: /content/gdrive/MyDrive/Colab Notebooks/IA1-2025.html",
          "output_type": "error",
          "traceback": [
            "\u001b[31m---------------------------------------------------------------------------\u001b[39m",
            "\u001b[31mOSError\u001b[39m                                   Traceback (most recent call last)",
            "\u001b[36mCell\u001b[39m\u001b[36m \u001b[39m\u001b[32mIn[24]\u001b[39m\u001b[32m, line 15\u001b[39m\n\u001b[32m     12\u001b[39m output_pdf = \u001b[33m'\u001b[39m\u001b[33m/content/gdrive/MyDrive/Colab Notebooks/IA1output.pdf\u001b[39m\u001b[33m'\u001b[39m \u001b[38;5;66;03m#you might need to change this path or name accordingly\u001b[39;00m\n\u001b[32m     14\u001b[39m \u001b[38;5;66;03m# Convert HTML to PDF\u001b[39;00m\n\u001b[32m---> \u001b[39m\u001b[32m15\u001b[39m \u001b[43mpdfkit\u001b[49m\u001b[43m.\u001b[49m\u001b[43mfrom_file\u001b[49m\u001b[43m(\u001b[49m\u001b[43minput_html\u001b[49m\u001b[43m,\u001b[49m\u001b[43m \u001b[49m\u001b[43moutput_pdf\u001b[49m\u001b[43m)\u001b[49m\n\u001b[32m     17\u001b[39m \u001b[38;5;66;03m# Download the generated PDF\u001b[39;00m\n\u001b[32m     18\u001b[39m files.download(output_pdf)\n",
            "\u001b[36mFile \u001b[39m\u001b[32m~/venvs/ml_class/lib/python3.12/site-packages/pdfkit/api.py:48\u001b[39m, in \u001b[36mfrom_file\u001b[39m\u001b[34m(input, output_path, options, toc, cover, css, configuration, cover_first, verbose)\u001b[39m\n\u001b[32m     30\u001b[39m \u001b[38;5;28;01mdef\u001b[39;00m\u001b[38;5;250m \u001b[39m\u001b[34mfrom_file\u001b[39m(\u001b[38;5;28minput\u001b[39m, output_path=\u001b[38;5;28;01mNone\u001b[39;00m, options=\u001b[38;5;28;01mNone\u001b[39;00m, toc=\u001b[38;5;28;01mNone\u001b[39;00m, cover=\u001b[38;5;28;01mNone\u001b[39;00m, css=\u001b[38;5;28;01mNone\u001b[39;00m,\n\u001b[32m     31\u001b[39m               configuration=\u001b[38;5;28;01mNone\u001b[39;00m, cover_first=\u001b[38;5;28;01mFalse\u001b[39;00m, verbose=\u001b[38;5;28;01mFalse\u001b[39;00m):\n\u001b[32m     32\u001b[39m \u001b[38;5;250m    \u001b[39m\u001b[33;03m\"\"\"\u001b[39;00m\n\u001b[32m     33\u001b[39m \u001b[33;03m    Convert HTML file or files to PDF document\u001b[39;00m\n\u001b[32m     34\u001b[39m \n\u001b[32m   (...)\u001b[39m\u001b[32m     45\u001b[39m \u001b[33;03m    Returns: True on success\u001b[39;00m\n\u001b[32m     46\u001b[39m \u001b[33;03m    \"\"\"\u001b[39;00m\n\u001b[32m---> \u001b[39m\u001b[32m48\u001b[39m     r = \u001b[43mPDFKit\u001b[49m\u001b[43m(\u001b[49m\u001b[38;5;28;43minput\u001b[39;49m\u001b[43m,\u001b[49m\u001b[43m \u001b[49m\u001b[33;43m'\u001b[39;49m\u001b[33;43mfile\u001b[39;49m\u001b[33;43m'\u001b[39;49m\u001b[43m,\u001b[49m\u001b[43m \u001b[49m\u001b[43moptions\u001b[49m\u001b[43m=\u001b[49m\u001b[43moptions\u001b[49m\u001b[43m,\u001b[49m\u001b[43m \u001b[49m\u001b[43mtoc\u001b[49m\u001b[43m=\u001b[49m\u001b[43mtoc\u001b[49m\u001b[43m,\u001b[49m\u001b[43m \u001b[49m\u001b[43mcover\u001b[49m\u001b[43m=\u001b[49m\u001b[43mcover\u001b[49m\u001b[43m,\u001b[49m\u001b[43m \u001b[49m\u001b[43mcss\u001b[49m\u001b[43m=\u001b[49m\u001b[43mcss\u001b[49m\u001b[43m,\u001b[49m\n\u001b[32m     49\u001b[39m \u001b[43m               \u001b[49m\u001b[43mconfiguration\u001b[49m\u001b[43m=\u001b[49m\u001b[43mconfiguration\u001b[49m\u001b[43m,\u001b[49m\u001b[43m \u001b[49m\u001b[43mcover_first\u001b[49m\u001b[43m=\u001b[49m\u001b[43mcover_first\u001b[49m\u001b[43m,\u001b[49m\u001b[43m \u001b[49m\u001b[43mverbose\u001b[49m\u001b[43m=\u001b[49m\u001b[43mverbose\u001b[49m\u001b[43m)\u001b[49m\n\u001b[32m     51\u001b[39m     \u001b[38;5;28;01mreturn\u001b[39;00m r.to_pdf(output_path)\n",
            "\u001b[36mFile \u001b[39m\u001b[32m~/venvs/ml_class/lib/python3.12/site-packages/pdfkit/pdfkit.py:44\u001b[39m, in \u001b[36mPDFKit.__init__\u001b[39m\u001b[34m(self, url_or_file, type_, options, toc, cover, css, configuration, cover_first, verbose)\u001b[39m\n\u001b[32m     41\u001b[39m \u001b[38;5;28;01mdef\u001b[39;00m\u001b[38;5;250m \u001b[39m\u001b[34m__init__\u001b[39m(\u001b[38;5;28mself\u001b[39m, url_or_file, type_, options=\u001b[38;5;28;01mNone\u001b[39;00m, toc=\u001b[38;5;28;01mNone\u001b[39;00m, cover=\u001b[38;5;28;01mNone\u001b[39;00m,\n\u001b[32m     42\u001b[39m              css=\u001b[38;5;28;01mNone\u001b[39;00m, configuration=\u001b[38;5;28;01mNone\u001b[39;00m, cover_first=\u001b[38;5;28;01mFalse\u001b[39;00m, verbose=\u001b[38;5;28;01mFalse\u001b[39;00m):\n\u001b[32m---> \u001b[39m\u001b[32m44\u001b[39m     \u001b[38;5;28mself\u001b[39m.source = \u001b[43mSource\u001b[49m\u001b[43m(\u001b[49m\u001b[43murl_or_file\u001b[49m\u001b[43m,\u001b[49m\u001b[43m \u001b[49m\u001b[43mtype_\u001b[49m\u001b[43m)\u001b[49m\n\u001b[32m     45\u001b[39m     \u001b[38;5;28mself\u001b[39m.configuration = (Configuration() \u001b[38;5;28;01mif\u001b[39;00m configuration \u001b[38;5;129;01mis\u001b[39;00m \u001b[38;5;28;01mNone\u001b[39;00m\n\u001b[32m     46\u001b[39m                           \u001b[38;5;28;01melse\u001b[39;00m configuration)\n\u001b[32m     47\u001b[39m     \u001b[38;5;28;01mtry\u001b[39;00m:\n",
            "\u001b[36mFile \u001b[39m\u001b[32m~/venvs/ml_class/lib/python3.12/site-packages/pdfkit/source.py:20\u001b[39m, in \u001b[36mSource.__init__\u001b[39m\u001b[34m(self, url_or_file, type_)\u001b[39m\n\u001b[32m     17\u001b[39m \u001b[38;5;28mself\u001b[39m.type = type_\n\u001b[32m     19\u001b[39m \u001b[38;5;28;01mif\u001b[39;00m \u001b[38;5;28mself\u001b[39m.type == \u001b[33m'\u001b[39m\u001b[33mfile\u001b[39m\u001b[33m'\u001b[39m:\n\u001b[32m---> \u001b[39m\u001b[32m20\u001b[39m     \u001b[38;5;28;43mself\u001b[39;49m\u001b[43m.\u001b[49m\u001b[43mcheckFiles\u001b[49m\u001b[43m(\u001b[49m\u001b[43m)\u001b[49m\n",
            "\u001b[36mFile \u001b[39m\u001b[32m~/venvs/ml_class/lib/python3.12/site-packages/pdfkit/source.py:40\u001b[39m, in \u001b[36mSource.checkFiles\u001b[39m\u001b[34m(self)\u001b[39m\n\u001b[32m     38\u001b[39m \u001b[38;5;28;01melse\u001b[39;00m:\n\u001b[32m     39\u001b[39m     \u001b[38;5;28;01mif\u001b[39;00m \u001b[38;5;129;01mnot\u001b[39;00m \u001b[38;5;28mhasattr\u001b[39m(\u001b[38;5;28mself\u001b[39m.source, \u001b[33m'\u001b[39m\u001b[33mread\u001b[39m\u001b[33m'\u001b[39m) \u001b[38;5;129;01mand\u001b[39;00m \u001b[38;5;129;01mnot\u001b[39;00m os.path.exists(\u001b[38;5;28mself\u001b[39m.source):\n\u001b[32m---> \u001b[39m\u001b[32m40\u001b[39m         \u001b[38;5;28;01mraise\u001b[39;00m \u001b[38;5;167;01mIOError\u001b[39;00m(\u001b[33m'\u001b[39m\u001b[33mNo such file: \u001b[39m\u001b[38;5;132;01m%s\u001b[39;00m\u001b[33m'\u001b[39m % \u001b[38;5;28mself\u001b[39m.source)\n",
            "\u001b[31mOSError\u001b[39m: No such file: /content/gdrive/MyDrive/Colab Notebooks/IA1-2025.html"
          ]
        }
      ],
      "source": [
        "#running this code block will convert this notebook and its outputs into a pdf report.\n",
        "# ⚠️ALERT! Exporting colab notebooks into a clean figure-inclusive pdf can be unreliable.\n",
        "# Sometimes output figures may not appear in your exported file.\n",
        "#\n",
        "#If this happens, please assemble your report mannually: copy relevant fgures/results\n",
        "# into a separate documents and save as PDF. Be sure to clearly lablel each figure with\n",
        "# the corresponding part number (e.g., Part 3(b)).).\n",
        "\n",
        "!jupyter nbconvert --to html /content/gdrive/MyDrive/Colab\\ Notebooks/IA1-2024.ipynb  # you might need to change this path to appropriate value to location your copy of the IA0 notebook\n",
        "\n",
        "input_html = '/content/gdrive/MyDrive/Colab Notebooks/IA1-2025.html' #you might need to change this path accordingly\n",
        "output_pdf = '/content/gdrive/MyDrive/Colab Notebooks/IA1output.pdf' #you might need to change this path or name accordingly\n",
        "\n",
        "# Convert HTML to PDF\n",
        "pdfkit.from_file(input_html, output_pdf)\n",
        "\n",
        "# Download the generated PDF\n",
        "files.download(output_pdf)"
      ]
    }
  ],
  "metadata": {
    "colab": {
      "provenance": []
    },
    "kernelspec": {
      "display_name": "ml_class",
      "language": "python",
      "name": "python3"
    },
    "language_info": {
      "codemirror_mode": {
        "name": "ipython",
        "version": 3
      },
      "file_extension": ".py",
      "mimetype": "text/x-python",
      "name": "python",
      "nbconvert_exporter": "python",
      "pygments_lexer": "ipython3",
      "version": "3.12.3"
    }
  },
  "nbformat": 4,
  "nbformat_minor": 0
}

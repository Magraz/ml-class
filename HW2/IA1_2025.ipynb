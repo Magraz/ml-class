{
  "cells": [
    {
      "cell_type": "markdown",
      "metadata": {
        "id": "zOK-6wmkFuv6"
      },
      "source": [
        "# AI534 Implementation 1\n",
        "**Deadline**: Sunday, Oct. 12, by 11:59pm\n",
        "\n",
        "**Submission Instruction**: Submit 1) your completed notebook in ipynb format, and 2) a PDF export of the completed notebook with outputs (the codeblock at the end of the notebook should automatically produce the pdf file).\n",
        "\n",
        "**Overview** In this assignment, we will implement and experiment with linear regression models to predict house prices based on various features. We will use the same housing data you explored in the warm-up assignment.\n",
        "\n",
        "We will implement two versions, one using the closed-form solution, and one using gradient descent.\n",
        "\n",
        "You may modify the starter code as you see fit, including changing the signatures of functions and adding/removing helper functions. However, please make sure that your TA can understand what you are doing and why."
      ]
    },
    {
      "cell_type": "markdown",
      "metadata": {
        "id": "aP84hVzY97rb"
      },
      "source": [
        "First lets import the necessary packages and configure the notebook environment."
      ]
    },
    {
      "cell_type": "code",
      "execution_count": 1,
      "metadata": {
        "id": "mfC82i5Bw_Cm"
      },
      "outputs": [],
      "source": [
        "# Install required packages for PDF export (used at the end of the notebook)\n",
        "# !pip install nbconvert > /dev/null 2>&1\n",
        "# !pip install pdfkit > /dev/null 2>&1\n",
        "# !apt-get install -y wkhtmltopdf > /dev/null 2>&1\n",
        "\n",
        "# Import system and utility libraries\n",
        "import os\n",
        "import pdfkit\n",
        "import contextlib\n",
        "import sys\n",
        "# from google.colab import files\n",
        "\n",
        "# Import data science libraries\n",
        "import matplotlib.pyplot as plt\n",
        "import numpy as np\n",
        "import pandas as pd\n",
        "\n",
        "# add more imports if necessary"
      ]
    },
    {
      "cell_type": "markdown",
      "metadata": {
        "id": "7Z0sSMySHB-Z"
      },
      "source": [
        "# Part 0: (5 pts) Data and preprocessing\n",
        "\n",
        "---\n",
        "### Data access\n",
        "Follow these steps to access the datasets:\n",
        "1. On Canvas, download the following files:\n",
        "- `IA1_train.csv` (training data)\n",
        "- `IA1_val.csv` (validation data)\n",
        "2. Upload both files to your Google Drive at:\n",
        "```\n",
        "/My Drive/AI534/\n",
        "```\n",
        "3. Mount Google Drive in Colab using the following code block, which assumes specific file paths for your files."
      ]
    },
    {
      "cell_type": "code",
      "execution_count": 2,
      "metadata": {
        "id": "E6K8DsDcwjS6"
      },
      "outputs": [],
      "source": [
        "# from google.colab import drive\n",
        "# drive.mount('/content/gdrive')\n",
        "\n",
        "# train_path = '/content/gdrive/My Drive/AI534/IA1_train.csv' # DO NOT MODIFY THIS. Please make sure your data has this exact path\n",
        "# val_path = '/content/gdrive/My Drive/AI534/IA1_val.csv' # DO NOT MODIFY THIS. Please make sure your data has this exact path\n",
        "\n",
        "train_path = './IA1_train.csv' # DO NOT MODIFY THIS. Please make sure your data has this exact path\n",
        "val_path = './IA1_dev.csv' # DO NOT MODIFY THIS. Please make sure your data has this exact path"
      ]
    },
    {
      "cell_type": "markdown",
      "metadata": {
        "id": "nsuGx9oFxRu3"
      },
      "source": [
        "Now load the training and validation data."
      ]
    },
    {
      "cell_type": "code",
      "execution_count": 3,
      "metadata": {
        "id": "9uTz8ldzx0EM"
      },
      "outputs": [
        {
          "data": {
            "text/html": [
              "<div>\n",
              "<style scoped>\n",
              "    .dataframe tbody tr th:only-of-type {\n",
              "        vertical-align: middle;\n",
              "    }\n",
              "\n",
              "    .dataframe tbody tr th {\n",
              "        vertical-align: top;\n",
              "    }\n",
              "\n",
              "    .dataframe thead th {\n",
              "        text-align: right;\n",
              "    }\n",
              "</style>\n",
              "<table border=\"1\" class=\"dataframe\">\n",
              "  <thead>\n",
              "    <tr style=\"text-align: right;\">\n",
              "      <th></th>\n",
              "      <th>id</th>\n",
              "      <th>date</th>\n",
              "      <th>bedrooms</th>\n",
              "      <th>bathrooms</th>\n",
              "      <th>sqft_living</th>\n",
              "      <th>sqft_lot</th>\n",
              "      <th>floors</th>\n",
              "      <th>waterfront</th>\n",
              "      <th>view</th>\n",
              "      <th>condition</th>\n",
              "      <th>...</th>\n",
              "      <th>sqft_above</th>\n",
              "      <th>sqft_basement</th>\n",
              "      <th>yr_built</th>\n",
              "      <th>yr_renovated</th>\n",
              "      <th>zipcode</th>\n",
              "      <th>lat</th>\n",
              "      <th>long</th>\n",
              "      <th>sqft_living15</th>\n",
              "      <th>sqft_lot15</th>\n",
              "      <th>price</th>\n",
              "    </tr>\n",
              "  </thead>\n",
              "  <tbody>\n",
              "    <tr>\n",
              "      <th>0</th>\n",
              "      <td>7972604355</td>\n",
              "      <td>5/21/2014</td>\n",
              "      <td>3</td>\n",
              "      <td>1.00</td>\n",
              "      <td>1020</td>\n",
              "      <td>7874</td>\n",
              "      <td>1.0</td>\n",
              "      <td>0</td>\n",
              "      <td>0</td>\n",
              "      <td>3</td>\n",
              "      <td>...</td>\n",
              "      <td>1020</td>\n",
              "      <td>0</td>\n",
              "      <td>1956</td>\n",
              "      <td>0</td>\n",
              "      <td>98106</td>\n",
              "      <td>47.5175</td>\n",
              "      <td>-122.346</td>\n",
              "      <td>1290</td>\n",
              "      <td>7320</td>\n",
              "      <td>2.1800</td>\n",
              "    </tr>\n",
              "    <tr>\n",
              "      <th>1</th>\n",
              "      <td>8731951130</td>\n",
              "      <td>6/9/2014</td>\n",
              "      <td>3</td>\n",
              "      <td>2.25</td>\n",
              "      <td>2210</td>\n",
              "      <td>8000</td>\n",
              "      <td>2.0</td>\n",
              "      <td>0</td>\n",
              "      <td>0</td>\n",
              "      <td>4</td>\n",
              "      <td>...</td>\n",
              "      <td>2210</td>\n",
              "      <td>0</td>\n",
              "      <td>1969</td>\n",
              "      <td>0</td>\n",
              "      <td>98023</td>\n",
              "      <td>47.3085</td>\n",
              "      <td>-122.381</td>\n",
              "      <td>1990</td>\n",
              "      <td>8000</td>\n",
              "      <td>2.5025</td>\n",
              "    </tr>\n",
              "    <tr>\n",
              "      <th>2</th>\n",
              "      <td>7885800740</td>\n",
              "      <td>2/18/2015</td>\n",
              "      <td>4</td>\n",
              "      <td>2.50</td>\n",
              "      <td>2350</td>\n",
              "      <td>5835</td>\n",
              "      <td>2.0</td>\n",
              "      <td>0</td>\n",
              "      <td>0</td>\n",
              "      <td>3</td>\n",
              "      <td>...</td>\n",
              "      <td>2350</td>\n",
              "      <td>0</td>\n",
              "      <td>2003</td>\n",
              "      <td>0</td>\n",
              "      <td>98042</td>\n",
              "      <td>47.3494</td>\n",
              "      <td>-122.153</td>\n",
              "      <td>3010</td>\n",
              "      <td>5772</td>\n",
              "      <td>2.7000</td>\n",
              "    </tr>\n",
              "    <tr>\n",
              "      <th>3</th>\n",
              "      <td>4232900940</td>\n",
              "      <td>5/22/2014</td>\n",
              "      <td>3</td>\n",
              "      <td>1.50</td>\n",
              "      <td>1660</td>\n",
              "      <td>4800</td>\n",
              "      <td>2.0</td>\n",
              "      <td>0</td>\n",
              "      <td>0</td>\n",
              "      <td>3</td>\n",
              "      <td>...</td>\n",
              "      <td>1660</td>\n",
              "      <td>0</td>\n",
              "      <td>1907</td>\n",
              "      <td>0</td>\n",
              "      <td>98119</td>\n",
              "      <td>47.6352</td>\n",
              "      <td>-122.358</td>\n",
              "      <td>1690</td>\n",
              "      <td>4000</td>\n",
              "      <td>9.2630</td>\n",
              "    </tr>\n",
              "    <tr>\n",
              "      <th>4</th>\n",
              "      <td>3275850190</td>\n",
              "      <td>9/5/2014</td>\n",
              "      <td>3</td>\n",
              "      <td>2.50</td>\n",
              "      <td>2410</td>\n",
              "      <td>9916</td>\n",
              "      <td>2.0</td>\n",
              "      <td>0</td>\n",
              "      <td>0</td>\n",
              "      <td>4</td>\n",
              "      <td>...</td>\n",
              "      <td>2410</td>\n",
              "      <td>0</td>\n",
              "      <td>1989</td>\n",
              "      <td>0</td>\n",
              "      <td>98052</td>\n",
              "      <td>47.6911</td>\n",
              "      <td>-122.103</td>\n",
              "      <td>2310</td>\n",
              "      <td>8212</td>\n",
              "      <td>7.0000</td>\n",
              "    </tr>\n",
              "  </tbody>\n",
              "</table>\n",
              "<p>5 rows × 21 columns</p>\n",
              "</div>"
            ],
            "text/plain": [
              "           id       date  bedrooms  bathrooms  sqft_living  sqft_lot  floors  \\\n",
              "0  7972604355  5/21/2014         3       1.00         1020      7874     1.0   \n",
              "1  8731951130   6/9/2014         3       2.25         2210      8000     2.0   \n",
              "2  7885800740  2/18/2015         4       2.50         2350      5835     2.0   \n",
              "3  4232900940  5/22/2014         3       1.50         1660      4800     2.0   \n",
              "4  3275850190   9/5/2014         3       2.50         2410      9916     2.0   \n",
              "\n",
              "   waterfront  view  condition  ...  sqft_above  sqft_basement  yr_built  \\\n",
              "0           0     0          3  ...        1020              0      1956   \n",
              "1           0     0          4  ...        2210              0      1969   \n",
              "2           0     0          3  ...        2350              0      2003   \n",
              "3           0     0          3  ...        1660              0      1907   \n",
              "4           0     0          4  ...        2410              0      1989   \n",
              "\n",
              "   yr_renovated  zipcode      lat     long  sqft_living15  sqft_lot15   price  \n",
              "0             0    98106  47.5175 -122.346           1290        7320  2.1800  \n",
              "1             0    98023  47.3085 -122.381           1990        8000  2.5025  \n",
              "2             0    98042  47.3494 -122.153           3010        5772  2.7000  \n",
              "3             0    98119  47.6352 -122.358           1690        4000  9.2630  \n",
              "4             0    98052  47.6911 -122.103           2310        8212  7.0000  \n",
              "\n",
              "[5 rows x 21 columns]"
            ]
          },
          "execution_count": 3,
          "metadata": {},
          "output_type": "execute_result"
        }
      ],
      "source": [
        "train_df = pd.read_csv(train_path)\n",
        "val_df = pd.read_csv(val_path)\n",
        "\n",
        "train_df.head()"
      ]
    },
    {
      "cell_type": "markdown",
      "metadata": {
        "id": "iQkAKzeSyMds"
      },
      "source": [
        "## 🚧 Preprocessing\n",
        "Implement the preprocessing function:\n",
        "1. **Remove** the *ID* column from both training and validation data\n",
        "2. **Extract date components** Convert the 'date' column into 3 numerical features: 'day', 'month' and 'year'\n",
        "3. **Create a new feature 'age_since_renovated'** to replace the inconsistent 'yr_renovated'.  is set to 0 if the house has not been renovated. This creates an inconsistent meaning to the numerical values. Replace it with a new feature called *age_since_renovated*:\n",
        "\n",
        ">if *yr_renovate* != 0\n",
        ">> *age_since_renovated* = *year* - *yr\\_renovated*  \n",
        "\n",
        ">else\n",
        ">> *age\\_since\\_renovated = year - yr\\_built*\n",
        "\n",
        "4. **Normalize features using z-score normalization** (except the target 'price')\n",
        "For each feature 'x':\n",
        "$$ z=\\frac{x-\\mu}{\\sigma} $$\n",
        "\n",
        "where:\n",
        " $\\mu$ is the mean of 'x' in the training set\n",
        " $\\sigma$ is the standard deviation of 'x' in the training set\n",
        "\n",
        "Apply the same $\\mu$ and $\\sigma$ from the training data to normalize both the training and validation data.\n",
        "\n",
        "\n"
      ]
    },
    {
      "cell_type": "code",
      "execution_count": 4,
      "metadata": {
        "id": "foN0WXP43pdC"
      },
      "outputs": [],
      "source": [
        "\n",
        "def preprocess(train_df, val_df, normalize=True):\n",
        "    # Your code goes here\n",
        "    _train_df = train_df.drop(columns=\"id\")\n",
        "    _val_df = val_df.drop(columns=\"id\")\n",
        "\n",
        "    #Process date\n",
        "    _train_df[\"date\"] = pd.to_datetime(_train_df[\"date\"])\n",
        "    _train_df[\"day\"] = _train_df[\"date\"].dt.day\n",
        "    _train_df[\"year\"] = _train_df[\"date\"].dt.year\n",
        "    _train_df[\"month\"] = _train_df[\"date\"].dt.month\n",
        "\n",
        "    _train_df[\"age_since_renovated\"] = np.where(_train_df[\"yr_renovated\"] != 0, _train_df[\"year\"]-_train_df[\"yr_renovated\"], _train_df[\"year\"]-_train_df[\"yr_built\"])\n",
        "\n",
        "\n",
        "    _train_df = _train_df.drop(columns='date')\n",
        "\n",
        "    _val_df[\"date\"] = pd.to_datetime(_val_df[\"date\"])\n",
        "    _val_df[\"day\"] = _val_df[\"date\"].dt.day\n",
        "    _val_df[\"year\"] = _val_df[\"date\"].dt.year\n",
        "    _val_df[\"month\"] = _val_df[\"date\"].dt.month\n",
        "\n",
        "    _val_df = _val_df.drop(columns='date')\n",
        "\n",
        "    _val_df[\"age_since_renovated\"] = np.where(_val_df[\"yr_renovated\"] != 0, _val_df[\"year\"]-_val_df[\"yr_renovated\"], _val_df[\"year\"]-_val_df[\"yr_built\"])\n",
        "\n",
        "    #Normalize all columns except price\n",
        "    if(normalize):\n",
        "        for col_name in _train_df.drop(columns=['price']).columns:\n",
        "            mu = _train_df[col_name].mean()\n",
        "            sigma =_train_df[col_name].std()\n",
        "            \n",
        "            _train_df[col_name] = (_train_df[col_name] - mu) / sigma\n",
        "            _val_df[col_name] = (_val_df[col_name] - mu) / sigma\n",
        "\n",
        "    return _train_df.drop(columns=['price']), _val_df.drop(columns=['price']), _train_df[\"price\"], _val_df[\"price\"]\n"
      ]
    },
    {
      "cell_type": "markdown",
      "metadata": {
        "id": "WmnQIMbV6nkq"
      },
      "source": [
        "Let's do a quick testing of your normalization, please\n",
        "1. Estimate and print the new mean and standard deviation of the normalized features for the training data --- this should be 0 and 1 respectively.  \n",
        "2. Estimate and print the new mean and standard deviation of the normalized features for the validation data --- these values will not be 0 and 1, but somewhat close"
      ]
    },
    {
      "cell_type": "code",
      "execution_count": 5,
      "metadata": {
        "id": "KIGpj-8v5aFS"
      },
      "outputs": [
        {
          "name": "stdout",
          "output_type": "stream",
          "text": [
            "Training set (normalized features):\n",
            "Mean: [0.0, -0.0, 0.0, -0.0, 0.0, 0.0, 0.0, 0.0, 0.0, -0.0, 0.0, 0.0, -0.0, 0.0, -0.0, 0.0, 0.0, -0.0, -0.0, 0.0, -0.0, -0.0]\n",
            "Std:  [1.0, 1.0, 1.0, 1.0, 1.0, 1.0, 1.0, 1.0, 1.0, 1.0, 1.0, 1.0, 1.0, 1.0, 1.0, 1.0, 1.0, 1.0, 1.0, 1.0, 1.0, 1.0]\n",
            "\n",
            "Validation set (normalized features):\n",
            "Mean: [0.01, -0.01, 0.01, 0.01, 0.02, 0.02, 0.0, -0.06, 0.06, 0.03, -0.02, 0.02, 0.01, -0.03, -0.02, 0.02, 0.05, -0.01, -0.02, 0.01, -0.02, -0.02]\n",
            "Std:  [0.89, 1.0, 0.99, 0.91, 0.99, 1.09, 1.03, 0.98, 1.03, 1.0, 0.98, 1.0, 1.03, 1.01, 1.0, 0.99, 1.05, 0.79, 1.01, 1.0, 0.98, 1.0]\n"
          ]
        }
      ],
      "source": [
        "# Apply preprocessing\n",
        "X_train, X_val, y_train, y_val = preprocess(train_df, val_df)\n",
        "\n",
        "# Print training set stats\n",
        "print(\"Training set (normalized features):\")\n",
        "print(\"Mean:\", X_train.mean().round(2).to_list())\n",
        "print(\"Std: \", X_train.std().round(2).to_list())\n",
        "\n",
        "# Print validation set stats\n",
        "print(\"\\nValidation set (normalized features):\")\n",
        "print(\"Mean:\", X_val.mean().round(2).to_list())\n",
        "print(\"Std: \", X_val.std().round(2).to_list())\n"
      ]
    },
    {
      "cell_type": "markdown",
      "metadata": {
        "id": "6_ifN_sv66Lt"
      },
      "source": [
        "\n",
        "## ✍️ Question\n",
        "Why is it import to use the same $\\mu$ and $\\sigma$ to perform normalization on the training and validation data? What would happen if we use $\\mu$ and $\\sigma$ estimated using the validation to perform normalization on the validation data?  \n"
      ]
    },
    {
      "cell_type": "markdown",
      "metadata": {
        "id": "LqL-ygV7ewdv"
      },
      "source": [
        "**Answer:**\n",
        "**If we use the mean and std from the validation data to normalize the validation data, we would be providing information about the validation data through the mean and std. Since we want to validate our model using the validation data, we have to avoid letting the model know how the validation data looks like before hand, we do this by using the training data mean and std. Otherwise our model would \"see\" how the validation data looks like by the way it is normalized, and this will invalidate any evaluation we do with the validation data.**"
      ]
    },
    {
      "cell_type": "markdown",
      "metadata": {
        "id": "C4djL2J-By8Y"
      },
      "source": [
        "# Part 1 (10 pts) Generate closed-form solution for reference.\n",
        "\n",
        "Before we implement gradient descent, we’ll begin by solving linear regression using the **closed-form solution** as a reference point.\n",
        "\n",
        "Our data now contains 21 numeric features. Including the bias term $w_0$, the learned weight vector should have 22 dimensions.\n",
        "\n"
      ]
    },
    {
      "cell_type": "markdown",
      "metadata": {
        "id": "hg1ynVYnRsNq"
      },
      "source": [
        "## 🚧 Implement closed-form solution for linear regression\n",
        "Write a function to compute the weight vector for linear regression using the **closed-form solution** (also known as the normal equation):\n",
        "$$\n",
        "\\mathbf{w} = (\\mathbf{X}^T \\mathbf{X})^{-1} \\mathbf{X}^T \\mathbf{y}\n",
        "$$\n",
        "\n",
        "You may use NumPy's build-in matrix operations. For numerical stability, we recommend using `np.linalg.pinv()` when computing the inverse.\n",
        "\n",
        "Your function should take the feature matrix and target vector as input, and return the learned weight vector \\( \\mathbf{w} \\)."
      ]
    },
    {
      "cell_type": "code",
      "execution_count": 6,
      "metadata": {
        "id": "sc2kX8JxXLiI"
      },
      "outputs": [],
      "source": [
        "def closed_form_linear_regression(X, y):\n",
        "    \"\"\"\n",
        "    Compute weights for linear regression using the closed-form solution.\n",
        "\n",
        "    Args:\n",
        "        X (ndarray): Feature matrix of shape (n_samples, n_features)\n",
        "        y (ndarray): Target vector of shape (n_samples,)\n",
        "\n",
        "    Returns:\n",
        "        w (ndarray): Weight vector of shape (n_features,)\n",
        "    \"\"\"\n",
        "    # Your code goes here\n",
        "\n",
        "    w=np.linalg.pinv(X.T @ X) @ X.T @ y\n",
        "    return w\n"
      ]
    },
    {
      "cell_type": "markdown",
      "metadata": {
        "id": "IhNJnMh3S55j"
      },
      "source": [
        "## 🚧 Apply and evaluate the model\n",
        "1. Use your `closed_form_linear_regression()` function to learn weights from the **training data**.\n",
        "2. Use the learned weights to make predictions on both **training** and **validation** sets.\n",
        "3. Report the **Mean Squared Error (MSE)** for both sets.\n",
        "4. Print the learned weight vector (should have 22 values: 21 features + bias)."
      ]
    },
    {
      "cell_type": "code",
      "execution_count": 7,
      "metadata": {
        "id": "vvsCJ_8ATgGI"
      },
      "outputs": [
        {
          "name": "stdout",
          "output_type": "stream",
          "text": [
            "MSE_Train: 32.50496896499564\n",
            "MSE_Val: 33.80987791731046\n",
            "Learned weight vector: [-0.28101388  0.33929257  0.76228256  0.0580919   0.01971891  0.32714501\n",
            "  0.44583096  0.19976084  1.11719537  0.75470832  0.15598767 -0.76291067\n",
            "  0.05447898 -0.26346066  0.83634846 -0.30344009  0.14389482 -0.09936385\n",
            " -0.05049912  0.17241986  0.05545877  0.01715014]\n",
            "bedrooms: -0.2810138831445138\n",
            "bathrooms: 0.33929257113528366\n",
            "sqft_living: 0.7622825637295061\n",
            "sqft_lot: 0.058091903257427246\n",
            "floors: 0.019718914892374498\n",
            "waterfront: 0.32714500752829523\n",
            "view: 0.4458309617373124\n",
            "condition: 0.199760839115206\n",
            "grade: 1.1171953729163289\n",
            "sqft_above: 0.7547083184347386\n",
            "sqft_basement: 0.1559876698085828\n",
            "yr_built: -0.7629106656297113\n",
            "yr_renovated: 0.05447898238665705\n",
            "zipcode: -0.26346065848694766\n",
            "lat: 0.8363484586234184\n",
            "long: -0.30344009362493274\n",
            "sqft_living15: 0.14389482170249618\n",
            "sqft_lot15: -0.0993638505644607\n",
            "day: -0.05049911979420482\n",
            "year: 0.17241986135809007\n",
            "month: 0.05545876839507345\n",
            "age_since_renovated: 0.0171501419884324\n"
          ]
        }
      ],
      "source": [
        "# Your Code goes here\n",
        "w=closed_form_linear_regression(X_train.to_numpy(), y_train.to_numpy())\n",
        "\n",
        "y_train_pred = X_train.to_numpy() @ w\n",
        "\n",
        "mse_train = np.mean((y_train_pred - y_train.to_numpy())**2)\n",
        "\n",
        "y_val_pred = X_val.to_numpy() @ w \n",
        "\n",
        "mse_val = np.mean((y_val_pred - y_val.to_numpy())**2)\n",
        "\n",
        "print(f\"MSE_Train: {mse_train}\")\n",
        "print(f\"MSE_Val: {mse_val}\")\n",
        "\n",
        "print(f\"Learned weight vector: {w}\")\n",
        "\n",
        "feature_weight_dict = dict(zip(X_train.columns.tolist(), w.tolist()))\n",
        "for key in feature_weight_dict:\n",
        "    print (f\"{key}: {feature_weight_dict[key]}\")"
      ]
    },
    {
      "cell_type": "markdown",
      "metadata": {
        "id": "DIn4qhdOftK9"
      },
      "source": [
        "## ✍️ Question\n",
        "The learned feature weights are often used  to understand the importance of the features. The sign of the weights indicates if a feature positively or negatively impact the price, and the magnitude suggests the strength of the impact. Does the sign of all the features match your expection based on your common-sense understanding of what makes a house expensive? Please hightlight any surprises from the results.\n"
      ]
    },
    {
      "cell_type": "markdown",
      "metadata": {
        "id": "0l6zfscrfBgs"
      },
      "source": [
        "**Answer:**\n",
        "**Generally the features match my expectation of what makes a house expensive, however there are some features that caught my attention. First I was expecting the number of bedrooms to have a positive impact on the price however in this dataset it has a negative impact with a weight of -0.28. I was surprised to see that the largest positive weight was attributed the grade given to the house. I was also surprised by the small positive impact of sqft_lot, i was expecting the size of the land to be of much more importance to the price.**"
      ]
    },
    {
      "cell_type": "markdown",
      "metadata": {
        "id": "DhGbxDUIWUtZ"
      },
      "source": [
        "# Part 2 (35 pts) Implement and experiment with batch gradient descent\n",
        "\n",
        "In this part, you will implement batch gradient descent for linear regression and experiment with it on the given data."
      ]
    },
    {
      "cell_type": "markdown",
      "metadata": {
        "id": "P_aqamSiUnc2"
      },
      "source": [
        "## 🚧 Implement 'batch_gradient_descent' function\n",
        "\n",
        "Your function should take following **inputs:**\n",
        "- `X` : training feature matrix (shape: n_samples × d)\n",
        "- `y` : target vector (shape: n_samples)\n",
        "- `gamma` : learning rate \\( \\gamma \\)\n",
        "- `T` : number of iterations (epochs)\n",
        "- `epsilon_loss` *(optional)*: convergence threshold for loss \\( \\epsilon_l \\)\n",
        "- `epsilon_grad` *(optional)*: convergence threshold for gradient norm \\( \\epsilon_g \\)\n",
        "\n",
        "It should output:\n",
        "1. 'w': the learned $d+1$ - dimensional weight vector\n",
        "2. 'losses': list of mean squared errors for each training iteration"
      ]
    },
    {
      "cell_type": "code",
      "execution_count": 8,
      "metadata": {
        "id": "W3SKfBArbO2Y"
      },
      "outputs": [],
      "source": [
        "def batch_gradient_descent(X, y, gamma, T, epsilon_loss=None, epsilon_grad=None):\n",
        "    \"\"\"\n",
        "    Perform batch gradient descent for linear regression.\n",
        "\n",
        "    Args:\n",
        "        X (ndarray): Feature matrix (n_samples, n_features)\n",
        "        y (ndarray): Target vector (n_samples,)\n",
        "        gamma (float): Learning rate\n",
        "        T (int): Number of iterations (epochs)\n",
        "        epsilon_loss (float, optional): Convergence threshold for loss\n",
        "        epsilon_grad (float, optional): Convergence threshold for gradient norm\n",
        "\n",
        "    Returns:\n",
        "        w (ndarray): Learned weight vector (d+1, includes bias)\n",
        "        losses (list): MSE loss at each epoch\n",
        "    \"\"\"\n",
        "    # Your code goes here\n",
        "    N,d = X.shape\n",
        "    w = np.random.normal(0, 0.01, d)\n",
        "    losses = []\n",
        "    for epoch in range(T):\n",
        "\n",
        "        #Compute prediction\n",
        "        y_pred = X @ w\n",
        "\n",
        "        #Calculate loss\n",
        "        mse_loss = np.mean((y_pred-y)**2)\n",
        "\n",
        "        #Calculate gradient of the loss\n",
        "        gradient_mse = (2/N) * X.T @ (y_pred-y)\n",
        "\n",
        "        #Perform gradient descent update\n",
        "        w -= gamma * gradient_mse\n",
        "\n",
        "        #Store loss\n",
        "        losses.append(mse_loss)\n",
        "\n",
        "        if epsilon_loss is not None and epoch > 0:\n",
        "            if abs(losses[-1] - losses[-2]) < epsilon_loss:\n",
        "                print(f\"Converged at epoch {epoch}\")\n",
        "                break\n",
        "        \n",
        "        if epsilon_grad is not None:\n",
        "            if np.linalg.norm(gradient_mse) < epsilon_grad:\n",
        "                print(f\"Gradient converged at epoch {epoch}\")\n",
        "                break\n",
        "    \n",
        "    return w, losses"
      ]
    },
    {
      "cell_type": "markdown",
      "metadata": {
        "id": "c4kKoNUIbi7r"
      },
      "source": [
        "## 🚧 Experiment with different learning rate\n",
        "Use your 'batch_gradient_descent' function to\n",
        "1. Train models on the training data with learning rates $\\gamma = 10^{-i}$ for $i = 0, 1, 2, 3, 4$.\n",
        "2. Train for up to 3000 iterations (stop early if the loss converges or diverges).\n",
        "3. For each converging (not necessarily converged yet) learning rate, compute and report the final MSE on the **validation set**.\n",
        "4. Plot the **training loss curves** (MSE vs. iterations) for all converging learning rates.\n",
        "   - Use different colors for each learning rate\n",
        "   - Include a legend"
      ]
    },
    {
      "cell_type": "code",
      "execution_count": 9,
      "metadata": {
        "id": "Zigtq7OhbQDR"
      },
      "outputs": [
        {
          "name": "stdout",
          "output_type": "stream",
          "text": [
            "Learning rate: 1\n"
          ]
        },
        {
          "name": "stderr",
          "output_type": "stream",
          "text": [
            "/home/magraz/venvs/ml-class/lib/python3.10/site-packages/numpy/_core/_methods.py:135: RuntimeWarning: overflow encountered in reduce\n",
            "  ret = umr_sum(arr, axis, dtype, out, keepdims, where=where)\n",
            "/tmp/ipykernel_20421/4213706113.py:27: RuntimeWarning: overflow encountered in square\n",
            "  mse_loss = np.mean((y_pred-y)**2)\n",
            "/tmp/ipykernel_20421/4213706113.py:24: RuntimeWarning: overflow encountered in matmul\n",
            "  y_pred = X @ w\n",
            "/tmp/ipykernel_20421/4213706113.py:30: RuntimeWarning: invalid value encountered in matmul\n",
            "  gradient_mse = (2/N) * X.T @ (y_pred-y)\n"
          ]
        },
        {
          "name": "stdout",
          "output_type": "stream",
          "text": [
            "Learning rate: 0.1\n",
            "Learning rate: 0.01\n",
            "Learning rate: 0.001\n",
            "Learning rate: 0.0001\n",
            "\n",
            "Converged learning rates: [0.1, 0.01, 0.001, 0.0001]\n"
          ]
        },
        {
          "data": {
            "image/png": "[encoded data removed]",
            "text/plain": [
              "<Figure size 1200x800 with 1 Axes>"
            ]
          },
          "metadata": {},
          "output_type": "display_data"
        },
        {
          "name": "stdout",
          "output_type": "stream",
          "text": [
            "\n",
            "Validation MSE Results:\n",
            "------------------------------\n",
            "Learning rate 0.1: Training MSE = 32.504969, Validation MSE = 33.809873\n",
            "Learning rate 0.01: Training MSE = 32.505642, Validation MSE = 33.806861\n",
            "Learning rate 0.001: Training MSE = 32.517023, Validation MSE = 33.810333\n",
            "Learning rate 0.0001: Training MSE = 33.257232, Validation MSE = 34.828890\n"
          ]
        }
      ],
      "source": [
        "learning_rates = [10**-i for i in range(0,5)]\n",
        "\n",
        "w_list = []\n",
        "train_losses_list = []\n",
        "converged_rates = []\n",
        "val_mse_list = []\n",
        "\n",
        "for i, lr in enumerate(learning_rates):\n",
        "    print(f\"Learning rate: {lr}\")\n",
        "    \n",
        "    w, losses = batch_gradient_descent(X_train.to_numpy(), y_train.to_numpy(), gamma=lr, T=3000)\n",
        "    \n",
        "    # Check if converged (no NaN values)\n",
        "    if not np.any(np.isnan(w)) and not np.any(np.isnan(losses)):\n",
        "        w_list.append(w)\n",
        "        train_losses_list.append(losses)  # Fix: was appending w instead of losses\n",
        "        converged_rates.append(lr)\n",
        "        \n",
        "        # Calculate validation MSE\n",
        "        y_val_pred = X_val.to_numpy() @ w\n",
        "        val_mse = np.mean((y_val_pred - y_val.to_numpy())**2)\n",
        "        val_mse_list.append(val_mse)\n",
        "\n",
        "print(f\"\\nConverged learning rates: {converged_rates}\")\n",
        "\n",
        "# Plot training loss curves for converging learning rates\n",
        "plt.figure(figsize=(12, 8))\n",
        "colors = ['red', 'blue', 'green', 'orange', 'purple']\n",
        "\n",
        "for i, (lr, losses) in enumerate(zip(converged_rates, train_losses_list)):\n",
        "    plt.plot(losses, color=colors[i % len(colors)], label=f'γ = {lr}', linewidth=2)\n",
        "\n",
        "plt.xlabel('Epoch')\n",
        "plt.ylabel('Training MSE Loss')\n",
        "plt.title('Training Loss Curves for Different Learning Rates')\n",
        "plt.legend()\n",
        "plt.grid(True, alpha=0.3)\n",
        "plt.show()\n",
        "\n",
        "# Validation MSE for each converging learning rate\n",
        "print(\"\\nValidation MSE Results:\")\n",
        "print(\"-\" * 30)\n",
        "for lr, train_mse, val_mse in zip(converged_rates, train_losses_list, val_mse_list):\n",
        "    print(f\"Learning rate {lr}: Training MSE = {train_mse[-1]:.6f}, Validation MSE = {val_mse:.6f}\")\n"
      ]
    },
    {
      "cell_type": "markdown",
      "metadata": {
        "id": "QLewEsdZbShd"
      },
      "source": [
        "## ✍️ Question\n",
        "\n",
        "Which learning rate leads to the best training and validation MSE respectively? Do you observe better training MSE tend to correpsond to better validation MSE? How is this different from the trend shown on page 52 (or vicinity) of the lecture slides (titled 'danger of using training loss to select M') regarding overfitting? Is there any issue with using training loss to pick learning rate in this case?"
      ]
    },
    {
      "cell_type": "markdown",
      "metadata": {
        "id": "LH2gZ8aLkRq9"
      },
      "source": [
        "**Answer:**\n",
        "**The 0.1 learning rate leads to the best training MSE, while the learning rate of 0.01 leads to the best validation MSE. In this case better training MSE does tend to correspond to better validation MSE. The lecture slides mention that this is not always the case and good training MSE performance might lead to overfitting causing bad validation MSE performance. In this case there's no issue in using the training loss to pick a learning rate since we do not observe overfitting, that is the validation loss remains very close to the training loss.**"
      ]
    },
    {
      "cell_type": "markdown",
      "metadata": {
        "id": "-_FelVO1km4e"
      },
      "source": [
        "# Part 3. More exploration."
      ]
    },
    {
      "cell_type": "markdown",
      "metadata": {
        "id": "PPga1ENbSkm1"
      },
      "source": [
        "## **3(a). (25 pts) Normalization of features: what is the impact?**\n",
        "In part 1, you were asked to perform z-score normalization of all the features. In this part, we will ask you to first conceptually think about what is the impact this operation on the solution and then use some experiments to varify your conceptual understanding."
      ]
    },
    {
      "cell_type": "markdown",
      "metadata": {
        "id": "PPYb-oTeFt8B"
      },
      "source": [
        "## ✍️ **Questions.**\n",
        "\n",
        "The normalization process applies a linear transformation to each feature, where the transformed feature $x'$ is simply a linear function of original feature $x$: $x'=\\frac{x-\\mu}{\\sigma}$.\n",
        "\n",
        "Let's disect the influence of this transformation on our learned linear regression model.\n",
        "1. How do you think this transformation will influnce the training and validation MSE we get for the closed-form solution? Why?\n",
        "2. How do you think this will change the magnitude of the weights of the learned model? Why?\n",
        "3. How do you think this will change the convergence behavior of the batch gradient descent algorithm? Why?"
      ]
    },
    {
      "cell_type": "markdown",
      "metadata": {
        "id": "liLbn0htPA3v"
      },
      "source": [
        "**Answer**\n",
        "\n",
        "**1.- It does not directly affect the training and validation MSE as normalization is only a linear transformation it doesn't affect the expressive power of the model.**\n",
        "\n",
        "**2.-Normalization is helping by keeping the scale of the input bounded and thus keeping the scale of the weights similar to each other. This is because without normalization features at different scales for example on the 1000-2000 would require much smaller weights than features on a range from 1-10 in order to lead to the same loss. This can lead to weights becoming numerically unstable reaching really high or small values.**\n",
        "\n",
        "**3.-Since weights will be similar to each other in scale, the gradients will be smaller and not explode leading to divergence as we saw with the learning rate of 1.**"
      ]
    },
    {
      "cell_type": "markdown",
      "metadata": {
        "id": "uti32GaMPGwD"
      },
      "source": [
        "## 🚧Experimental verification\n",
        "Now please perform the following experiments to verify your answer to the above questions.\n",
        "1. Apply 'closed_form_linear_regression' to training data that did not go through the feature normalization step, and report the learned weights and the resulting training and testing MSEs.\n",
        "\n",
        "2. Apply 'batch_gradient_descent' to training data that did not go through the feature normalization step using different learning rates. Note that the learning rate used in previous section will no longer work here. You will need to search for an appropriate learning rate to get some converging behavior. Plot your MSE loss curve as a function of the epochs once you identify a convergent learning rate.\n",
        "Hint: the learning rate needs to be much, much,much, much, much, much, much smaller (think about each much as an order of manitude) than what was used in part 2). Also unless you let it run for a long time, it is unlikely to converge to the same level of loss values. So use a reasonable upper bound on the # of iterations so that it won't take forever."
      ]
    },
    {
      "cell_type": "code",
      "execution_count": 10,
      "metadata": {},
      "outputs": [
        {
          "name": "stdout",
          "output_type": "stream",
          "text": [
            "MSE_Train: 3.7686106911822304\n",
            "MSE_Val: 4.5137334191487515\n",
            "Learned weight vector: [-2.94622619e-01  4.40302398e-01  9.83296271e-04  1.34808783e-06\n",
            "  4.75742207e-02  4.00633176e+00  5.97628402e-01  2.90559754e-01\n",
            "  9.53000682e-01  7.61708663e-04  2.21651631e-04 -2.63179707e-02\n",
            "  1.29687505e-04 -5.54066885e-03  6.00687233e+00 -2.13423778e+00\n",
            "  1.94869628e-04 -3.43645905e-06 -6.95739410e-03  2.08792942e-02\n",
            " -2.31242874e-02  6.95894668e-04]\n"
          ]
        }
      ],
      "source": [
        "X_train, X_val, y_train, y_val = preprocess(train_df, val_df, normalize=False)\n",
        "\n",
        "w=closed_form_linear_regression(X_train.to_numpy(), y_train.to_numpy())\n",
        "\n",
        "y_train_pred = X_train.to_numpy() @ w\n",
        "\n",
        "mse_train = np.mean((y_train_pred - y_train.to_numpy())**2)\n",
        "\n",
        "y_val_pred = X_val.to_numpy() @ w \n",
        "\n",
        "mse_val = np.mean((y_val_pred - y_val.to_numpy())**2)\n",
        "\n",
        "print(f\"MSE_Train: {mse_train}\")\n",
        "print(f\"MSE_Val: {mse_val}\")\n",
        "\n",
        "print(f\"Learned weight vector: {w}\")"
      ]
    },
    {
      "cell_type": "code",
      "execution_count": 11,
      "metadata": {
        "id": "cfqvAxFpkhAn"
      },
      "outputs": [
        {
          "name": "stdout",
          "output_type": "stream",
          "text": [
            "Learning rate: 1e-10\n"
          ]
        },
        {
          "name": "stderr",
          "output_type": "stream",
          "text": [
            "/home/magraz/venvs/ml-class/lib/python3.10/site-packages/numpy/_core/_methods.py:135: RuntimeWarning: overflow encountered in reduce\n",
            "  ret = umr_sum(arr, axis, dtype, out, keepdims, where=where)\n",
            "/tmp/ipykernel_20421/4213706113.py:27: RuntimeWarning: overflow encountered in square\n",
            "  mse_loss = np.mean((y_pred-y)**2)\n"
          ]
        },
        {
          "name": "stdout",
          "output_type": "stream",
          "text": [
            "Learning rate: 1e-11\n",
            "Learning rate: 1e-12\n",
            "Learning rate: 1e-13\n",
            "Learning rate: 1e-14\n",
            "\n",
            "Converged learning rates: [1e-11, 1e-12, 1e-13, 1e-14]\n"
          ]
        },
        {
          "data": {
            "image/png": "[encoded data removed]",
            "text/plain": [
              "<Figure size 1200x800 with 1 Axes>"
            ]
          },
          "metadata": {},
          "output_type": "display_data"
        },
        {
          "name": "stdout",
          "output_type": "stream",
          "text": [
            "\n",
            "Validation MSE Results:\n",
            "------------------------------\n",
            "Learning rate 1e-11: Training MSE = 173.270792, Validation MSE = 168.454900\n",
            "Learning rate 1e-12: Training MSE = 117.050686, Validation MSE = 107.265914\n",
            "Learning rate 1e-13: Training MSE = 3894.523824, Validation MSE = 3202.247206\n",
            "Learning rate 1e-14: Training MSE = 18408.103932, Validation MSE = 17696.319224\n"
          ]
        }
      ],
      "source": [
        "learning_rates = [10**-i for i in range(10,15)]\n",
        "\n",
        "w_list = []\n",
        "train_losses_list = []\n",
        "converged_rates = []\n",
        "val_mse_list = []\n",
        "\n",
        "for i, lr in enumerate(learning_rates):\n",
        "    print(f\"Learning rate: {lr}\")\n",
        "    \n",
        "    w, losses = batch_gradient_descent(X_train.to_numpy(), y_train.to_numpy(), gamma=lr, T=20000)\n",
        "    \n",
        "    # Check if converged (no NaN values)\n",
        "    if not (np.any(np.isnan(w)) or np.any(np.isinf(w))) and not (np.any(np.isnan(losses)) or np.any(np.isinf(losses))):\n",
        "        w_list.append(w)\n",
        "        train_losses_list.append(losses)  # Fix: was appending w instead of losses\n",
        "        converged_rates.append(lr)\n",
        "        \n",
        "        # Calculate validation MSE\n",
        "        y_val_pred = X_val.to_numpy() @ w\n",
        "        val_mse = np.mean((y_val_pred - y_val.to_numpy())**2)\n",
        "        val_mse_list.append(val_mse)\n",
        "\n",
        "print(f\"\\nConverged learning rates: {converged_rates}\")\n",
        "\n",
        "# Plot training loss curves for converging learning rates\n",
        "plt.figure(figsize=(12, 8))\n",
        "colors = ['red', 'blue', 'green', 'orange', 'purple']\n",
        "\n",
        "for i, (lr, losses) in enumerate(zip(converged_rates, train_losses_list)):\n",
        "    plt.plot(losses, color=colors[i % len(colors)], label=f'γ = {lr}', linewidth=2)\n",
        "\n",
        "plt.xlabel('Epoch')\n",
        "plt.ylabel('Training MSE Loss')\n",
        "plt.title('Training Loss Curves for Different Learning Rates')\n",
        "plt.legend()\n",
        "plt.grid(True, alpha=0.3)\n",
        "plt.show()\n",
        "\n",
        "# Validation MSE for each converging learning rate\n",
        "print(\"\\nValidation MSE Results:\")\n",
        "print(\"-\" * 30)\n",
        "for lr, train_mse, val_mse in zip(converged_rates, train_losses_list, val_mse_list):\n",
        "    print(f\"Learning rate {lr}: Training MSE = {train_mse[-1]:.6f}, Validation MSE = {val_mse:.6f}\")"
      ]
    },
    {
      "cell_type": "code",
      "execution_count": 12,
      "metadata": {},
      "outputs": [
        {
          "name": "stdout",
          "output_type": "stream",
          "text": [
            "=== DEBUGGING NORMALIZATION EFFECT ===\n",
            "Target variables identical: True\n",
            "Target variables identical (val): True\n",
            "\n",
            "=== NORMALIZED DATA ===\n",
            "Training MSE: 32.504969\n",
            "Validation MSE: 33.809878\n",
            "Weight range: [-0.762911, 1.117195]\n",
            "\n",
            "=== UNNORMALIZED DATA ===\n",
            "Training MSE: 3.768611\n",
            "Validation MSE: 4.513733\n",
            "Weight range: [-2.134238, 6.006872]\n",
            "\n",
            "=== DIFFERENCES ===\n",
            "Training MSE difference: -28.736358\n",
            "Validation MSE difference: -29.296144\n",
            "Predictions close (train): False\n",
            "Predictions close (val): False\n",
            "\n",
            "Numerical checks:\n",
            "Any NaN in normalized weights: False\n",
            "Any NaN in unnormalized weights: False\n",
            "Any Inf in normalized weights: False\n",
            "Any Inf in unnormalized weights: False\n"
          ]
        }
      ],
      "source": [
        "# Let's debug this step by step\n",
        "print(\"=== DEBUGGING NORMALIZATION EFFECT ===\")\n",
        "\n",
        "# Get both normalized and unnormalized data\n",
        "X_train_norm, X_val_norm, y_train_norm, y_val_norm = preprocess(train_df, val_df, normalize=True)\n",
        "X_train_unnorm, X_val_unnorm, y_train_unnorm, y_val_unnorm = preprocess(train_df, val_df, normalize=False)\n",
        "\n",
        "# Verify target variables are identical\n",
        "print(f\"Target variables identical: {np.allclose(y_train_norm, y_train_unnorm)}\")\n",
        "print(f\"Target variables identical (val): {np.allclose(y_val_norm, y_val_unnorm)}\")\n",
        "\n",
        "# Train both models\n",
        "w_norm = closed_form_linear_regression(X_train_norm.to_numpy(), y_train_norm.to_numpy())\n",
        "w_unnorm = closed_form_linear_regression(X_train_unnorm.to_numpy(), y_train_unnorm.to_numpy())\n",
        "\n",
        "# Make predictions using vectorized operations (more reliable)\n",
        "y_train_pred_norm = X_train_norm.to_numpy() @ w_norm\n",
        "y_val_pred_norm = X_val_norm.to_numpy() @ w_norm\n",
        "\n",
        "y_train_pred_unnorm = X_train_unnorm.to_numpy() @ w_unnorm\n",
        "y_val_pred_unnorm = X_val_unnorm.to_numpy() @ w_unnorm\n",
        "\n",
        "# Calculate MSE using vectorized operations\n",
        "mse_train_norm = np.mean((y_train_pred_norm - y_train_norm.to_numpy())**2)\n",
        "mse_val_norm = np.mean((y_val_pred_norm - y_val_norm.to_numpy())**2)\n",
        "\n",
        "mse_train_unnorm = np.mean((y_train_pred_unnorm - y_train_unnorm.to_numpy())**2)\n",
        "mse_val_unnorm = np.mean((y_val_pred_unnorm - y_val_unnorm.to_numpy())**2)\n",
        "\n",
        "print(\"\\n=== NORMALIZED DATA ===\")\n",
        "print(f\"Training MSE: {mse_train_norm:.6f}\")\n",
        "print(f\"Validation MSE: {mse_val_norm:.6f}\")\n",
        "print(f\"Weight range: [{np.min(w_norm):.6f}, {np.max(w_norm):.6f}]\")\n",
        "\n",
        "print(\"\\n=== UNNORMALIZED DATA ===\")\n",
        "print(f\"Training MSE: {mse_train_unnorm:.6f}\")\n",
        "print(f\"Validation MSE: {mse_val_unnorm:.6f}\")\n",
        "print(f\"Weight range: [{np.min(w_unnorm):.6f}, {np.max(w_unnorm):.6f}]\")\n",
        "\n",
        "print(f\"\\n=== DIFFERENCES ===\")\n",
        "print(f\"Training MSE difference: {mse_train_unnorm - mse_train_norm:.6f}\")\n",
        "print(f\"Validation MSE difference: {mse_val_unnorm - mse_val_norm:.6f}\")\n",
        "\n",
        "# Check if predictions are actually the same\n",
        "print(f\"Predictions close (train): {np.allclose(y_train_pred_norm, y_train_pred_unnorm, rtol=1e-10)}\")\n",
        "print(f\"Predictions close (val): {np.allclose(y_val_pred_norm, y_val_pred_unnorm, rtol=1e-10)}\")\n",
        "\n",
        "# Check for numerical issues\n",
        "print(f\"\\nNumerical checks:\")\n",
        "print(f\"Any NaN in normalized weights: {np.any(np.isnan(w_norm))}\")\n",
        "print(f\"Any NaN in unnormalized weights: {np.any(np.isnan(w_unnorm))}\")\n",
        "print(f\"Any Inf in normalized weights: {np.any(np.isinf(w_norm))}\")\n",
        "print(f\"Any Inf in unnormalized weights: {np.any(np.isinf(w_unnorm))}\")"
      ]
    },
    {
      "cell_type": "markdown",
      "metadata": {
        "id": "IqECgJNNQhzM"
      },
      "source": [
        "## ✍️ Questions\n",
        "\n",
        "Please revisit the questions above. Does your experiment confirm your expectation?  Can you provide explanations to the observed differences (or lack of differences) between the normalized data and unnormalized data? Based on these observations and your understanding of them, please comment on the benefits of normalizing the input features in learning for linear regressions.\n"
      ]
    },
    {
      "cell_type": "markdown",
      "metadata": {
        "id": "lAiBYtRZROtt"
      },
      "source": [
        "**Answer**\n",
        "\n",
        "**In my answer to the first question I expected the loss to remain similar and only the weights to change in magnitude. However the loss of the closed form solution was reduced greatly when not normalizing. I hypothesize that normalization distorted meaningful relationships between the features or it magnified the noise of feeatures with very small variation range.**"
      ]
    },
    {
      "cell_type": "markdown",
      "metadata": {
        "id": "4-sVWZX-SZzS"
      },
      "source": [
        "## **3(b). (15 pts) Explore the impact of correlated features**\n",
        "\n",
        "In the warm up exercise, you all have seen some features are highly correlated with one another. For example, there are multiple squared footage related features that are strongly correlated (e.g., *sqft_above* and *sqrt_living* has a correlation coefficient of 0.878).  This is referred to as multicollinearity phenomeon, where two or more features are correlated.\n",
        "\n",
        "There are numerous consequences from multicollinearity. It makes it more challenging to estimate the weights of the features accurately. The weights may become unstable, and their interpretation becomes less clear.\n",
        "\n",
        "In this part you will work with the pre-processed training set, and perform the following experiments to examine how correlated features affect the stability of learned weights."
      ]
    },
    {
      "cell_type": "markdown",
      "metadata": {
        "id": "bETVJ5sKYSwm"
      },
      "source": [
        " ## 🚧Experiment to investigate impact of correlated features\n",
        "Conduct following experiments.\n",
        "1. **Create five training subsets**:  Randomly subsample 75% of the orginial preprocessed training set to form five slightly different training sets.\n",
        "2. **Fit models**:  Use your 'closed_form_linear_regression' function to train a linear regression model on each of the five training sets.\n",
        "3. **Report learned weights in a table**:  \n",
        "   - The table should have **five rows** (one for each model)  \n",
        "   - Each column corresponds to a **feature’s weight**  \n",
        "   - Include a **header row** with the feature names\n",
        "\n",
        "4. **Report the variance of weights across models**:  \n",
        "   Include an additional row to the above table to report for each feature, the variance of its learned weight coefficients across the five models.  This variance serves as a measure of the **stability** of the weight assigned to each feature. Larger variance suggests lower stability.\n",
        "  \n",
        "  Note: We use 5 random training subset here to get a rough sense of weight stability. For more robust analysis, you could increase this to 10 or more runs.\n",
        "\n"
      ]
    },
    {
      "cell_type": "code",
      "execution_count": 13,
      "metadata": {
        "id": "SSoQZp6egyR2"
      },
      "outputs": [
        {
          "name": "stdout",
          "output_type": "stream",
          "text": [
            "Original training set size: 8000\n",
            "Each subset size: 6000 (75% of original)\n",
            "\n",
            "\n",
            "Learned weights for each model and their variances:\n",
            "================================================================================\n",
            "          bedrooms  bathrooms  sqft_living  sqft_lot    floors  waterfront  \\\n",
            "Model_1  -0.265834   0.319153     0.764323  0.043360  0.028599    0.333203   \n",
            "Model_2  -0.369285   0.317283     0.819275  0.125775  0.069120    0.356777   \n",
            "Model_3  -0.248645   0.286185     0.798260 -0.012806  0.016025    0.370290   \n",
            "Model_4  -0.242542   0.340206     0.762749  0.108563 -0.012835    0.421986   \n",
            "Model_5  -0.344253   0.326750     0.832291  0.105431 -0.046858    0.390547   \n",
            "Variance  0.002738   0.000317     0.000794  0.002667  0.001526    0.000910   \n",
            "\n",
            "              view  condition     grade  sqft_above  sqft_basement  yr_built  \\\n",
            "Model_1   0.467356   0.275774  1.157353    0.750933       0.167443 -0.956689   \n",
            "Model_2   0.443376   0.150580  1.102118    0.803102       0.182945 -0.558814   \n",
            "Model_3   0.443838   0.197926  1.112912    0.777138       0.188467 -0.871806   \n",
            "Model_4   0.311689   0.234176  1.140594    0.755750       0.154979 -0.751692   \n",
            "Model_5   0.429792   0.142167  1.093343    0.795182       0.225232 -0.717391   \n",
            "Variance  0.003036   0.002540  0.000578    0.000428       0.000567  0.018582   \n",
            "\n",
            "          yr_renovated   zipcode       lat      long  sqft_living15  \\\n",
            "Model_1      -0.081977 -0.248106  0.825936 -0.286842       0.075941   \n",
            "Model_2       0.151574 -0.216745  0.867781 -0.284756       0.139817   \n",
            "Model_3       0.021268 -0.334353  0.824174 -0.337518       0.151584   \n",
            "Model_4       0.105461 -0.254582  0.816442 -0.262407       0.172067   \n",
            "Model_5       0.104876 -0.305979  0.865073 -0.296689       0.125170   \n",
            "Variance      0.006825  0.001794  0.000481  0.000607       0.001047   \n",
            "\n",
            "          sqft_lot15       day      year     month  age_since_renovated  \n",
            "Model_1    -0.010329 -0.028114  0.229199  0.084903            -0.225423  \n",
            "Model_2    -0.217850 -0.047957  0.177779  0.029622             0.209495  \n",
            "Model_3    -0.090846 -0.036032  0.196752  0.116347            -0.147789  \n",
            "Model_4    -0.114299 -0.035528  0.146605  0.064362             0.026709  \n",
            "Model_5    -0.108350 -0.061944  0.248270  0.138561             0.083123  \n",
            "Variance    0.004388  0.000141  0.001308  0.001466             0.024717  \n",
            "\n",
            "Top 5 features with highest weight variance (least stable):\n",
            "------------------------------------------------------------\n",
            "1. age_since_renovated: 0.024717\n",
            "2. yr_built: 0.018582\n",
            "3. yr_renovated: 0.006825\n",
            "4. sqft_lot15: 0.004388\n",
            "5. view: 0.003036\n",
            "\n",
            "Top 5 features with lowest weight variance (most stable):\n",
            "------------------------------------------------------------\n",
            "1. day: 0.000141\n",
            "2. bathrooms: 0.000317\n",
            "3. sqft_above: 0.000428\n",
            "4. lat: 0.000481\n",
            "5. sqft_basement: 0.000567\n"
          ]
        }
      ],
      "source": [
        "X_train, X_val, y_train, y_val = preprocess(train_df, val_df)\n",
        "\n",
        "# Set random seed for reproducibility\n",
        "np.random.seed(42)\n",
        "\n",
        "# Create five training subsets (75% of original data each)\n",
        "n_subsets = 5\n",
        "subset_size = int(0.75 * len(X_train))\n",
        "weights_list = []\n",
        "feature_names = X_train.columns.tolist()\n",
        "\n",
        "print(f\"Original training set size: {len(X_train)}\")\n",
        "print(f\"Each subset size: {subset_size} (75% of original)\")\n",
        "print()\n",
        "\n",
        "# Generate and train on five subsets\n",
        "for i in range(n_subsets):\n",
        "    # Randomly sample 75% of the data\n",
        "    indices = np.random.choice(len(X_train), size=subset_size, replace=False)\n",
        "    \n",
        "    X_subset = X_train.iloc[indices]\n",
        "    y_subset = y_train.iloc[indices]\n",
        "    \n",
        "    # Train model on this subset\n",
        "    w = closed_form_linear_regression(X_subset.to_numpy(), y_subset.to_numpy())\n",
        "    weights_list.append(w)\n",
        "\n",
        "# Convert to numpy array for easier manipulation\n",
        "weights_array = np.array(weights_list)\n",
        "\n",
        "# Create DataFrame for better visualization\n",
        "weights_df = pd.DataFrame(weights_array, \n",
        "                         columns=feature_names,\n",
        "                         index=[f'Model_{i+1}' for i in range(n_subsets)])\n",
        "\n",
        "# Calculate variance for each feature across models\n",
        "variance_row = weights_array.var(axis=0)\n",
        "variance_df = pd.DataFrame([variance_row], \n",
        "                          columns=feature_names, \n",
        "                          index=['Variance'])\n",
        "\n",
        "# Combine weights and variance\n",
        "results_df = pd.concat([weights_df, variance_df])\n",
        "\n",
        "pd.set_option('display.max_columns', None)\n",
        "pd.set_option('display.width', None)\n",
        "pd.set_option('display.max_colwidth', None)\n",
        "\n",
        "print(\"\\nLearned weights for each model and their variances:\")\n",
        "print(\"=\" * 80)\n",
        "print(results_df.round(8))\n",
        "\n",
        "# Show features with highest variance (least stable)\n",
        "print(f\"\\nTop 5 features with highest weight variance (least stable):\")\n",
        "print(\"-\" * 60)\n",
        "variance_sorted = variance_row.argsort()[::-1]\n",
        "for i in range(5):\n",
        "    feature_idx = variance_sorted[i]\n",
        "    feature_name = feature_names[feature_idx]\n",
        "    variance_val = variance_row[feature_idx]\n",
        "    print(f\"{i+1}. {feature_name}: {variance_val:.6f}\")\n",
        "\n",
        "# Show features with lowest variance (most stable)\n",
        "print(f\"\\nTop 5 features with lowest weight variance (most stable):\")\n",
        "print(\"-\" * 60)\n",
        "for i in range(5):\n",
        "    feature_idx = variance_sorted[-(i+1)]\n",
        "    feature_name = feature_names[feature_idx]\n",
        "    variance_val = variance_row[feature_idx]\n",
        "    print(f\"{i+1}. {feature_name}: {variance_val:.6f}\")"
      ]
    },
    {
      "cell_type": "code",
      "execution_count": 14,
      "metadata": {},
      "outputs": [
        {
          "name": "stdout",
          "output_type": "stream",
          "text": [
            "Feature Correlation Matrix:\n",
            "================================================================================\n",
            "                     bedrooms  bathrooms  sqft_living  sqft_lot  floors  \\\n",
            "bedrooms                1.000      0.484        0.562     0.025   0.165   \n",
            "bathrooms               0.484      1.000        0.750     0.071   0.511   \n",
            "sqft_living             0.562      0.750        1.000     0.165   0.354   \n",
            "sqft_lot                0.025      0.071        0.165     1.000  -0.013   \n",
            "floors                  0.165      0.511        0.354    -0.013   1.000   \n",
            "waterfront             -0.011      0.027        0.068     0.035   0.015   \n",
            "view                    0.087      0.186        0.281     0.078   0.036   \n",
            "condition               0.027     -0.140       -0.065    -0.013  -0.267   \n",
            "grade                   0.339      0.664        0.758     0.102   0.466   \n",
            "sqft_above              0.463      0.685        0.879     0.177   0.522   \n",
            "sqft_basement           0.293      0.263        0.417     0.007  -0.253   \n",
            "yr_built                0.143      0.510        0.315     0.048   0.489   \n",
            "yr_renovated            0.025      0.039        0.040     0.007   0.004   \n",
            "zipcode                -0.152     -0.199       -0.194    -0.124  -0.060   \n",
            "lat                    -0.020      0.019        0.037    -0.087   0.051   \n",
            "long                    0.127      0.220        0.240     0.209   0.122   \n",
            "sqft_living15           0.382      0.567        0.762     0.139   0.280   \n",
            "sqft_lot15              0.026      0.083        0.179     0.774  -0.019   \n",
            "day                     0.002     -0.002       -0.009     0.005  -0.003   \n",
            "year                   -0.005     -0.032       -0.030     0.005  -0.040   \n",
            "month                  -0.010      0.005        0.010    -0.007   0.031   \n",
            "age_since_renovated    -0.157     -0.537       -0.335    -0.048  -0.505   \n",
            "\n",
            "                     waterfront   view  condition  grade  sqft_above  \\\n",
            "bedrooms                 -0.011  0.087      0.027  0.339       0.463   \n",
            "bathrooms                 0.027  0.186     -0.140  0.664       0.685   \n",
            "sqft_living               0.068  0.281     -0.065  0.758       0.879   \n",
            "sqft_lot                  0.035  0.078     -0.013  0.102       0.177   \n",
            "floors                    0.015  0.036     -0.267  0.466       0.522   \n",
            "waterfront                1.000  0.377      0.027  0.041       0.059   \n",
            "view                      0.377  1.000      0.055  0.247       0.172   \n",
            "condition                 0.027  0.055      1.000 -0.146      -0.160   \n",
            "grade                     0.041  0.247     -0.146  1.000       0.755   \n",
            "sqft_above                0.059  0.172     -0.160  0.755       1.000   \n",
            "sqft_basement             0.029  0.260      0.168  0.146      -0.068   \n",
            "yr_built                 -0.047 -0.052     -0.384  0.448       0.422   \n",
            "yr_renovated              0.060  0.092     -0.058  0.006       0.013   \n",
            "zipcode                   0.041  0.073      0.023 -0.190      -0.260   \n",
            "lat                      -0.021 -0.004      0.001  0.109      -0.009   \n",
            "long                     -0.049 -0.075     -0.121  0.207       0.343   \n",
            "sqft_living15             0.063  0.277     -0.098  0.713       0.738   \n",
            "sqft_lot15                0.023  0.064     -0.006  0.115       0.191   \n",
            "day                       0.009 -0.005      0.002 -0.017      -0.003   \n",
            "year                     -0.010 -0.001     -0.030 -0.044      -0.032   \n",
            "month                     0.018 -0.003      0.017  0.019       0.017   \n",
            "age_since_renovated       0.031  0.020      0.416 -0.461      -0.431   \n",
            "\n",
            "                     sqft_basement  yr_built  yr_renovated  zipcode    lat  \\\n",
            "bedrooms                     0.293     0.143         0.025   -0.152 -0.020   \n",
            "bathrooms                    0.263     0.510         0.039   -0.199  0.019   \n",
            "sqft_living                  0.417     0.315         0.040   -0.194  0.037   \n",
            "sqft_lot                     0.007     0.048         0.007   -0.124 -0.087   \n",
            "floors                      -0.253     0.489         0.004   -0.060  0.051   \n",
            "waterfront                   0.029    -0.047         0.060    0.041 -0.021   \n",
            "view                         0.260    -0.052         0.092    0.073 -0.004   \n",
            "condition                    0.168    -0.384        -0.058    0.023  0.001   \n",
            "grade                        0.146     0.448         0.006   -0.190  0.109   \n",
            "sqft_above                  -0.068     0.422         0.013   -0.260 -0.009   \n",
            "sqft_basement                1.000    -0.144         0.059    0.090  0.096   \n",
            "yr_built                    -0.144     1.000        -0.223   -0.346 -0.143   \n",
            "yr_renovated                 0.059    -0.223         1.000    0.058  0.024   \n",
            "zipcode                      0.090    -0.346         0.058    1.000  0.255   \n",
            "lat                          0.096    -0.143         0.024    0.255  1.000   \n",
            "long                        -0.153     0.407        -0.055   -0.567 -0.139   \n",
            "sqft_living15                0.188     0.327        -0.013   -0.278  0.042   \n",
            "sqft_lot15                   0.011     0.068         0.002   -0.140 -0.073   \n",
            "day                         -0.014     0.016        -0.007   -0.006 -0.028   \n",
            "year                        -0.001    -0.003        -0.015    0.020 -0.038   \n",
            "month                       -0.012    -0.006         0.003   -0.009  0.016   \n",
            "age_since_renovated          0.119    -0.913        -0.159    0.324  0.133   \n",
            "\n",
            "                      long  sqft_living15  sqft_lot15    day   year  month  \\\n",
            "bedrooms             0.127          0.382       0.026  0.002 -0.005 -0.010   \n",
            "bathrooms            0.220          0.567       0.083 -0.002 -0.032  0.005   \n",
            "sqft_living          0.240          0.762       0.179 -0.009 -0.030  0.010   \n",
            "sqft_lot             0.209          0.139       0.774  0.005  0.005 -0.007   \n",
            "floors               0.122          0.280      -0.019 -0.003 -0.040  0.031   \n",
            "waterfront          -0.049          0.063       0.023  0.009 -0.010  0.018   \n",
            "view                -0.075          0.277       0.064 -0.005 -0.001 -0.003   \n",
            "condition           -0.121         -0.098      -0.006  0.002 -0.030  0.017   \n",
            "grade                0.207          0.713       0.115 -0.017 -0.044  0.019   \n",
            "sqft_above           0.343          0.738       0.191 -0.003 -0.032  0.017   \n",
            "sqft_basement       -0.153          0.188       0.011 -0.014 -0.001 -0.012   \n",
            "yr_built             0.407          0.327       0.068  0.016 -0.003 -0.006   \n",
            "yr_renovated        -0.055         -0.013       0.002 -0.007 -0.015  0.003   \n",
            "zipcode             -0.567         -0.278      -0.140 -0.006  0.020 -0.009   \n",
            "lat                 -0.139          0.042      -0.073 -0.028 -0.038  0.016   \n",
            "long                 1.000          0.338       0.249 -0.007 -0.012 -0.008   \n",
            "sqft_living15        0.338          1.000       0.171 -0.010 -0.035  0.014   \n",
            "sqft_lot15           0.249          0.171       1.000 -0.002  0.002 -0.006   \n",
            "day                 -0.007         -0.010      -0.002  1.000 -0.007 -0.064   \n",
            "year                -0.012         -0.035       0.002 -0.007  1.000 -0.780   \n",
            "month               -0.008          0.014      -0.006 -0.064 -0.780  1.000   \n",
            "age_since_renovated -0.387         -0.325      -0.066 -0.014  0.025 -0.009   \n",
            "\n",
            "                     age_since_renovated  \n",
            "bedrooms                          -0.157  \n",
            "bathrooms                         -0.537  \n",
            "sqft_living                       -0.335  \n",
            "sqft_lot                          -0.048  \n",
            "floors                            -0.505  \n",
            "waterfront                         0.031  \n",
            "view                               0.020  \n",
            "condition                          0.416  \n",
            "grade                             -0.461  \n",
            "sqft_above                        -0.431  \n",
            "sqft_basement                      0.119  \n",
            "yr_built                          -0.913  \n",
            "yr_renovated                      -0.159  \n",
            "zipcode                            0.324  \n",
            "lat                                0.133  \n",
            "long                              -0.387  \n",
            "sqft_living15                     -0.325  \n",
            "sqft_lot15                        -0.066  \n",
            "day                               -0.014  \n",
            "year                               0.025  \n",
            "month                             -0.009  \n",
            "age_since_renovated                1.000  \n",
            "\n",
            "Highly correlated feature pairs (|correlation| > 0.7):\n",
            "------------------------------------------------------------\n",
            "bathrooms <-> sqft_living: 0.750\n",
            "sqft_living <-> grade: 0.758\n",
            "sqft_living <-> sqft_above: 0.879\n",
            "sqft_living <-> sqft_living15: 0.762\n",
            "sqft_lot <-> sqft_lot15: 0.774\n",
            "grade <-> sqft_above: 0.755\n",
            "grade <-> sqft_living15: 0.713\n",
            "sqft_above <-> sqft_living15: 0.738\n",
            "yr_built <-> age_since_renovated: -0.913\n",
            "year <-> month: -0.780\n"
          ]
        }
      ],
      "source": [
        "correlation_matrix = X_train.corr()\n",
        "\n",
        "# Display correlation matrix\n",
        "print(\"Feature Correlation Matrix:\")\n",
        "print(\"=\" * 80)\n",
        "print(correlation_matrix.round(3))\n",
        "\n",
        "# Find highly correlated feature pairs (correlation > 0.7)\n",
        "high_corr_pairs = []\n",
        "for i in range(len(correlation_matrix.columns)):\n",
        "    for j in range(i+1, len(correlation_matrix.columns)):\n",
        "        corr_val = correlation_matrix.iloc[i, j]\n",
        "        if abs(corr_val) > 0.7:\n",
        "            high_corr_pairs.append((\n",
        "                correlation_matrix.columns[i], \n",
        "                correlation_matrix.columns[j], \n",
        "                corr_val\n",
        "            ))\n",
        "\n",
        "print(f\"\\nHighly correlated feature pairs (|correlation| > 0.7):\")\n",
        "print(\"-\" * 60)\n",
        "for feat1, feat2, corr in high_corr_pairs:\n",
        "    print(f\"{feat1} <-> {feat2}: {corr:.3f}\")"
      ]
    },
    {
      "cell_type": "markdown",
      "metadata": {
        "id": "vodiypKgh26u"
      },
      "source": [
        "## ✍️ Questions\n",
        "Ideally, we want the learned weight coefficients to be **stable across different runs**, as this indicates a more **reliable and interpretable** model.\n",
        "- Based on the variances you computed:\n",
        "  - Do features with **high correlation to others** tend to show **more instability** in their weights across different training subsets?\n",
        "  - What trends do you observe?\n",
        "- Use a **correlation matrix** of the input features to support your observations. Which features appear most correlated?\n",
        "- What implications does this have for interpreting feature importance in your model?\n"
      ]
    },
    {
      "cell_type": "markdown",
      "metadata": {
        "id": "3xc4Aik1ikzE"
      },
      "source": [
        "**Your answer goes here.**\n",
        "\n",
        "**Looking at the sqft_living and sqft_above features both of which are highly correlated, we can see that their variance is very low. The same can be said for the features grade, yr_built, age_since_renovated, year and month. This aligns with the correlation matrix shown above.**\n",
        "\n",
        "**The most correlated features are: bathrooms, sqft_living, sqft_above, grade, sqft_lot, yr_built, age_since_renovated, year and month. The features most positively correlated to each other are sqft_living and sqft_above, and the most negatively correlated features to each other are yr_built and age_since_renovated.**\n",
        "\n",
        "****"
      ]
    },
    {
      "cell_type": "markdown",
      "metadata": {
        "id": "Ej_IvVZEkS3j"
      },
      "source": [
        "# Kaggle competition (10 pts)\n",
        "In this section, you will try to build your best model on the given training data and apply it to the provided test data and submit the predictions for the class-wide competition on Kaggle.\n",
        "\n",
        "**Model restriction.** You must use linear regression (without regularization) as your predictive model. No advanced models, such as Ridge, Lasso, tree-based models, neural networks, or other complex learners are not allowed.\n",
        "\n",
        "**Implementation note.** For this part, you are allowed to use a standard library implementation (e.g., 'sklearn.linear_model.LinearRegression') to speed up experimentation.\n",
        "\n",
        "**Exploration encouraged.** You are encouraged to explore:\n",
        "- feature engineering such as removing, transforming features, constructing new features based on existing ones, using different encoding for the discrete features;\n",
        "- training data filtering/modification such as identifying and removing potential outliers in the training data;\n",
        "- target manipulation such as normalizing, or log transforming the prediction target\n",
        "\n",
        "**Fair play and have fun!** The spirit of this competition is for you to learn how far linear regression can go when paired with thoughtful data preparation.\n",
        "\n",
        "To participate in this competition, use the following link:\n",
        "https://www.kaggle.com/t/7e07d14f327c4ee1babd526d4ccf0701\n",
        "\n",
        "\n",
        "**Team work.** You should continue working in the same team for this competition. Make sure to note in your submission your kaggle team name.\n",
        "\n",
        "**How to sumbit.**\n",
        "Your submission should include the prediction for every test sample. The file must be a CSV with two columns: `id` and `price`.\n",
        "- `id` is the unique identifier for each instance as provided in the test data PA1_test1.csv  \n",
        "- `price` is your predicted result.\n",
        "Your file should start with a header row (`id, price`) and followed by $N$ rows, one per test sample.\n",
        "\n",
        "\n",
        "**Competition evluation. ** The competition has two leaderboards: the public leader board as well as the private leader board. The results on the public leader board are visible through out the competition so that you can tell how well your model works compared to others and use it to pick the best models to make submission for the private leader board. Each team will be allowed to submit 3 entries to be evaluated on the private leaderboard for the final performance. The results on the private leaderboard will be released after the competition is closed.\n",
        "\n",
        "**Points and bonus points.** You will get the full 10 points if you\n",
        "- participate in the competition (successful submissions)\n",
        "\n",
        "- achieve non-trivial performance (outperform some simple baseline)\n",
        "\n",
        "- complete the report on the competition below.\n",
        "\n",
        "You will get **3 nonus points** if your team scored top 3 on the private leader board, or entered the largest number of unique submissions (unique sores).\n",
        "\n",
        "**No late submission.** The competition will be closed at 11:59 pm of the due date. No late submission will be allowed for this portion of the assignment to ensure fairness.\n"
      ]
    },
    {
      "cell_type": "code",
      "execution_count": null,
      "metadata": {},
      "outputs": [
        {
          "data": {
            "text/html": [
              "<div>\n",
              "<style scoped>\n",
              "    .dataframe tbody tr th:only-of-type {\n",
              "        vertical-align: middle;\n",
              "    }\n",
              "\n",
              "    .dataframe tbody tr th {\n",
              "        vertical-align: top;\n",
              "    }\n",
              "\n",
              "    .dataframe thead th {\n",
              "        text-align: right;\n",
              "    }\n",
              "</style>\n",
              "<table border=\"1\" class=\"dataframe\">\n",
              "  <thead>\n",
              "    <tr style=\"text-align: right;\">\n",
              "      <th></th>\n",
              "      <th>id</th>\n",
              "      <th>date</th>\n",
              "      <th>bedrooms</th>\n",
              "      <th>bathrooms</th>\n",
              "      <th>sqft_living</th>\n",
              "      <th>sqft_lot</th>\n",
              "      <th>floors</th>\n",
              "      <th>waterfront</th>\n",
              "      <th>view</th>\n",
              "      <th>condition</th>\n",
              "      <th>grade</th>\n",
              "      <th>sqft_above</th>\n",
              "      <th>sqft_basement</th>\n",
              "      <th>yr_built</th>\n",
              "      <th>yr_renovated</th>\n",
              "      <th>zipcode</th>\n",
              "      <th>lat</th>\n",
              "      <th>long</th>\n",
              "      <th>sqft_living15</th>\n",
              "      <th>sqft_lot15</th>\n",
              "      <th>price</th>\n",
              "    </tr>\n",
              "  </thead>\n",
              "  <tbody>\n",
              "    <tr>\n",
              "      <th>0</th>\n",
              "      <td>3066410850</td>\n",
              "      <td>7/9/2014</td>\n",
              "      <td>4</td>\n",
              "      <td>2.50</td>\n",
              "      <td>2720</td>\n",
              "      <td>10006</td>\n",
              "      <td>2.0</td>\n",
              "      <td>0</td>\n",
              "      <td>0</td>\n",
              "      <td>3</td>\n",
              "      <td>9</td>\n",
              "      <td>2720</td>\n",
              "      <td>0</td>\n",
              "      <td>1989</td>\n",
              "      <td>0</td>\n",
              "      <td>98074</td>\n",
              "      <td>47.6295</td>\n",
              "      <td>-122.042</td>\n",
              "      <td>2720</td>\n",
              "      <td>10759</td>\n",
              "      <td>5.9495</td>\n",
              "    </tr>\n",
              "    <tr>\n",
              "      <th>1</th>\n",
              "      <td>9345400350</td>\n",
              "      <td>7/18/2014</td>\n",
              "      <td>2</td>\n",
              "      <td>2.50</td>\n",
              "      <td>2600</td>\n",
              "      <td>5000</td>\n",
              "      <td>1.0</td>\n",
              "      <td>0</td>\n",
              "      <td>0</td>\n",
              "      <td>5</td>\n",
              "      <td>8</td>\n",
              "      <td>1300</td>\n",
              "      <td>1300</td>\n",
              "      <td>1926</td>\n",
              "      <td>0</td>\n",
              "      <td>98126</td>\n",
              "      <td>47.5806</td>\n",
              "      <td>-122.379</td>\n",
              "      <td>2260</td>\n",
              "      <td>5000</td>\n",
              "      <td>6.6500</td>\n",
              "    </tr>\n",
              "    <tr>\n",
              "      <th>2</th>\n",
              "      <td>7128300060</td>\n",
              "      <td>7/7/2014</td>\n",
              "      <td>5</td>\n",
              "      <td>1.75</td>\n",
              "      <td>1650</td>\n",
              "      <td>3000</td>\n",
              "      <td>1.5</td>\n",
              "      <td>0</td>\n",
              "      <td>0</td>\n",
              "      <td>3</td>\n",
              "      <td>8</td>\n",
              "      <td>1650</td>\n",
              "      <td>0</td>\n",
              "      <td>1902</td>\n",
              "      <td>0</td>\n",
              "      <td>98144</td>\n",
              "      <td>47.5955</td>\n",
              "      <td>-122.306</td>\n",
              "      <td>1740</td>\n",
              "      <td>4000</td>\n",
              "      <td>4.4300</td>\n",
              "    </tr>\n",
              "    <tr>\n",
              "      <th>3</th>\n",
              "      <td>2155500030</td>\n",
              "      <td>4/28/2015</td>\n",
              "      <td>4</td>\n",
              "      <td>1.75</td>\n",
              "      <td>1720</td>\n",
              "      <td>9600</td>\n",
              "      <td>1.0</td>\n",
              "      <td>0</td>\n",
              "      <td>0</td>\n",
              "      <td>4</td>\n",
              "      <td>8</td>\n",
              "      <td>1720</td>\n",
              "      <td>0</td>\n",
              "      <td>1969</td>\n",
              "      <td>0</td>\n",
              "      <td>98059</td>\n",
              "      <td>47.4764</td>\n",
              "      <td>-122.155</td>\n",
              "      <td>1660</td>\n",
              "      <td>10720</td>\n",
              "      <td>3.8000</td>\n",
              "    </tr>\n",
              "    <tr>\n",
              "      <th>4</th>\n",
              "      <td>3999300080</td>\n",
              "      <td>9/4/2014</td>\n",
              "      <td>6</td>\n",
              "      <td>2.25</td>\n",
              "      <td>3830</td>\n",
              "      <td>11180</td>\n",
              "      <td>1.0</td>\n",
              "      <td>0</td>\n",
              "      <td>2</td>\n",
              "      <td>5</td>\n",
              "      <td>9</td>\n",
              "      <td>2440</td>\n",
              "      <td>1390</td>\n",
              "      <td>1962</td>\n",
              "      <td>0</td>\n",
              "      <td>98008</td>\n",
              "      <td>47.5849</td>\n",
              "      <td>-122.113</td>\n",
              "      <td>2500</td>\n",
              "      <td>10400</td>\n",
              "      <td>8.8700</td>\n",
              "    </tr>\n",
              "  </tbody>\n",
              "</table>\n",
              "</div>"
            ],
            "text/plain": [
              "           id       date  bedrooms  bathrooms  sqft_living  sqft_lot  floors  \\\n",
              "0  3066410850   7/9/2014         4       2.50         2720     10006     2.0   \n",
              "1  9345400350  7/18/2014         2       2.50         2600      5000     1.0   \n",
              "2  7128300060   7/7/2014         5       1.75         1650      3000     1.5   \n",
              "3  2155500030  4/28/2015         4       1.75         1720      9600     1.0   \n",
              "4  3999300080   9/4/2014         6       2.25         3830     11180     1.0   \n",
              "\n",
              "   waterfront  view  condition  grade  sqft_above  sqft_basement  yr_built  \\\n",
              "0           0     0          3      9        2720              0      1989   \n",
              "1           0     0          5      8        1300           1300      1926   \n",
              "2           0     0          3      8        1650              0      1902   \n",
              "3           0     0          4      8        1720              0      1969   \n",
              "4           0     2          5      9        2440           1390      1962   \n",
              "\n",
              "   yr_renovated  zipcode      lat     long  sqft_living15  sqft_lot15   price  \n",
              "0             0    98074  47.6295 -122.042           2720       10759  5.9495  \n",
              "1             0    98126  47.5806 -122.379           2260        5000  6.6500  \n",
              "2             0    98144  47.5955 -122.306           1740        4000  4.4300  \n",
              "3             0    98059  47.4764 -122.155           1660       10720  3.8000  \n",
              "4             0    98008  47.5849 -122.113           2500       10400  8.8700  "
            ]
          },
          "execution_count": 15,
          "metadata": {},
          "output_type": "execute_result"
        }
      ],
      "source": [
        "from sklearn.linear_model import LinearRegression\n",
        "train_val_path = './PA1_train1.csv'\n",
        "test_path = './PA1_test1.csv'\n",
        "\n",
        "train_val_df = pd.read_csv(train_val_path)\n",
        "test_df = pd.read_csv(test_path)\n",
        "\n",
        "train_val_df.head()"
      ]
    },
    {
      "cell_type": "markdown",
      "metadata": {
        "id": "9ISiBeSLtphi"
      },
      "source": [
        "## ✍️ Report on the Kaggle competition\n",
        "\n",
        "1. **Team name**:\n",
        "2. **Exploration Summary:** Brief describe the approches you tried. 3. **Most Impactful Change: ** Which exploration led to the most performance improvement, and why do you think it helped?\n"
      ]
    },
    {
      "cell_type": "code",
      "execution_count": 16,
      "metadata": {
        "id": "VBJ-Uzzk7yIC"
      },
      "outputs": [
        {
          "name": "stdout",
          "output_type": "stream",
          "text": [
            "[NbConvertApp] Converting notebook /home/magraz/ml-class/HW2/IA1_2025.ipynb to html\n",
            "[NbConvertApp] Writing 391337 bytes to /home/magraz/ml-class/HW2/IA1_2025.html\n"
          ]
        },
        {
          "data": {
            "text/plain": [
              "True"
            ]
          },
          "execution_count": 16,
          "metadata": {},
          "output_type": "execute_result"
        }
      ],
      "source": [
        "#running this code block will convert this notebook and its outputs into a pdf report.\n",
        "# ⚠️ALERT! Exporting colab notebooks into a clean figure-inclusive pdf can be unreliable.\n",
        "# Sometimes output figures may not appear in your exported file.\n",
        "#\n",
        "#If this happens, please assemble your report mannually: copy relevant fgures/results\n",
        "# into a separate documents and save as PDF. Be sure to clearly lablel each figure with\n",
        "# the corresponding part number (e.g., Part 3(b)).).\n",
        "\n",
        "# !jupyter nbconvert --to html /content/gdrive/MyDrive/Colab\\ Notebooks/IA1-2024.ipynb  # you might need to change this path to appropriate value to location your copy of the IA0 notebook\n",
        "!jupyter nbconvert --to html '/home/magraz/ml-class/HW2/IA1_2025.ipynb'    # you might need to change this path to appropriate value to location your copy of the IA0 notebook\n",
        "\n",
        "# input_html = '/content/gdrive/MyDrive/Colab Notebooks/IA1-2025.html' #you might need to change this path accordingly\n",
        "# output_pdf = '/content/gdrive/MyDrive/Colab Notebooks/IA1output.pdf' #you might need to change this path or name accordingly\n",
        "\n",
        "input_html = '/home/magraz/ml-class/HW2/IA1_2025.html' #you might need to change this path accordingly\n",
        "output_pdf = '/home/magraz/ml-class/HW2/IA1output.pdf' #you might need to change this path or name accordingly\n",
        "\n",
        "# Convert HTML to PDF\n",
        "pdfkit.from_file(input_html, output_pdf)\n",
        "\n",
        "# Download the generated PDF\n",
        "# files.download(output_pdf)"
      ]
    }
  ],
  "metadata": {
    "colab": {
      "provenance": []
    },
    "kernelspec": {
      "display_name": "ml-class",
      "language": "python",
      "name": "python3"
    },
    "language_info": {
      "codemirror_mode": {
        "name": "ipython",
        "version": 3
      },
      "file_extension": ".py",
      "mimetype": "text/x-python",
      "name": "python",
      "nbconvert_exporter": "python",
      "pygments_lexer": "ipython3",
      "version": "3.10.12"
    }
  },
  "nbformat": 4,
  "nbformat_minor": 0
}

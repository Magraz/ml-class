{
  "cells": [
    {
      "cell_type": "markdown",
      "metadata": {
        "id": "zOK-6wmkFuv6"
      },
      "source": [
        "# AI534 IA2 - Logistic regression with L2 and L1 regularization\n",
        "\n",
        "**Submission**:  \n",
        "1. Your completed notebook in ipynb\n",
        "2. a PDF report that includes all code outputs and figures. You can use the code block at the end of the notebook to generate a PDF export of the notebook with the outputs for your report. However, if any figures or outputs are missing, you must either:\n",
        "\n",
        "\n",
        "* Manually add the missing figures to the PDF using a PDF editor or\n",
        "* Copy your notebook contents into a Word or Google Doc, insert the missing outputs there, and export that document as a PDF.\n",
        "\n",
        "\n",
        "**Overview.** In this assignment, we will implement and experiment with logistic regression with L2 and L1 regularization to predict whether a health insurance customer will purchase car insurance based on a set of features.\n",
        "\n",
        "You may modify the starter code as you see fit, including changing the signatures of functions and adding/removing helper functions. However, please make sure that your TA can understand what you are doing and why."
      ]
    },
    {
      "cell_type": "markdown",
      "metadata": {
        "id": "aP84hVzY97rb"
      },
      "source": [
        "First lets import the necessary packages."
      ]
    },
    {
      "cell_type": "code",
      "execution_count": 1,
      "metadata": {
        "id": "mfC82i5Bw_Cm"
      },
      "outputs": [],
      "source": [
        "# !pip install nbconvert > /dev/null 2>&1\n",
        "# !pip install pdfkit > /dev/null 2>&1\n",
        "# !apt-get install -y wkhtmltopdf > /dev/null 2>&1\n",
        "# from google.colab import files\n",
        "\n",
        "import os\n",
        "import pdfkit\n",
        "import contextlib\n",
        "import sys\n",
        "import matplotlib.pyplot as plt\n",
        "import numpy as np\n",
        "import pandas as pd\n",
        "# add more imports if necessary"
      ]
    },
    {
      "cell_type": "markdown",
      "metadata": {
        "id": "7Z0sSMySHB-Z"
      },
      "source": [
        "# Part 0. (2 pts) Loading data and perform feature normalization for numerical features\n",
        "\n",
        "---\n",
        "\n",
        "On canvas, we have provided three different data files for this assignment: IA2-train.csv (for training), IA2-dev.csv(for validation) and IA2-train-noisy.csv (for Part 3). Download them and upload them to your google drive. Then mount the google drive from your google colab notebook:\n"
      ]
    },
    {
      "cell_type": "code",
      "execution_count": 2,
      "metadata": {
        "colab": {
          "base_uri": "https://localhost:8080/"
        },
        "id": "E6K8DsDcwjS6",
        "outputId": "9d36d1dd-cf28-4ad5-cf9e-ec34d5690376"
      },
      "outputs": [],
      "source": [
        "# from google.colab import drive\n",
        "# drive.mount('/content/gdrive')\n",
        "\n",
        "# train_path = '/content/gdrive/My Drive/AI534/IA2-train.csv' # DO NOT MODIFY THIS. Please make sure your data has this exact path\n",
        "# val_path = '/content/gdrive/My Drive/AI534/IA2-dev.csv' # DO NOT MODIFY THIS. Please make sure your data has this exact path\n",
        "# noisy_train_path = '/content/gdrive/My Drive/AI534/IA2-train-noisy.csv' # DO NOT MODIFY THIS. Please make sure your data has this exact path\n",
        "\n",
        "#My local paths\n",
        "train_path = './IA2-train.csv' # DO NOT MODIFY THIS. Please make sure your data has this exact path\n",
        "val_path = './IA2-dev.csv' # DO NOT MODIFY THIS. Please make sure your data has this exact path\n",
        "noisy_train_path = './IA2-train-noisy.csv' # DO NOT MODIFY THIS. Please make sure your data has this exact path"
      ]
    },
    {
      "cell_type": "markdown",
      "metadata": {
        "id": "nsuGx9oFxRu3"
      },
      "source": [
        " ## 🚧 Preprocessing.\n",
        " You have one additional preprocessing step to do, which is to perform feature normalization (z-score) for 3 numerical features (\"Age\", \"Annual_Premium\", \"Vintage\")."
      ]
    },
    {
      "cell_type": "code",
      "execution_count": 3,
      "metadata": {
        "id": "9uTz8ldzx0EM"
      },
      "outputs": [
        {
          "name": "stdout",
          "output_type": "stream",
          "text": [
            "Train set (normalized features):\n",
            "Mean: [0.0, 1.0, 0.59, -0.0, 1.0, 0.27, 0.71, -0.0, 0.0, 0.0, 0.0, 0.01, 0.02, 0.01, 0.0, 0.01, 0.01, 0.08, 0.01, 0.01, 0.02, 0.01, 0.01, 0.01, 0.03, 0.0, 0.01, 0.02, 0.0, 0.0, 0.01, 0.0, 0.0, 0.01, 0.0, 0.0, 0.01, 0.34, 0.03, 0.03, 0.0, 0.01, 0.02, 0.0, 0.02, 0.02, 0.01, 0.01, 0.01, 0.0, 0.05, 0.0, 0.01, 0.0, 0.02, 0.05, 0.02, 0.01, 0.0, 0.02, 0.0, 0.0, 0.62, 0.31, 0.07, 0.0, 0.0, 0.0, 0.0, 0.0, 0.0, 0.0, 0.0, 0.0, 0.0, 0.01, 0.0, 0.0, 0.0, 0.0, 0.0, 0.0, 0.0, 0.0, 0.0, 0.0, 0.0, 0.01, 0.25, 0.0, 0.0, 0.0, 0.0, 0.0, 0.0, 0.0, 0.0, 0.0, 0.0, 0.0, 0.0, 0.0, 0.0, 0.0, 0.0, 0.0, 0.0, 0.0, 0.0, 0.0, 0.0, 0.0, 0.0, 0.0, 0.0, 0.0, 0.0, 0.0, 0.0, 0.0, 0.0, 0.0, 0.0, 0.0, 0.0, 0.0, 0.0, 0.0, 0.0, 0.0, 0.0, 0.0, 0.0, 0.0, 0.0, 0.0, 0.0, 0.0, 0.0, 0.0, 0.0, 0.0, 0.0, 0.0, 0.0, 0.0, 0.0, 0.0, 0.0, 0.0, 0.0, 0.0, 0.0, 0.0, 0.0, 0.0, 0.0, 0.0, 0.0, 0.0, 0.0, 0.0, 0.0, 0.03, 0.0, 0.25, 0.0, 0.0, 0.0, 0.0, 0.0, 0.0, 0.0, 0.0, 0.0, 0.0, 0.0, 0.0, 0.0, 0.0, 0.0, 0.0, 0.0, 0.0, 0.0, 0.0, 0.0, 0.01, 0.23, 0.0, 0.02, 0.01, 0.04, 0.03, 0.0, 0.0, 0.04, 0.01]\n",
            "Std:  [0.0, 0.0, 0.49, 1.0, 0.05, 0.44, 0.46, 1.0, 1.0, 0.07, 0.06, 0.1, 0.15, 0.07, 0.07, 0.11, 0.09, 0.27, 0.09, 0.1, 0.15, 0.08, 0.1, 0.1, 0.16, 0.06, 0.07, 0.12, 0.06, 0.06, 0.09, 0.05, 0.07, 0.09, 0.07, 0.06, 0.08, 0.47, 0.17, 0.17, 0.06, 0.08, 0.14, 0.06, 0.14, 0.14, 0.11, 0.07, 0.11, 0.06, 0.22, 0.03, 0.08, 0.03, 0.14, 0.21, 0.13, 0.1, 0.05, 0.15, 0.02, 0.03, 0.49, 0.46, 0.26, 0.04, 0.0, 0.04, 0.05, 0.07, 0.06, 0.03, 0.02, 0.06, 0.04, 0.07, 0.03, 0.04, 0.04, 0.01, 0.02, 0.02, 0.0, 0.01, 0.03, 0.04, 0.04, 0.08, 0.43, 0.0, 0.0, 0.05, 0.07, 0.06, 0.0, 0.02, 0.0, 0.02, 0.0, 0.0, 0.01, 0.02, 0.0, 0.02, 0.0, 0.01, 0.01, 0.01, 0.0, 0.0, 0.0, 0.05, 0.0, 0.02, 0.05, 0.01, 0.0, 0.0, 0.01, 0.03, 0.04, 0.0, 0.02, 0.01, 0.01, 0.01, 0.0, 0.02, 0.0, 0.01, 0.01, 0.0, 0.0, 0.01, 0.0, 0.0, 0.0, 0.0, 0.02, 0.0, 0.0, 0.01, 0.0, 0.0, 0.0, 0.0, 0.0, 0.0, 0.01, 0.0, 0.02, 0.01, 0.02, 0.0, 0.01, 0.02, 0.0, 0.0, 0.03, 0.0, 0.0, 0.05, 0.02, 0.17, 0.0, 0.43, 0.04, 0.0, 0.02, 0.01, 0.0, 0.01, 0.01, 0.0, 0.0, 0.0, 0.02, 0.03, 0.02, 0.0, 0.03, 0.01, 0.03, 0.01, 0.02, 0.01, 0.04, 0.09, 0.42, 0.03, 0.15, 0.08, 0.2, 0.16, 0.04, 0.0, 0.2, 0.11]\n",
            "Val set (normalized features):\n",
            "Mean: [0.0, 1.0, 0.57, 0.0, 1.0, 0.27, 0.7, 0.01, 0.01, 0.0, 0.0, 0.01, 0.03, 0.01, 0.0, 0.01, 0.01, 0.08, 0.01, 0.01, 0.02, 0.01, 0.01, 0.01, 0.03, 0.0, 0.01, 0.02, 0.0, 0.01, 0.01, 0.0, 0.01, 0.01, 0.0, 0.01, 0.01, 0.34, 0.03, 0.03, 0.0, 0.0, 0.02, 0.0, 0.02, 0.02, 0.01, 0.01, 0.01, 0.0, 0.05, 0.0, 0.01, 0.0, 0.01, 0.05, 0.02, 0.01, 0.0, 0.02, 0.0, 0.0, 0.61, 0.32, 0.07, 0.0, 0.0, 0.0, 0.0, 0.01, 0.0, 0.0, 0.0, 0.0, 0.0, 0.0, 0.0, 0.0, 0.0, 0.0, 0.0, 0.0, 0.0, 0.0, 0.0, 0.0, 0.0, 0.01, 0.26, 0.0, 0.0, 0.0, 0.0, 0.0, 0.0, 0.0, 0.0, 0.0, 0.0, 0.0, 0.0, 0.0, 0.0, 0.0, 0.0, 0.0, 0.0, 0.0, 0.0, 0.0, 0.0, 0.0, 0.0, 0.0, 0.0, 0.0, 0.0, 0.0, 0.0, 0.0, 0.0, 0.0, 0.0, 0.0, 0.0, 0.0, 0.0, 0.0, 0.0, 0.0, 0.0, 0.0, 0.0, 0.0, 0.0, 0.0, 0.0, 0.0, 0.0, 0.0, 0.0, 0.0, 0.0, 0.0, 0.0, 0.0, 0.0, 0.0, 0.0, 0.0, 0.0, 0.0, 0.0, 0.0, 0.0, 0.0, 0.0, 0.0, 0.0, 0.0, 0.0, 0.0, 0.0, 0.03, 0.0, 0.24, 0.0, 0.0, 0.0, 0.0, 0.0, 0.0, 0.0, 0.0, 0.0, 0.0, 0.0, 0.0, 0.0, 0.0, 0.0, 0.0, 0.0, 0.0, 0.0, 0.0, 0.0, 0.01, 0.24, 0.0, 0.02, 0.01, 0.04, 0.03, 0.0, 0.0, 0.04, 0.01]\n",
            "Std:  [0.0, 0.0, 0.49, 1.01, 0.05, 0.44, 0.46, 0.98, 1.0, 0.07, 0.04, 0.09, 0.16, 0.07, 0.06, 0.12, 0.1, 0.28, 0.08, 0.1, 0.15, 0.08, 0.09, 0.1, 0.17, 0.06, 0.08, 0.12, 0.07, 0.07, 0.1, 0.05, 0.08, 0.09, 0.07, 0.07, 0.09, 0.47, 0.16, 0.16, 0.07, 0.07, 0.14, 0.06, 0.13, 0.14, 0.11, 0.09, 0.11, 0.05, 0.22, 0.04, 0.09, 0.04, 0.11, 0.21, 0.12, 0.11, 0.06, 0.13, 0.02, 0.03, 0.49, 0.47, 0.25, 0.05, 0.0, 0.05, 0.04, 0.07, 0.05, 0.02, 0.03, 0.06, 0.05, 0.07, 0.04, 0.03, 0.03, 0.0, 0.01, 0.02, 0.0, 0.02, 0.03, 0.04, 0.05, 0.08, 0.44, 0.0, 0.01, 0.04, 0.05, 0.05, 0.0, 0.02, 0.02, 0.02, 0.01, 0.0, 0.0, 0.02, 0.0, 0.01, 0.01, 0.0, 0.01, 0.0, 0.0, 0.0, 0.01, 0.05, 0.01, 0.01, 0.06, 0.0, 0.0, 0.01, 0.02, 0.04, 0.03, 0.0, 0.0, 0.01, 0.01, 0.0, 0.0, 0.0, 0.01, 0.01, 0.01, 0.01, 0.01, 0.02, 0.0, 0.01, 0.0, 0.0, 0.02, 0.01, 0.01, 0.02, 0.0, 0.0, 0.0, 0.01, 0.0, 0.0, 0.02, 0.01, 0.0, 0.0, 0.02, 0.0, 0.02, 0.0, 0.0, 0.0, 0.02, 0.01, 0.01, 0.05, 0.01, 0.18, 0.0, 0.43, 0.06, 0.0, 0.0, 0.02, 0.01, 0.0, 0.02, 0.01, 0.01, 0.0, 0.0, 0.03, 0.01, 0.01, 0.01, 0.0, 0.03, 0.0, 0.02, 0.01, 0.03, 0.08, 0.43, 0.03, 0.14, 0.07, 0.18, 0.16, 0.05, 0.0, 0.19, 0.1]\n"
          ]
        }
      ],
      "source": [
        "# your code goes here\n",
        "train_df = pd.read_csv(train_path)\n",
        "val_df = pd.read_csv(val_path)\n",
        "noisy_train_df = pd.read_csv(noisy_train_path)\n",
        "\n",
        "\n",
        "def preprocess(train_df, df):\n",
        "\n",
        "    train_df = train_df.copy()\n",
        "    df = df.copy()\n",
        "\n",
        "    #Normalize all columns except price\n",
        "    for col_name in [\"Age\", \"Annual_Premium\", \"Vintage\"]:\n",
        "        mu = train_df[col_name].mean()\n",
        "        sigma =train_df[col_name].std()\n",
        "        \n",
        "        df[col_name] = (df[col_name] - mu) / sigma\n",
        "    \n",
        "    # Add bias column\n",
        "    bias = pd.Series(0.0, index=df.index, name='bias')\n",
        "    df = pd.concat([bias, df], axis=1)\n",
        "\n",
        "    return df.drop(columns=['Response']), df['Response']\n",
        "\n",
        "x_train, y_train = preprocess(train_df, train_df)\n",
        "x_val, y_val = preprocess(train_df, val_df)\n",
        "x_noisy_train, y_noisy_train = preprocess(noisy_train_df, noisy_train_df)\n",
        "\n",
        "print(\"Train set (normalized features):\")\n",
        "print(\"Mean:\", x_train.mean().round(2).to_list())\n",
        "print(\"Std: \", x_train.std().round(2).to_list())\n",
        "\n",
        "print(\"Val set (normalized features):\")\n",
        "print(\"Mean:\", x_val.mean().round(2).to_list())\n",
        "print(\"Std: \", x_val.std().round(2).to_list())"
      ]
    },
    {
      "cell_type": "markdown",
      "metadata": {
        "id": "C4djL2J-By8Y"
      },
      "source": [
        "# Part 1 (35 pts) Logstic regression with L2 (Ridge) regularization\n",
        "\n",
        "For this part of the assignment, you will implement and experiment with Logistic regression with L2 regularization (Algorithm 1 in Assignment 2 Reference Information on canvas).\n"
      ]
    },
    {
      "cell_type": "markdown",
      "metadata": {
        "id": "T0edcBa0MtVP"
      },
      "source": [
        "##  🚧  Impelement Logistic regression with L2 regularization\n",
        "Your implemented function should take the following inputs:\n",
        "1. The training data\n",
        "2. The regularization parameter $\\lambda$\n",
        "3. The learning rate\n",
        "4. Max iterations (recommend to start with 5000)\n",
        "5. Threshold for change in loss (this will be used for early stopping: if the change in loss is less than the threshold, it is considered to have converged. Please use a threhold of $10^{-7}$. )\n",
        "\n",
        "Your function should output the learned weight vector and the sequence of training losses, which will allow you to visualize the convergence process to ensure proper convergence. You should also implement a divergence detection, if the loss starts to diverge, terminate and raise an alarm.\n",
        "\n"
      ]
    },
    {
      "cell_type": "code",
      "execution_count": null,
      "metadata": {
        "id": "sc2kX8JxXLiI"
      },
      "outputs": [
        {
          "name": "stdout",
          "output_type": "stream",
          "text": [
            "Converged at epoch 1617\n",
            "(198, 1)\n",
            "[[-1.14970022e-02]\n",
            " [-1.07076362e-01]\n",
            " [-1.33244229e-04]\n",
            " [ 2.66817147e-02]\n",
            " [-1.03466324e-01]\n",
            " [-6.12680280e-01]\n",
            " [ 5.52611870e-01]\n",
            " [ 4.77148381e-02]\n",
            " [-3.13053128e-02]\n",
            " [-3.56238593e-03]\n",
            " [-1.56887121e-03]\n",
            " [ 2.69673523e-03]\n",
            " [ 1.30034295e-02]\n",
            " [ 3.44104468e-04]\n",
            " [ 4.38929149e-03]\n",
            " [-5.76286249e-03]\n",
            " [-4.45484169e-03]\n",
            " [-2.94242853e-02]\n",
            " [-6.06783003e-03]\n",
            " [-6.11738814e-04]\n",
            " [-2.11158245e-03]\n",
            " [-1.01671390e-03]\n",
            " [ 1.59053576e-03]\n",
            " [ 2.47388044e-03]\n",
            " [-1.80984877e-02]\n",
            " [-8.96301938e-04]\n",
            " [-3.83350718e-03]\n",
            " [ 6.53428990e-04]\n",
            " [ 4.32951870e-03]\n",
            " [-2.98741458e-03]\n",
            " [-8.42396238e-03]\n",
            " [-1.49869728e-03]\n",
            " [ 3.76167949e-03]\n",
            " [ 8.89141961e-04]\n",
            " [-9.08985701e-03]\n",
            " [-2.93260994e-03]\n",
            " [-1.56202091e-03]\n",
            " [ 9.23431568e-02]\n",
            " [-6.30891509e-03]\n",
            " [-1.69617302e-02]\n",
            " [ 3.41190296e-03]\n",
            " [-2.40572345e-03]\n",
            " [-1.62380776e-02]\n",
            " [ 3.24939001e-03]\n",
            " [ 7.94036895e-03]\n",
            " [-1.21225560e-02]\n",
            " [-1.00246300e-02]\n",
            " [ 3.95830928e-03]\n",
            " [ 7.39144629e-03]\n",
            " [-1.71739268e-03]\n",
            " [-1.36528331e-04]\n",
            " [ 2.95533871e-03]\n",
            " [ 8.27789866e-04]\n",
            " [ 3.42613801e-04]\n",
            " [-6.45646689e-03]\n",
            " [-2.14765970e-02]\n",
            " [-7.04557206e-03]\n",
            " [-1.79979952e-02]\n",
            " [-1.03327486e-03]\n",
            " [-3.16191804e-02]\n",
            " [ 1.09439457e-03]\n",
            " [-2.13774715e-04]\n",
            " [ 8.83184808e-02]\n",
            " [-2.56978346e-01]\n",
            " [ 6.39207552e-02]\n",
            " [-9.44562754e-06]\n",
            " [-1.80897811e-03]\n",
            " [ 2.35670116e-03]\n",
            " [ 2.85086965e-03]\n",
            " [-2.66007561e-03]\n",
            " [-6.12525243e-03]\n",
            " [-9.43702322e-05]\n",
            " [ 1.48032494e-03]\n",
            " [-1.07196170e-02]\n",
            " [ 1.19671733e-03]\n",
            " [-6.47461626e-04]\n",
            " [-4.14846140e-03]\n",
            " [-6.07212892e-03]\n",
            " [-4.48911336e-03]\n",
            " [ 4.74201252e-03]\n",
            " [ 2.03687555e-03]\n",
            " [ 1.56876207e-04]\n",
            " [ 1.29662586e-03]\n",
            " [ 8.09719409e-04]\n",
            " [ 7.12687088e-04]\n",
            " [-4.68217485e-03]\n",
            " [ 8.37995526e-04]\n",
            " [ 4.60263684e-03]\n",
            " [ 1.02014734e-01]\n",
            " [-2.51779113e-03]\n",
            " [-5.86565480e-04]\n",
            " [-4.62895010e-03]\n",
            " [-2.92224855e-03]\n",
            " [ 6.30218589e-03]\n",
            " [ 1.13836808e-03]\n",
            " [ 1.60175116e-03]\n",
            " [ 6.59533093e-04]\n",
            " [-4.42287900e-04]\n",
            " [ 7.58388090e-04]\n",
            " [-1.24948264e-03]\n",
            " [ 5.98292628e-03]\n",
            " [-1.03523535e-03]\n",
            " [ 1.04864744e-03]\n",
            " [-3.99318903e-04]\n",
            " [-8.63529120e-04]\n",
            " [ 3.05439051e-03]\n",
            " [-9.40344071e-04]\n",
            " [ 2.17633506e-04]\n",
            " [-2.62565081e-03]\n",
            " [ 9.49312533e-04]\n",
            " [-7.05720559e-04]\n",
            " [ 5.58937573e-04]\n",
            " [ 2.76763256e-04]\n",
            " [-6.21115220e-04]\n",
            " [ 1.30290830e-04]\n",
            " [ 1.00186984e-03]\n",
            " [ 6.80130607e-04]\n",
            " [ 2.98818862e-04]\n",
            " [-8.06353407e-04]\n",
            " [ 3.23346223e-03]\n",
            " [-4.41867537e-03]\n",
            " [ 1.74277907e-03]\n",
            " [ 1.65560046e-03]\n",
            " [-1.42233715e-03]\n",
            " [-3.89703167e-03]\n",
            " [ 5.96996372e-04]\n",
            " [ 1.71866197e-03]\n",
            " [-7.57641996e-04]\n",
            " [-2.56533716e-04]\n",
            " [ 1.37198465e-03]\n",
            " [ 1.79881382e-03]\n",
            " [-3.27575778e-03]\n",
            " [-2.14084743e-03]\n",
            " [ 2.20729003e-03]\n",
            " [ 1.93574560e-03]\n",
            " [ 9.21617491e-05]\n",
            " [ 3.08644254e-03]\n",
            " [-1.31832987e-03]\n",
            " [ 9.29795633e-04]\n",
            " [ 3.74533592e-04]\n",
            " [ 8.66329687e-04]\n",
            " [ 6.00315193e-04]\n",
            " [ 1.41915705e-03]\n",
            " [ 1.37057756e-03]\n",
            " [ 2.44680414e-03]\n",
            " [ 5.01213436e-04]\n",
            " [-1.68386087e-03]\n",
            " [ 1.65772185e-03]\n",
            " [ 1.49540276e-03]\n",
            " [-9.08132723e-04]\n",
            " [ 1.07968546e-03]\n",
            " [-4.21723120e-04]\n",
            " [-9.78174496e-04]\n",
            " [ 1.19595246e-03]\n",
            " [-1.02574239e-04]\n",
            " [-4.73860241e-03]\n",
            " [-1.82339144e-03]\n",
            " [-3.66129272e-04]\n",
            " [ 1.27710581e-05]\n",
            " [-4.38692476e-03]\n",
            " [ 1.89277417e-03]\n",
            " [-3.62773093e-03]\n",
            " [ 2.03404149e-03]\n",
            " [-8.50209110e-03]\n",
            " [-2.07457284e-03]\n",
            " [ 9.85456137e-02]\n",
            " [-1.17564782e-04]\n",
            " [-4.76214250e-04]\n",
            " [-6.61322268e-04]\n",
            " [-3.79315511e-03]\n",
            " [-5.19797861e-04]\n",
            " [ 6.02713976e-04]\n",
            " [ 6.90051543e-04]\n",
            " [ 3.97101755e-03]\n",
            " [ 9.92826677e-04]\n",
            " [-2.24818962e-04]\n",
            " [-9.08776518e-04]\n",
            " [ 4.47336440e-04]\n",
            " [-2.95926794e-04]\n",
            " [ 2.65022434e-04]\n",
            " [-1.15163834e-03]\n",
            " [-1.99138681e-03]\n",
            " [ 1.67072495e-03]\n",
            " [ 1.89449841e-03]\n",
            " [-3.00620559e-03]\n",
            " [-4.12779953e-04]\n",
            " [-1.96238733e-03]\n",
            " [-9.26314425e-03]\n",
            " [-2.69986397e-01]\n",
            " [-1.93628990e-03]\n",
            " [ 2.03330264e-02]\n",
            " [ 4.00552009e-03]\n",
            " [ 2.59608372e-02]\n",
            " [ 3.56372336e-02]\n",
            " [ 3.01127472e-03]\n",
            " [-1.34447546e-03]\n",
            " [-8.59588214e-02]\n",
            " [ 1.93254115e-02]]\n"
          ]
        }
      ],
      "source": [
        "# your code goes here\n",
        "def sigmoid(x):\n",
        "    return 1 / (1 + np.exp(-x))\n",
        "\n",
        "def ridge_logistic_gradient_descent(x, y, gamma, lmbda, epochs, epsilon_loss=None, epsilon_grad=None):\n",
        "    y=np.expand_dims(y, axis=-1)\n",
        "\n",
        "    N,d = x.shape\n",
        "    w = np.random.normal(0, 0.01, (d,1))\n",
        "    losses = []\n",
        "\n",
        "    for epoch in range(epochs):\n",
        "\n",
        "        #Compute prediction\n",
        "        y_pred = x @ w\n",
        "\n",
        "        #Calculate loss\n",
        "        sigma = sigmoid(y_pred)\n",
        "        \n",
        "        logistic_term = -np.mean(y * np.log(sigma) + (1 - y) * np.log(1 - sigma))\n",
        "        reg_term = (lmbda/2) * np.sum(w[1:]**2) #Exclude bias from regularization\n",
        "\n",
        "        ridge_loss = logistic_term + reg_term\n",
        "\n",
        "        #Calculate gradient of the loss\n",
        "        gradient_logistic = (1/N) * x.T @ (sigma-y)\n",
        "\n",
        "        gradient_reg = lmbda * w\n",
        "        gradient_reg[0] = 0 #Do not regularize bias\n",
        "\n",
        "        gradient_ridge = gradient_logistic + gradient_reg\n",
        "\n",
        "        #Perform gradient descent update\n",
        "        w -= gamma * gradient_ridge \n",
        "\n",
        "        #Store loss\n",
        "        losses.append(ridge_loss)\n",
        "\n",
        "        if epsilon_loss is not None and epoch > 0:\n",
        "            if abs(losses[-1] - losses[-2]) < epsilon_loss:\n",
        "                print(f\"Converged at epoch {epoch}\")\n",
        "                break\n",
        "        \n",
        "        if epsilon_grad is not None:\n",
        "            if np.linalg.norm(gradient_ridge) < epsilon_grad:\n",
        "                print(f\"Gradient converged at epoch {epoch}\")\n",
        "                break\n",
        "    \n",
        "    return w, losses\n",
        "\n",
        "# weights, losses = ridge_logistic_gradient_descent(x_train.to_numpy(), y_train.to_numpy(), gamma=0.01, lmbda=0.1, epochs=5000, epsilon_loss=10e-7)\n",
        "\n",
        "# print(weights.shape)\n",
        "# print(weights)"
      ]
    },
    {
      "cell_type": "markdown",
      "metadata": {
        "id": "DIn4qhdOftK9"
      },
      "source": [
        "## 🚧 Experiment with different regularization parameters\n",
        "For this part, you will run your L2 logistic regression on the training data with different regularization strengths $\\lambda\\in \\{10^i: i\\in[-5, 0]\\}$. This is the minimim range of values required for your exploration. You are encouraged to try additional intermediate or more extreme values if it helps you better analyze the results and answer the questions.\n",
        "\n",
        "**Learning Rate Tuning Guidelines:**\n",
        "The learning rate value ($\\gamma$)  will need to be adjusted depending on the value of $\\lambda$:\n",
        "*   For very small $\\lambda$ values (e.g.,$10^{-5}, 10^{-4}$), start with a  larger learning rate (e.g., $\\gamma=1$) .\n",
        "*   For moderate $\\lambda$ values like $10^{-3}$, try a smaller learning rate like $\\gamma = 0.1$.\n",
        "*   As $\\lambda$ increases further, continue decreasig the learning rate to maintain stable convergence.\n",
        "\n",
        "** Why smaller learning rate for larger $\\lambda$?**\n",
        "Stronger regularization amplifies the contribution of the penalty term in the gradient. Using the same learning rate across all $\\lambda$ values can lead to overly large update steps and unstable training. Adjusting the learning rate ensures smoother and more stable convergence.\n",
        "\n",
        "\n",
        "**What to complete here.**\n",
        "For each $\\lambda$ value:\n",
        "\n",
        "* Run your logistic regression until it converges(using your early stopping critierion).\n",
        "* Record the final weight vector, which will be used later.\n",
        "* Compute and record the training and validation accuracies\n",
        "* Summarize your results in a clear table that lists each $\\lambda$ value, the corresponding training accuracy, and validation accuracy. You will use this data in the next part to create your plots."
      ]
    },
    {
      "cell_type": "code",
      "execution_count": 9,
      "metadata": {
        "id": "t3PH0wZcNXxC"
      },
      "outputs": [
        {
          "name": "stdout",
          "output_type": "stream",
          "text": [
            "Learning rate: 0.001,   Regularization rate: 1\n",
            "Converged at epoch 1850\n",
            "0.49434482889335735\n",
            "Learning rate: 0.01,   Regularization rate: 0.1\n",
            "Converged at epoch 1623\n",
            "0.7637095634068919\n",
            "Learning rate: 0.1,   Regularization rate: 0.01\n",
            "Converged at epoch 906\n",
            "1.6149170325816\n",
            "Learning rate: 1.0,   Regularization rate: 0.001\n",
            "Converged at epoch 670\n",
            "2.961652178437688\n",
            "Learning rate: 1,   Regularization rate: 0.0001\n",
            "Converged at epoch 1491\n",
            "4.178954636289856\n"
          ]
        },
        {
          "data": {
            "image/png": "[encoded data removed]",
            "text/plain": [
              "<Figure size 1200x800 with 1 Axes>"
            ]
          },
          "metadata": {},
          "output_type": "display_data"
        }
      ],
      "source": [
        "# Your code goes here\n",
        "# Set random seed for reproducibility\n",
        "np.random.seed(42)\n",
        "\n",
        "reg_rates = [10**-i for i in range(0,5)]\n",
        "learning_rates = [10e-4, 10e-3, 10e-2, 10e-1, 1, 1]\n",
        "\n",
        "w_list = []\n",
        "train_losses_list = []\n",
        "converged_rates = []\n",
        "val_mse_list = []\n",
        "\n",
        "for i, (reg_rate, lr) in enumerate(zip(reg_rates, learning_rates)):\n",
        "    print(f\"Learning rate: {lr},   Regularization rate: {reg_rate}\")\n",
        "    \n",
        "    w, losses = ridge_logistic_gradient_descent(x_train.to_numpy(), y_train.to_numpy(), gamma=lr, lmbda=reg_rate, epochs=5000, epsilon_loss=10e-7)\n",
        "    \n",
        "    # Check if converged (no NaN values)\n",
        "    if not np.any(np.isnan(w)) and not np.any(np.isnan(losses)):\n",
        "        w_list.append(w)\n",
        "        train_losses_list.append(losses)\n",
        "        converged_rates.append(lr)\n",
        "        \n",
        "        # Calculate validation MSE\n",
        "        y_val_pred = x_val.to_numpy() @ w\n",
        "        val_mse = np.mean((y_val_pred - y_val.to_numpy())**2)\n",
        "        val_mse_list.append(val_mse)\n",
        "        print(np.array(val_mse_list).mean())\n",
        "\n",
        "plt.figure(figsize=(12, 8))\n",
        "colors = ['red', 'blue', 'green', 'orange', 'purple']\n",
        "\n",
        "for i, (lr, losses) in enumerate(zip(converged_rates, train_losses_list)):\n",
        "    plt.plot(losses, color=colors[i % len(colors)], label=f'γ = {lr}', linewidth=2)\n",
        "\n",
        "plt.xlabel('Epoch')\n",
        "plt.ylabel('Training MSE Loss')\n",
        "plt.title('Training Loss Curves for Different Learning Rates')\n",
        "plt.legend()\n",
        "plt.grid(True, alpha=0.3)\n",
        "plt.show()\n"
      ]
    },
    {
      "cell_type": "markdown",
      "metadata": {
        "id": "IHbzTPFkNNp9"
      },
      "source": [
        "## 🚧 Visualize and analyze $\\lambda$'s impact on training and validation accuracy\n",
        "\n",
        "Now, use the results from your experiments to visualize how model performance changes with the regularization strength. Plot both the training accuracy and validation accuracy of your L2 regularized logistic regression model as a function of $\\lambda$.\n",
        "* Use a logarithmic scale for the x-axis to represent $\\lambda$. Each tick mark on the x-axis should correspond to an integar $i$ and be labeled as $10^{i}$. This helps you clearly see performance trends across multiple orders of magnitude of $\\lambda$.  \n",
        "\n",
        "* Plot the two curves in the same figure, one for training accuracy and one for validation accuracy, using different colors for clarity.\n",
        "* Include a legend to indicate which curve corresponds to which accuracy measure, and label the axis clearly.\n",
        "\n",
        "Your final plot should make it easy to compare how regularization affects training vs. validation performance."
      ]
    },
    {
      "cell_type": "code",
      "execution_count": null,
      "metadata": {
        "id": "oW7FWwnKQ_Sh"
      },
      "outputs": [],
      "source": [
        "# Your code goes here"
      ]
    },
    {
      "cell_type": "markdown",
      "metadata": {
        "id": "0l6zfscrfBgs"
      },
      "source": [
        "## ✍️ Question\n",
        "\n",
        "(a) Which $\\lambda$ value leads to the best training and validation accuracy respectively? Which one should you use if you are to pick a model for deployment?\n",
        "\n",
        "(b) What trend do you observe for the training and validation accuracy respectively as we increae $\\lambda$? Provide your explanation for this observed trend.\n"
      ]
    },
    {
      "cell_type": "markdown",
      "metadata": {
        "id": "otogNnOaTNCp"
      },
      "source": [
        "**Your answer goes here**"
      ]
    },
    {
      "cell_type": "markdown",
      "metadata": {
        "id": "ZrZaz5OUNpyF"
      },
      "source": [
        "## 🚧  Examine the impact on feature weights\n",
        "For each value of $\\lambda$, present the top five features based on the magnitude of their weights $|w_j|$, excluding the bias term $w_0$. Organize your results into a table. Each column should be dedicated to a specific $\\lambda$ value, and rows should indicate the rank of the feature. Ensure that each cell in the table contains both the feature name and its corresponding weight $w_j$.\n",
        "\n",
        "For example:\n",
        "\n",
        "| Rank  | $\\lambda = 10^{-4}$      | $\\lambda = 10^{-3}$      | $\\lambda = 10^{-2}$      |\n",
        "|-------|--------------------------|--------------------------|--------------------------|\n",
        "| 1     | feature_a, 0.8           | feature_b, 0.7           | feature_c, 0.6           |\n",
        "| 2     | feature_d, 0.7           | feature_e, 0.6           | feature_f, 0.5           |\n",
        "| 3     | feature_g, 0.6           | feature_h, 0.5           | feature_i, 0.4           |\n",
        "| 4     | feature_j, 0.5           | feature_k, 0.4           | feature_l, 0.3           |\n",
        "| 5     | feature_m, 0.4           | feature_n, 0.3           | feature_o, 0.2           |\n",
        "\n",
        "The easiest way is to create a dataframe for this table and print the dataframe."
      ]
    },
    {
      "cell_type": "code",
      "execution_count": null,
      "metadata": {
        "id": "QhpNixB_Smdl"
      },
      "outputs": [],
      "source": [
        "#Your code goes here"
      ]
    },
    {
      "cell_type": "markdown",
      "metadata": {
        "id": "QMienw7hSpjn"
      },
      "source": [
        "## ✍️ Question\n",
        "\n",
        "1. Do you observe any difference is the top features with different $\\lambda$ values?\n",
        "2. Do you observe any difference in the weights of the top features for different $\\lambda$ values?\n",
        "3. Please provide your own explanation/interpretation of the observed differences."
      ]
    },
    {
      "cell_type": "markdown",
      "metadata": {
        "id": "qloa-NvMTKVH"
      },
      "source": [
        "**Your answer goes here**"
      ]
    },
    {
      "cell_type": "markdown",
      "metadata": {
        "id": "K_rCHiS4TVPt"
      },
      "source": [
        "## 🚧 Examine the impact on sparsity of weights\n",
        "\n",
        "For each different value of $\\lambda$, compute the sparsity of the learned classifier as the number of feature weights that approxmately equal zero ($\\leq 10^{-6}$) and report the sparsity number for each $\\lambda$ value."
      ]
    },
    {
      "cell_type": "code",
      "execution_count": null,
      "metadata": {
        "id": "rkMFgQ38T96l"
      },
      "outputs": [],
      "source": [
        "# Your code goes here"
      ]
    },
    {
      "cell_type": "markdown",
      "metadata": {
        "id": "1qgi8wxLsLue"
      },
      "source": [
        "## ✍️Question\n",
        "\n",
        "1. When we have very small $\\lambda$ values (aka very weak regularization), does your learned model have zero weights for some features?  If so, why would it be that way?\n",
        "2. What trend do you observe for the sparsity of the model as we increase $\\lambda$? If we further increase $\\lambda$ to even larger values, what do you expect to happen to the sparsity value? Why?\n"
      ]
    },
    {
      "cell_type": "markdown",
      "metadata": {
        "id": "cUV1m5yeUJgw"
      },
      "source": [
        "**Your answer goes here**"
      ]
    },
    {
      "cell_type": "markdown",
      "metadata": {
        "id": "3DXrFWL_up5F"
      },
      "source": [
        "# Part 2. (38 pts) Logistic regression with L1 regularization.\n",
        "\n",
        "In this part, we will repeat the part 1 but with L1 regularization. Please refer to the algorithm 2 in the Assignment 2 Reference Information file for the details of the algorithm."
      ]
    },
    {
      "cell_type": "markdown",
      "metadata": {
        "id": "tjXJLpLNvLY1"
      },
      "source": [
        "## 🚧 Impelement Logistic regression with L1 regularization\n",
        "**Requirment.**\n",
        "Implement Algorithm 2 (Proximal gradient descent for LASSO logistic regression) for L1 regularized Logistic Regress, described in the IA2 reference information sheet provided on Canvas. Your implemented function should take the following inputs:\n",
        "1. The training data\n",
        "2. The regularization parameter $\\lambda$\n",
        "3. The learning rate\n",
        "4. Max iterations (recommend to start with 5000)\n",
        "5. Threshold for change in loss (this will be used for early stopping: if the change in loss is less than the threshold, it is considered to have converged. Please use a threshold of $10^{-7}$. )\n",
        "\n",
        "Your function should output the learned weight vector and the sequence of losses so that you can visualize the convergence process. You should also implement a divergence detection, if the loss starts to diverge, terminate and raise an alarm.\n"
      ]
    },
    {
      "cell_type": "code",
      "execution_count": null,
      "metadata": {
        "id": "tZOt2YfzvY2V"
      },
      "outputs": [],
      "source": [
        "# Your code goes here."
      ]
    },
    {
      "cell_type": "markdown",
      "metadata": {
        "id": "o-ALab8qvbYO"
      },
      "source": [
        "## 🚧 Experiment with different regularization parameters\n",
        "For this part, you will need to apply your L1 logistic regression algorithm on the training data with different regularization parameters $\\lambda\\in \\{10^i: i\\in[-6, -1]\\}$. You are encouraged to experiment with more extreme or in-between values if it helps you in answering the questions. But be advised using larger $\\lambda$ values in this case makes it difficult to converge.\n",
        "\n",
        "**Learning Rate Tuning Guidelines:**\n",
        "For L1 regularization, I recommend starting with $\\gamma = 2$ for very small $\\lambda$s like $10^{-6}, 10^{-5}$, and decreasing the learning for larger $\\lambda$ values.\n",
        "\n",
        "**What to complete here.**\n",
        "For each $\\lambda$ value:\n",
        "* Run your L1 regularized logistic regression until it converges(using your early stopping critierion).\n",
        "* Record the final weight vector, which will be used later.\n",
        "* Compute and record the training and validation accuracies\n",
        "* Summarize your results in a clear table that lists each  λ  value, the corresponding training accuracy, and validation accuracy. You will use this data in the next part to create your plots."
      ]
    },
    {
      "cell_type": "code",
      "execution_count": null,
      "metadata": {
        "id": "QruW29Nn1zFL"
      },
      "outputs": [],
      "source": [
        "# Your code goes here"
      ]
    },
    {
      "cell_type": "markdown",
      "metadata": {
        "id": "WP15VwDh11e6"
      },
      "source": [
        "## 🚧 Visualize and analyze  λ 's impact on training and validation accuracy\n",
        "Now, use the results from your experiments to visualize how model performance changes with the regularization strength. Plot both the training accuracy and validation accuracy of your L1 regularized logistic regression model as a function of $\\lambda$.\n",
        "* Use a logarithmic scale for the x-axis to represent $\\lambda$. Each tick mark on the x-axis should correspond to an integar $i$ and be labeled as $10^{i}$. This helps you clearly see performance trends across multiple orders of magnitude of $\\lambda$.  \n",
        "\n",
        "* Plot the two curves in the same figure, one for training accuracy and one for validation accuracy, using different colors for clarity.\n",
        "* Include a legend to indicate which curve corresponds to which accuracy measure, and label the axis clearly.\n",
        "\n",
        "Your final plot should make it easy to compare how regularization affects training vs. validation performance."
      ]
    },
    {
      "cell_type": "code",
      "execution_count": null,
      "metadata": {
        "id": "njX32s4Q3xdy"
      },
      "outputs": [],
      "source": [
        "# Your code goes here"
      ]
    },
    {
      "cell_type": "markdown",
      "metadata": {
        "id": "dKpnfLh230m4"
      },
      "source": [
        "## ✍️Question\n",
        "Based on your results, answer the following questions.\n",
        "\n",
        "a. For L1 LR, which $\\lambda$ value leads to the best training and validatoin accuracy respectively? If you were to select a model for deployment, which\n",
        "$\\lambda$ would you choose, and why?\n",
        "\n",
        "b. What trend do you observe for the training and validation accuracy respectively as we increae $\\lambda$? Explain this trend and provide an intuitive reasoning for why it occurs.\n",
        "\n",
        "c. Comparing L1 and L2 regularized logistic regression, which one is more sensitive to the choice of the regularization parameter? An algorithm is considered sensitive if its performance or learned parameters change significantly when the regularization strength changes.\n",
        "Since your experiments may have used a smaller range of $\\lambda$ values for L1 regularization due to convergence concerns, you may use an off-the-shelf implementation (e.g., from scikit-learn) to explore this comparison more fully. Reflect on the differences you observe (or expect to observe) between L1 and L2 in terms of their sensitivity, and explain why.\n"
      ]
    },
    {
      "cell_type": "markdown",
      "metadata": {
        "id": "aH54ckNf5u9n"
      },
      "source": [
        "**Your answer goes here**"
      ]
    },
    {
      "cell_type": "markdown",
      "metadata": {
        "id": "9Czbhsql7x7v"
      },
      "source": [
        "## 🚧 Examine the impact on feature weights\n",
        "For each value of $\\lambda$, present the top five features based on the magnitude of their weights $|w_j|$, excluding the bias term $w_0$. Organize your results into a table. Each column should be dedicated to a specific $\\lambda$ value, and rows should indicate the rank of the feature. Ensure that each cell in the table contains both the feature name and its corresponding weight $w_j$.\n",
        "\n",
        "For example:\n",
        "\n",
        "| Rank  | $\\lambda = 10^{-4}$      | $\\lambda = 10^{-3}$      | $\\lambda = 10^{-2}$      |\n",
        "|-------|--------------------------|--------------------------|--------------------------|\n",
        "| 1     | feature_a, 0.8           | feature_b, 0.7           | feature_c, 0.6           |\n",
        "| 2     | feature_d, 0.7           | feature_e, 0.6           | feature_f, 0.5           |\n",
        "| 3     | feature_g, 0.6           | feature_h, 0.5           | feature_i, 0.4           |\n",
        "| 4     | feature_j, 0.5           | feature_k, 0.4           | feature_l, 0.3           |\n",
        "| 5     | feature_m, 0.4           | feature_n, 0.3           | feature_o, 0.2           |"
      ]
    },
    {
      "cell_type": "code",
      "execution_count": null,
      "metadata": {
        "id": "1dWQcu5J76ZI"
      },
      "outputs": [],
      "source": [
        "# Your code goes here"
      ]
    },
    {
      "cell_type": "markdown",
      "metadata": {
        "id": "ibv19RIT791s"
      },
      "source": [
        "##✍️Question\n",
        "\n",
        "1. Do you observe any difference is the top features with different $\\lambda$ values?\n",
        "2. Do you observe any difference in the weights of the top features for different $\\lambda$ values?\n",
        "3. Please provide your own explanation/interpretation of the observed differences.\n",
        "4. What are some differences for this part of the results comparing L1 and L2 regularization? Provide your own explanation for such differences.\n"
      ]
    },
    {
      "cell_type": "markdown",
      "metadata": {
        "id": "7Azz6YUb8epJ"
      },
      "source": [
        "**Your answer goes here**"
      ]
    },
    {
      "cell_type": "markdown",
      "metadata": {
        "id": "pbEGWb2r8lT-"
      },
      "source": [
        "## 🚧 Examine the impact on sparsity of weights\n",
        "\n",
        "For each different value of $\\lambda$, compute the sparsity of the learned L1 regularized logistic regression classifier as the number of feature weights that approxmately equal zero ($\\leq 10^{-6}$) and report the sparsity number for each $\\lambda$ value."
      ]
    },
    {
      "cell_type": "code",
      "execution_count": null,
      "metadata": {
        "id": "Fr7Z43bH8veX"
      },
      "outputs": [],
      "source": [
        "# Your code goes here"
      ]
    },
    {
      "cell_type": "markdown",
      "metadata": {
        "id": "HOW68szl8yNG"
      },
      "source": [
        "## ✍️Question\n",
        "\n",
        "1. What trend do you observe for the sparsity of the L1 regularized model as we change $\\lambda$? If we further increase $\\lambda$, what do you expect? Why?\n",
        "2. What are some differences for this part of the results comparing L1 and L2 regularization? Provide your own explanation for such differences.\n"
      ]
    },
    {
      "cell_type": "markdown",
      "metadata": {
        "id": "2B_am07d9Ei7"
      },
      "source": [
        "**Your answer goes here**"
      ]
    },
    {
      "cell_type": "markdown",
      "metadata": {
        "id": "u84B_DIRYdRy"
      },
      "source": [
        "# Part 3. (15 pts) Impact of Noise in Training Data\n",
        "For this part, you will be training both L1 and L2 logistic regression models using the noisy training data (IA2-train-noisy.csv)."
      ]
    },
    {
      "cell_type": "markdown",
      "metadata": {
        "id": "vTFA420-pNJq"
      },
      "source": [
        "## 🚧 Experiment L1 and L2 Logistic Regression on Noisy Training data.\n",
        "This experiment follows the same structure as Parts 1 and 2, so you can reuse your previous code—just provide the noisy training data (IA2-train-noisy.csv) as input.\n",
        "You may also use an off-the-shelf implementation such as sklearn.linear_model.LogisticRegression, which will typically be more efficient than your custom version.\n",
        "If you choose to use scikit-learn:\n",
        "* Set the penalty argument to 'l1' or 'l2'.\n",
        "\n",
        "* Use the 'liblinear' or 'saga' solver (required for L1).\n",
        "\n",
        "* Remember that scikit-learn’s regularization parameter is defined as C=$\\frac{1}{\\lambda}$, so smaller 𝐶 values correspond to stronger regularization.\n",
        "\n",
        "For each regularization type:\n",
        "\n",
        "* Train the model for each λ value as specified in each part. (For L1, you can exclude $\\lambda=0.1$, which can be difficult to converge)\n",
        "\n",
        "* Record the accuracies on the noisy training data and the clean validation data for each $\\lambda$ value.\n",
        "\n",
        "* Plot both accuracies as functions of λ on a logarithmic x-axis, using distinct colors and a clear legend.\n",
        "\n",
        "* Both curves (training and validation) should appear on the same figure for easy comparison.\n",
        "\n",
        "Your plots should clearly illustrate how model performance changes with different regularization strengths under noisy conditions."
      ]
    },
    {
      "cell_type": "code",
      "execution_count": null,
      "metadata": {
        "id": "FC1GE-OkYPwL"
      },
      "outputs": [],
      "source": [
        "# Your code goes here\n",
        "\n"
      ]
    },
    {
      "cell_type": "markdown",
      "metadata": {
        "id": "OL-EIkrVizZb"
      },
      "source": [
        "## ✍️Question\n",
        "Your experiments should reveal that when trained with the noisy data, both L1 and L2 regulated logistic regression have substantially reduced training accuracies, but only a small drop in validation accuracy.\n",
        "\n",
        "Here I provide two possible explanations for this phenonmenon:\n",
        "1. This is due to the use of regularization, which limits the model's ability to overfit to the noise.\n",
        "2. This is due to the simplicity of the model, which prevents overfitting even without regularization.\n",
        "\n",
        "Which explanation better accounts for your results, and why? Support your reasoning using evidence from your plots (e.g., how accuracy changes with\n",
        "λ, or differences between L1 and L2).\n",
        "\n",
        "Design a brief experiment to figure which explanation fits in this particular case. between these two explanations. Describe what you would vary, what you would keep fixed, and what outcome would support each hypothesis. (You only need to describe the experiment, not run it.)"
      ]
    },
    {
      "cell_type": "markdown",
      "metadata": {
        "id": "EmKd-MT8u34x"
      },
      "source": [
        "**Your answer goes here.**"
      ]
    },
    {
      "cell_type": "markdown",
      "metadata": {
        "id": "Cu4q7E3CJTwu"
      },
      "source": [
        "# Part 4. (10 pts) In-class competition\n",
        "We will host a in-class competition using the IA2 data. To participate in this competition, use the following link:\n",
        "https://www.kaggle.com/competitions/ai534-ia2-25\n",
        "\n",
        "**Model restriction.** For this competition, you are required to use logistic regression models. You are welcome to use off-the-shelf implementations, such as sklearn.linear_model.LogisticRegression.\n",
        "\n",
        "**Exploration encouraged.** To improve your model's performance, you may:\n",
        "\n",
        "* Perform feature engineering (create, modify, or combine features).\n",
        "* Manipulate the data (upsample or downsample the training set)\n",
        "* Experiment with hyperparameter tuning.\n",
        "* Try different regularization methods (e.g., L1, L2).\n",
        "\n",
        "\n",
        "**Team work.** You should continue working in the same team for this competition. The training and validation data provided on the kaggle site are the same as the IA2 assignment.\n",
        "\n",
        "**Evaluation** To participate, you will apply your trained/tuned model to the test data provided on kaggle (which does not contian the response column), and submit prediction files to be scored, based on prediction accuracy.\n",
        "\n",
        "There are two parts to the score you will see on kaggle. The performance reported on the public leaderboard and a score reported on the private leaderboard. The public leader board scores are visible through out the competition and you can use it as an external validation to help you refine your model design and tune the model. The private leader board scores are evaluated using a separate set of test data as the final performance evaluation and will be released only after the competition is closed.\n",
        "\n",
        "**Points and bonus points.** You will get the full 10 points if you\n",
        "\n",
        "* participate in the competition (successful submissions)\n",
        "\n",
        "* achieve non-trivial performance (outperform some simple baseline)\n",
        "\n",
        "* complete the report on the competition below.\n",
        "\n",
        "You will get 3 **nonus points** if your team scored top 3 on the private leader board, or entered the largest number of unique submissions (unique sores).\n",
        "\n",
        "No late submission. The competition will be closed at 11:59 pm of the due date."
      ]
    },
    {
      "cell_type": "markdown",
      "metadata": {
        "id": "nUBFNWdVvP6g"
      },
      "source": [
        "##✍️ Report on the Kaggle competition\n",
        "1. Team name:\n",
        "2. Exploration Summary: Brief describe the approches you tried.\n",
        "3. Most Impactful Change: Which exploration led to the most performance improvement, and why do you think it helped?"
      ]
    },
    {
      "cell_type": "code",
      "execution_count": null,
      "metadata": {
        "id": "VBJ-Uzzk7yIC"
      },
      "outputs": [],
      "source": [
        "#running this code block will convert this notebook and its outputs into a pdf report.\n",
        "!jupyter nbconvert --to html /content/gdrive/MyDrive/Colab\\ Notebooks/IA2-2024.ipynb  # you might need to change this path to appropriate value to location your copy of the IA0 notebook\n",
        "\n",
        "input_html = '/content/gdrive/MyDrive/Colab Notebooks/IA2-2024.html' #you might need to change this path accordingly\n",
        "output_pdf = '/content/gdrive/MyDrive/Colab Notebooks/IA2output.pdf' #you might need to change this path or name accordingly\n",
        "\n",
        "# Convert HTML to PDF\n",
        "pdfkit.from_file(input_html, output_pdf)\n",
        "\n",
        "# Download the generated PDF\n",
        "files.download(output_pdf)"
      ]
    }
  ],
  "metadata": {
    "colab": {
      "provenance": [],
      "toc_visible": true
    },
    "kernelspec": {
      "display_name": "ml_class",
      "language": "python",
      "name": "python3"
    },
    "language_info": {
      "codemirror_mode": {
        "name": "ipython",
        "version": 3
      },
      "file_extension": ".py",
      "mimetype": "text/x-python",
      "name": "python",
      "nbconvert_exporter": "python",
      "pygments_lexer": "ipython3",
      "version": "3.12.3"
    }
  },
  "nbformat": 4,
  "nbformat_minor": 0
}

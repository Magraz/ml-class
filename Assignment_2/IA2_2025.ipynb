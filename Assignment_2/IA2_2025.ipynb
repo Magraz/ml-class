{
  "cells": [
    {
      "cell_type": "markdown",
      "metadata": {
        "id": "zOK-6wmkFuv6"
      },
      "source": [
        "# AI534 IA2 - Logistic regression with L2 and L1 regularization\n",
        "\n",
        "**Submission**:  \n",
        "1. Your completed notebook in ipynb\n",
        "2. a PDF report that includes all code outputs and figures. You can use the code block at the end of the notebook to generate a PDF export of the notebook with the outputs for your report. However, if any figures or outputs are missing, you must either:\n",
        "\n",
        "\n",
        "* Manually add the missing figures to the PDF using a PDF editor or\n",
        "* Copy your notebook contents into a Word or Google Doc, insert the missing outputs there, and export that document as a PDF.\n",
        "\n",
        "\n",
        "**Overview.** In this assignment, we will implement and experiment with logistic regression with L2 and L1 regularization to predict whether a health insurance customer will purchase car insurance based on a set of features.\n",
        "\n",
        "You may modify the starter code as you see fit, including changing the signatures of functions and adding/removing helper functions. However, please make sure that your TA can understand what you are doing and why."
      ]
    },
    {
      "cell_type": "markdown",
      "metadata": {
        "id": "aP84hVzY97rb"
      },
      "source": [
        "First lets import the necessary packages."
      ]
    },
    {
      "cell_type": "code",
      "execution_count": 1,
      "metadata": {
        "id": "mfC82i5Bw_Cm"
      },
      "outputs": [],
      "source": [
        "# !pip install nbconvert > /dev/null 2>&1\n",
        "# !pip install pdfkit > /dev/null 2>&1\n",
        "# !apt-get install -y wkhtmltopdf > /dev/null 2>&1\n",
        "# from google.colab import files\n",
        "\n",
        "import os\n",
        "import pdfkit\n",
        "import contextlib\n",
        "import sys\n",
        "import matplotlib.pyplot as plt\n",
        "import numpy as np\n",
        "import pandas as pd\n",
        "# add more imports if necessary"
      ]
    },
    {
      "cell_type": "markdown",
      "metadata": {
        "id": "7Z0sSMySHB-Z"
      },
      "source": [
        "# Part 0. (2 pts) Loading data and perform feature normalization for numerical features\n",
        "\n",
        "---\n",
        "\n",
        "On canvas, we have provided three different data files for this assignment: IA2-train.csv (for training), IA2-dev.csv(for validation) and IA2-train-noisy.csv (for Part 3). Download them and upload them to your google drive. Then mount the google drive from your google colab notebook:\n"
      ]
    },
    {
      "cell_type": "code",
      "execution_count": 2,
      "metadata": {
        "colab": {
          "base_uri": "https://localhost:8080/"
        },
        "id": "E6K8DsDcwjS6",
        "outputId": "9d36d1dd-cf28-4ad5-cf9e-ec34d5690376"
      },
      "outputs": [],
      "source": [
        "# from google.colab import drive\n",
        "# drive.mount('/content/gdrive')\n",
        "\n",
        "# train_path = '/content/gdrive/My Drive/AI534/IA2-train.csv' # DO NOT MODIFY THIS. Please make sure your data has this exact path\n",
        "# val_path = '/content/gdrive/My Drive/AI534/IA2-dev.csv' # DO NOT MODIFY THIS. Please make sure your data has this exact path\n",
        "# noisy_train_path = '/content/gdrive/My Drive/AI534/IA2-train-noisy.csv' # DO NOT MODIFY THIS. Please make sure your data has this exact path\n",
        "\n",
        "#My local paths\n",
        "train_path = './IA2-train.csv' # DO NOT MODIFY THIS. Please make sure your data has this exact path\n",
        "val_path = './IA2-dev.csv' # DO NOT MODIFY THIS. Please make sure your data has this exact path\n",
        "noisy_train_path = './IA2-train-noisy.csv' # DO NOT MODIFY THIS. Please make sure your data has this exact path"
      ]
    },
    {
      "cell_type": "markdown",
      "metadata": {
        "id": "nsuGx9oFxRu3"
      },
      "source": [
        " ## 🚧 Preprocessing.\n",
        " You have one additional preprocessing step to do, which is to perform feature normalization (z-score) for 3 numerical features (\"Age\", \"Annual_Premium\", \"Vintage\")."
      ]
    },
    {
      "cell_type": "code",
      "execution_count": 3,
      "metadata": {
        "id": "9uTz8ldzx0EM"
      },
      "outputs": [
        {
          "name": "stdout",
          "output_type": "stream",
          "text": [
            "Train set (normalized features):\n",
            "Mean: [0.0, 1.0, 0.59, -0.0, 1.0, 0.27, 0.71, -0.0, 0.0, 0.0, 0.0, 0.01, 0.02, 0.01, 0.0, 0.01, 0.01, 0.08, 0.01, 0.01, 0.02, 0.01, 0.01, 0.01, 0.03, 0.0, 0.01, 0.02, 0.0, 0.0, 0.01, 0.0, 0.0, 0.01, 0.0, 0.0, 0.01, 0.34, 0.03, 0.03, 0.0, 0.01, 0.02, 0.0, 0.02, 0.02, 0.01, 0.01, 0.01, 0.0, 0.05, 0.0, 0.01, 0.0, 0.02, 0.05, 0.02, 0.01, 0.0, 0.02, 0.0, 0.0, 0.62, 0.31, 0.07, 0.0, 0.0, 0.0, 0.0, 0.0, 0.0, 0.0, 0.0, 0.0, 0.0, 0.01, 0.0, 0.0, 0.0, 0.0, 0.0, 0.0, 0.0, 0.0, 0.0, 0.0, 0.0, 0.01, 0.25, 0.0, 0.0, 0.0, 0.0, 0.0, 0.0, 0.0, 0.0, 0.0, 0.0, 0.0, 0.0, 0.0, 0.0, 0.0, 0.0, 0.0, 0.0, 0.0, 0.0, 0.0, 0.0, 0.0, 0.0, 0.0, 0.0, 0.0, 0.0, 0.0, 0.0, 0.0, 0.0, 0.0, 0.0, 0.0, 0.0, 0.0, 0.0, 0.0, 0.0, 0.0, 0.0, 0.0, 0.0, 0.0, 0.0, 0.0, 0.0, 0.0, 0.0, 0.0, 0.0, 0.0, 0.0, 0.0, 0.0, 0.0, 0.0, 0.0, 0.0, 0.0, 0.0, 0.0, 0.0, 0.0, 0.0, 0.0, 0.0, 0.0, 0.0, 0.0, 0.0, 0.0, 0.0, 0.03, 0.0, 0.25, 0.0, 0.0, 0.0, 0.0, 0.0, 0.0, 0.0, 0.0, 0.0, 0.0, 0.0, 0.0, 0.0, 0.0, 0.0, 0.0, 0.0, 0.0, 0.0, 0.0, 0.0, 0.01, 0.23, 0.0, 0.02, 0.01, 0.04, 0.03, 0.0, 0.0, 0.04, 0.01]\n",
            "Std:  [0.0, 0.0, 0.49, 1.0, 0.05, 0.44, 0.46, 1.0, 1.0, 0.07, 0.06, 0.1, 0.15, 0.07, 0.07, 0.11, 0.09, 0.27, 0.09, 0.1, 0.15, 0.08, 0.1, 0.1, 0.16, 0.06, 0.07, 0.12, 0.06, 0.06, 0.09, 0.05, 0.07, 0.09, 0.07, 0.06, 0.08, 0.47, 0.17, 0.17, 0.06, 0.08, 0.14, 0.06, 0.14, 0.14, 0.11, 0.07, 0.11, 0.06, 0.22, 0.03, 0.08, 0.03, 0.14, 0.21, 0.13, 0.1, 0.05, 0.15, 0.02, 0.03, 0.49, 0.46, 0.26, 0.04, 0.0, 0.04, 0.05, 0.07, 0.06, 0.03, 0.02, 0.06, 0.04, 0.07, 0.03, 0.04, 0.04, 0.01, 0.02, 0.02, 0.0, 0.01, 0.03, 0.04, 0.04, 0.08, 0.43, 0.0, 0.0, 0.05, 0.07, 0.06, 0.0, 0.02, 0.0, 0.02, 0.0, 0.0, 0.01, 0.02, 0.0, 0.02, 0.0, 0.01, 0.01, 0.01, 0.0, 0.0, 0.0, 0.05, 0.0, 0.02, 0.05, 0.01, 0.0, 0.0, 0.01, 0.03, 0.04, 0.0, 0.02, 0.01, 0.01, 0.01, 0.0, 0.02, 0.0, 0.01, 0.01, 0.0, 0.0, 0.01, 0.0, 0.0, 0.0, 0.0, 0.02, 0.0, 0.0, 0.01, 0.0, 0.0, 0.0, 0.0, 0.0, 0.0, 0.01, 0.0, 0.02, 0.01, 0.02, 0.0, 0.01, 0.02, 0.0, 0.0, 0.03, 0.0, 0.0, 0.05, 0.02, 0.17, 0.0, 0.43, 0.04, 0.0, 0.02, 0.01, 0.0, 0.01, 0.01, 0.0, 0.0, 0.0, 0.02, 0.03, 0.02, 0.0, 0.03, 0.01, 0.03, 0.01, 0.02, 0.01, 0.04, 0.09, 0.42, 0.03, 0.15, 0.08, 0.2, 0.16, 0.04, 0.0, 0.2, 0.11]\n",
            "Val set (normalized features):\n",
            "Mean: [0.0, 1.0, 0.57, 0.0, 1.0, 0.27, 0.7, 0.01, 0.01, 0.0, 0.0, 0.01, 0.03, 0.01, 0.0, 0.01, 0.01, 0.08, 0.01, 0.01, 0.02, 0.01, 0.01, 0.01, 0.03, 0.0, 0.01, 0.02, 0.0, 0.01, 0.01, 0.0, 0.01, 0.01, 0.0, 0.01, 0.01, 0.34, 0.03, 0.03, 0.0, 0.0, 0.02, 0.0, 0.02, 0.02, 0.01, 0.01, 0.01, 0.0, 0.05, 0.0, 0.01, 0.0, 0.01, 0.05, 0.02, 0.01, 0.0, 0.02, 0.0, 0.0, 0.61, 0.32, 0.07, 0.0, 0.0, 0.0, 0.0, 0.01, 0.0, 0.0, 0.0, 0.0, 0.0, 0.0, 0.0, 0.0, 0.0, 0.0, 0.0, 0.0, 0.0, 0.0, 0.0, 0.0, 0.0, 0.01, 0.26, 0.0, 0.0, 0.0, 0.0, 0.0, 0.0, 0.0, 0.0, 0.0, 0.0, 0.0, 0.0, 0.0, 0.0, 0.0, 0.0, 0.0, 0.0, 0.0, 0.0, 0.0, 0.0, 0.0, 0.0, 0.0, 0.0, 0.0, 0.0, 0.0, 0.0, 0.0, 0.0, 0.0, 0.0, 0.0, 0.0, 0.0, 0.0, 0.0, 0.0, 0.0, 0.0, 0.0, 0.0, 0.0, 0.0, 0.0, 0.0, 0.0, 0.0, 0.0, 0.0, 0.0, 0.0, 0.0, 0.0, 0.0, 0.0, 0.0, 0.0, 0.0, 0.0, 0.0, 0.0, 0.0, 0.0, 0.0, 0.0, 0.0, 0.0, 0.0, 0.0, 0.0, 0.0, 0.03, 0.0, 0.24, 0.0, 0.0, 0.0, 0.0, 0.0, 0.0, 0.0, 0.0, 0.0, 0.0, 0.0, 0.0, 0.0, 0.0, 0.0, 0.0, 0.0, 0.0, 0.0, 0.0, 0.0, 0.01, 0.24, 0.0, 0.02, 0.01, 0.04, 0.03, 0.0, 0.0, 0.04, 0.01]\n",
            "Std:  [0.0, 0.0, 0.49, 1.01, 0.05, 0.44, 0.46, 0.98, 1.0, 0.07, 0.04, 0.09, 0.16, 0.07, 0.06, 0.12, 0.1, 0.28, 0.08, 0.1, 0.15, 0.08, 0.09, 0.1, 0.17, 0.06, 0.08, 0.12, 0.07, 0.07, 0.1, 0.05, 0.08, 0.09, 0.07, 0.07, 0.09, 0.47, 0.16, 0.16, 0.07, 0.07, 0.14, 0.06, 0.13, 0.14, 0.11, 0.09, 0.11, 0.05, 0.22, 0.04, 0.09, 0.04, 0.11, 0.21, 0.12, 0.11, 0.06, 0.13, 0.02, 0.03, 0.49, 0.47, 0.25, 0.05, 0.0, 0.05, 0.04, 0.07, 0.05, 0.02, 0.03, 0.06, 0.05, 0.07, 0.04, 0.03, 0.03, 0.0, 0.01, 0.02, 0.0, 0.02, 0.03, 0.04, 0.05, 0.08, 0.44, 0.0, 0.01, 0.04, 0.05, 0.05, 0.0, 0.02, 0.02, 0.02, 0.01, 0.0, 0.0, 0.02, 0.0, 0.01, 0.01, 0.0, 0.01, 0.0, 0.0, 0.0, 0.01, 0.05, 0.01, 0.01, 0.06, 0.0, 0.0, 0.01, 0.02, 0.04, 0.03, 0.0, 0.0, 0.01, 0.01, 0.0, 0.0, 0.0, 0.01, 0.01, 0.01, 0.01, 0.01, 0.02, 0.0, 0.01, 0.0, 0.0, 0.02, 0.01, 0.01, 0.02, 0.0, 0.0, 0.0, 0.01, 0.0, 0.0, 0.02, 0.01, 0.0, 0.0, 0.02, 0.0, 0.02, 0.0, 0.0, 0.0, 0.02, 0.01, 0.01, 0.05, 0.01, 0.18, 0.0, 0.43, 0.06, 0.0, 0.0, 0.02, 0.01, 0.0, 0.02, 0.01, 0.01, 0.0, 0.0, 0.03, 0.01, 0.01, 0.01, 0.0, 0.03, 0.0, 0.02, 0.01, 0.03, 0.08, 0.43, 0.03, 0.14, 0.07, 0.18, 0.16, 0.05, 0.0, 0.19, 0.1]\n"
          ]
        }
      ],
      "source": [
        "# your code goes here\n",
        "train_df = pd.read_csv(train_path)\n",
        "val_df = pd.read_csv(val_path)\n",
        "noisy_train_df = pd.read_csv(noisy_train_path)\n",
        "\n",
        "\n",
        "def preprocess(train_df, df):\n",
        "\n",
        "    train_df = train_df.copy()\n",
        "    df = df.copy()\n",
        "\n",
        "    #Normalize all columns except price\n",
        "    for col_name in [\"Age\", \"Annual_Premium\", \"Vintage\"]:\n",
        "        mu = train_df[col_name].mean()\n",
        "        sigma =train_df[col_name].std()\n",
        "        \n",
        "        df[col_name] = (df[col_name] - mu) / sigma\n",
        "    \n",
        "    # Add bias column\n",
        "    bias = pd.Series(0.0, index=df.index, name='bias')\n",
        "    df = pd.concat([bias, df], axis=1)\n",
        "\n",
        "    return df.drop(columns=['Response']), df['Response']\n",
        "\n",
        "x_train, y_train = preprocess(train_df, train_df)\n",
        "x_val, y_val = preprocess(train_df, val_df)\n",
        "x_noisy_train, y_noisy_train = preprocess(noisy_train_df, noisy_train_df)\n",
        "\n",
        "print(\"Train set (normalized features):\")\n",
        "print(\"Mean:\", x_train.mean().round(2).to_list())\n",
        "print(\"Std: \", x_train.std().round(2).to_list())\n",
        "\n",
        "print(\"Val set (normalized features):\")\n",
        "print(\"Mean:\", x_val.mean().round(2).to_list())\n",
        "print(\"Std: \", x_val.std().round(2).to_list())"
      ]
    },
    {
      "cell_type": "markdown",
      "metadata": {
        "id": "C4djL2J-By8Y"
      },
      "source": [
        "# Part 1 (35 pts) Logstic regression with L2 (Ridge) regularization\n",
        "\n",
        "For this part of the assignment, you will implement and experiment with Logistic regression with L2 regularization (Algorithm 1 in Assignment 2 Reference Information on canvas).\n"
      ]
    },
    {
      "cell_type": "markdown",
      "metadata": {
        "id": "T0edcBa0MtVP"
      },
      "source": [
        "##  🚧  Impelement Logistic regression with L2 regularization\n",
        "Your implemented function should take the following inputs:\n",
        "1. The training data\n",
        "2. The regularization parameter $\\lambda$\n",
        "3. The learning rate\n",
        "4. Max iterations (recommend to start with 5000)\n",
        "5. Threshold for change in loss (this will be used for early stopping: if the change in loss is less than the threshold, it is considered to have converged. Please use a threhold of $10^{-7}$. )\n",
        "\n",
        "Your function should output the learned weight vector and the sequence of training losses, which will allow you to visualize the convergence process to ensure proper convergence. You should also implement a divergence detection, if the loss starts to diverge, terminate and raise an alarm.\n",
        "\n"
      ]
    },
    {
      "cell_type": "code",
      "execution_count": 4,
      "metadata": {
        "id": "sc2kX8JxXLiI"
      },
      "outputs": [],
      "source": [
        "# your code goes here\n",
        "def sigmoid(x):\n",
        "    return 1 / (1 + np.exp(-x))\n",
        "\n",
        "def ridge_logistic_gradient_descent(x, y, gamma, lmbda, epochs, epsilon_loss=None, epsilon_grad=None):\n",
        "    y=np.expand_dims(y, axis=-1)\n",
        "\n",
        "    N,d = x.shape\n",
        "    w = np.random.normal(0, 0.01, (d,1))\n",
        "    losses = []\n",
        "\n",
        "    for epoch in range(epochs):\n",
        "\n",
        "        #Compute prediction\n",
        "        y_pred = x @ w\n",
        "\n",
        "        #Calculate loss\n",
        "        sigma = sigmoid(y_pred)\n",
        "        \n",
        "        logistic_term = -np.mean(y * np.log(sigma) + (1 - y) * np.log(1 - sigma))\n",
        "        reg_term = (lmbda/2) * np.sum(w[1:]**2) #Exclude bias from regularization\n",
        "\n",
        "        ridge_loss = logistic_term + reg_term\n",
        "\n",
        "        #Calculate gradient of the loss\n",
        "        gradient_logistic = (1/N) * x.T @ (sigma-y)\n",
        "\n",
        "        gradient_reg = lmbda * w\n",
        "        gradient_reg[0] = 0 #Do not regularize bias\n",
        "\n",
        "        gradient_ridge = gradient_logistic + gradient_reg\n",
        "\n",
        "        #Perform gradient descent update\n",
        "        w -= gamma * gradient_ridge \n",
        "\n",
        "        #Store loss\n",
        "        losses.append(ridge_loss)\n",
        "\n",
        "        if epsilon_loss is not None and epoch > 0:\n",
        "            if abs(losses[-1] - losses[-2]) < epsilon_loss:\n",
        "                print(f\"Converged at epoch {epoch}\")\n",
        "                break\n",
        "        \n",
        "        if epsilon_grad is not None:\n",
        "            if np.linalg.norm(gradient_ridge) < epsilon_grad:\n",
        "                print(f\"Gradient converged at epoch {epoch}\")\n",
        "                break\n",
        "    \n",
        "    return w, losses\n",
        "\n",
        "# weights, losses = ridge_logistic_gradient_descent(x_train.to_numpy(), y_train.to_numpy(), gamma=0.01, lmbda=0.1, epochs=5000, epsilon_loss=10e-7)\n",
        "\n",
        "# print(weights.shape)\n",
        "# print(weights)"
      ]
    },
    {
      "cell_type": "markdown",
      "metadata": {
        "id": "DIn4qhdOftK9"
      },
      "source": [
        "## 🚧 Experiment with different regularization parameters\n",
        "For this part, you will run your L2 logistic regression on the training data with different regularization strengths $\\lambda\\in \\{10^i: i\\in[-5, 0]\\}$. This is the minimim range of values required for your exploration. You are encouraged to try additional intermediate or more extreme values if it helps you better analyze the results and answer the questions.\n",
        "\n",
        "**Learning Rate Tuning Guidelines:**\n",
        "The learning rate value ($\\gamma$)  will need to be adjusted depending on the value of $\\lambda$:\n",
        "*   For very small $\\lambda$ values (e.g.,$10^{-5}, 10^{-4}$), start with a  larger learning rate (e.g., $\\gamma=1$) .\n",
        "*   For moderate $\\lambda$ values like $10^{-3}$, try a smaller learning rate like $\\gamma = 0.1$.\n",
        "*   As $\\lambda$ increases further, continue decreasig the learning rate to maintain stable convergence.\n",
        "\n",
        "** Why smaller learning rate for larger $\\lambda$?**\n",
        "Stronger regularization amplifies the contribution of the penalty term in the gradient. Using the same learning rate across all $\\lambda$ values can lead to overly large update steps and unstable training. Adjusting the learning rate ensures smoother and more stable convergence.\n",
        "\n",
        "\n",
        "**What to complete here.**\n",
        "For each $\\lambda$ value:\n",
        "\n",
        "* Run your logistic regression until it converges(using your early stopping critierion).\n",
        "* Record the final weight vector, which will be used later.\n",
        "* Compute and record the training and validation accuracies\n",
        "* Summarize your results in a clear table that lists each $\\lambda$ value, the corresponding training accuracy, and validation accuracy. You will use this data in the next part to create your plots."
      ]
    },
    {
      "cell_type": "code",
      "execution_count": 31,
      "metadata": {
        "id": "t3PH0wZcNXxC"
      },
      "outputs": [
        {
          "name": "stdout",
          "output_type": "stream",
          "text": [
            "Learning rate: 0.001,   Regularization rate: 1\n",
            "Converged at epoch 1850\n",
            "Learning rate: 0.01,   Regularization rate: 0.1\n",
            "Converged at epoch 1623\n",
            "Learning rate: 0.1,   Regularization rate: 0.01\n",
            "Converged at epoch 906\n",
            "Learning rate: 0.1,   Regularization rate: 0.001\n",
            "Converged at epoch 2613\n",
            "Learning rate: 0.8,   Regularization rate: 0.0001\n",
            "Converged at epoch 1625\n",
            "Learning rate: 0.9,   Regularization rate: 1e-05\n",
            "Converged at epoch 1870\n",
            "\n",
            "================================================================================\n",
            "RESULTS SUMMARY\n",
            "================================================================================\n",
            " lambda  Training Accuracy  Validation Accuracy  Final Training Loss  Converged at Epoch\n",
            "1.00000           0.730833               0.7356             0.668061                1851\n",
            "0.10000           0.777667               0.7790             0.582208                1624\n",
            "0.01000           0.786500               0.7854             0.480147                 907\n",
            "0.00100           0.795000               0.7935             0.437307                2614\n",
            "0.00010           0.800500               0.7936             0.424812                1626\n",
            "0.00001           0.801667               0.7940             0.422848                1871\n",
            "================================================================================\n"
          ]
        },
        {
          "data": {
            "image/png": "[encoded data removed]",
            "text/plain": [
              "<Figure size 1200x800 with 1 Axes>"
            ]
          },
          "metadata": {},
          "output_type": "display_data"
        }
      ],
      "source": [
        "# Your code goes here\n",
        "# Set random seed for reproducibility\n",
        "np.random.seed(42)\n",
        "\n",
        "reg_rates = [10**-i for i in range(0,6)]\n",
        "learning_rates = [1e-3, 1e-2, 1e-1, 1e-1, 0.8, 0.9]\n",
        "\n",
        "results = []\n",
        "\n",
        "\n",
        "w_list = []\n",
        "train_losses_list = []\n",
        "converged_rates = []\n",
        "\n",
        "for i, (reg_rate, lr) in enumerate(zip(reg_rates, learning_rates)):\n",
        "    print(f\"Learning rate: {lr},   Regularization rate: {reg_rate}\")\n",
        "    \n",
        "    w, losses = ridge_logistic_gradient_descent(x_train.to_numpy(), y_train.to_numpy(), gamma=lr, lmbda=reg_rate, epochs=5000, epsilon_loss=10e-7)\n",
        "    \n",
        "    # Check if converged (no NaN values)\n",
        "    if not np.any(np.isnan(w)) and not np.any(np.isnan(losses)):\n",
        "        w_list.append(w)\n",
        "        train_losses_list.append(losses)\n",
        "        converged_rates.append((reg_rate,lr))\n",
        "\n",
        "        # Calculate training accuracy\n",
        "        y_train_pred = sigmoid(x_train.to_numpy() @ w)\n",
        "        y_train_pred_binary = (y_train_pred >= 0.5).astype(int)\n",
        "        train_accuracy = np.mean(y_train_pred_binary.flatten() == y_train.to_numpy())\n",
        "        \n",
        "        # Calculate validation accuracy\n",
        "        y_val_pred = sigmoid(x_val.to_numpy() @ w)\n",
        "        y_val_pred_binary = (y_val_pred >= 0.5).astype(int)\n",
        "        val_accuracy = np.mean(y_val_pred_binary.flatten() == y_val.to_numpy())\n",
        "\n",
        "        # Store results\n",
        "        results.append({\n",
        "            'lambda': reg_rate,\n",
        "            'Training Accuracy': train_accuracy,\n",
        "            'Validation Accuracy': val_accuracy,\n",
        "            'Final Training Loss': losses[-1],\n",
        "            'Converged at Epoch': len(losses)\n",
        "        })\n",
        "\n",
        "# Create and display results table\n",
        "results_df = pd.DataFrame(results)\n",
        "print(\"\\n\" + \"=\"*80)\n",
        "print(\"RESULTS SUMMARY\")\n",
        "print(\"=\"*80)\n",
        "print(results_df.to_string(index=False))\n",
        "print(\"=\"*80)\n",
        "\n",
        "#Plot learning curves\n",
        "plt.figure(figsize=(12, 8))\n",
        "colors = ['red', 'blue', 'green', 'orange', 'purple', 'yellow']\n",
        "\n",
        "for i, (rates, losses) in enumerate(zip(converged_rates, train_losses_list)):\n",
        "    plt.plot(losses, color=colors[i % len(colors)], label=f'lr={rates[1]}, reg_rate={rates[0]}', linewidth=2)\n",
        "\n",
        "plt.xlabel('Epoch')\n",
        "plt.ylabel('Training Ridge Loss')\n",
        "plt.title('Training Loss Curves for Different Learning Rates')\n",
        "plt.legend()\n",
        "plt.grid(True, alpha=0.3)\n",
        "plt.show()\n"
      ]
    },
    {
      "cell_type": "markdown",
      "metadata": {
        "id": "IHbzTPFkNNp9"
      },
      "source": [
        "## 🚧 Visualize and analyze $\\lambda$'s impact on training and validation accuracy\n",
        "\n",
        "Now, use the results from your experiments to visualize how model performance changes with the regularization strength. Plot both the training accuracy and validation accuracy of your L2 regularized logistic regression model as a function of $\\lambda$.\n",
        "* Use a logarithmic scale for the x-axis to represent $\\lambda$. Each tick mark on the x-axis should correspond to an integar $i$ and be labeled as $10^{i}$. This helps you clearly see performance trends across multiple orders of magnitude of $\\lambda$.  \n",
        "\n",
        "* Plot the two curves in the same figure, one for training accuracy and one for validation accuracy, using different colors for clarity.\n",
        "* Include a legend to indicate which curve corresponds to which accuracy measure, and label the axis clearly.\n",
        "\n",
        "Your final plot should make it easy to compare how regularization affects training vs. validation performance."
      ]
    },
    {
      "cell_type": "code",
      "execution_count": 32,
      "metadata": {
        "id": "oW7FWwnKQ_Sh"
      },
      "outputs": [
        {
          "data": {
            "image/png": "[encoded data removed]",
            "text/plain": [
              "<Figure size 1200x800 with 1 Axes>"
            ]
          },
          "metadata": {},
          "output_type": "display_data"
        }
      ],
      "source": [
        "# Your code goes here\n",
        "#Plot learning curves\n",
        "plt.figure(figsize=(12, 8))\n",
        "colors = ['red', 'blue', 'green', 'orange', 'purple', 'yellow']\n",
        "\n",
        "train_acc = results_df['Training Accuracy'].to_numpy()\n",
        "val_acc = results_df['Validation Accuracy'].to_numpy()\n",
        "\n",
        "reg_rates_arr = np.array(reg_rates)\n",
        "\n",
        "plt.plot(reg_rates_arr, train_acc, label='Train', linewidth=2)\n",
        "\n",
        "plt.plot(reg_rates_arr, val_acc, label='Validation', linewidth=2)\n",
        "\n",
        "plt.xscale('log')\n",
        "plt.xlabel('Lambda')\n",
        "plt.ylabel('Accuracy')\n",
        "plt.title('Lambda vs. Accuracy')\n",
        "plt.legend()\n",
        "plt.grid(True, alpha=0.3)\n",
        "plt.show()"
      ]
    },
    {
      "cell_type": "markdown",
      "metadata": {
        "id": "0l6zfscrfBgs"
      },
      "source": [
        "## ✍️ Question\n",
        "\n",
        "(a) Which $\\lambda$ value leads to the best training and validation accuracy respectively? Which one should you use if you are to pick a model for deployment?\n",
        "\n",
        "**A small value of 10e-5 leads to both the best training and validation accuracy. I would pick the model with a small regularization rate.**\n",
        "\n",
        "(b) What trend do you observe for the training and validation accuracy respectively as we increae $\\lambda$? Provide your explanation for this observed trend.\n"
      ]
    },
    {
      "cell_type": "markdown",
      "metadata": {
        "id": "otogNnOaTNCp"
      },
      "source": [
        "**Your answer goes here**"
      ]
    },
    {
      "cell_type": "markdown",
      "metadata": {
        "id": "ZrZaz5OUNpyF"
      },
      "source": [
        "## 🚧  Examine the impact on feature weights\n",
        "For each value of $\\lambda$, present the top five features based on the magnitude of their weights $|w_j|$, excluding the bias term $w_0$. Organize your results into a table. Each column should be dedicated to a specific $\\lambda$ value, and rows should indicate the rank of the feature. Ensure that each cell in the table contains both the feature name and its corresponding weight $w_j$.\n",
        "\n",
        "For example:\n",
        "\n",
        "| Rank  | $\\lambda = 10^{-4}$      | $\\lambda = 10^{-3}$      | $\\lambda = 10^{-2}$      |\n",
        "|-------|--------------------------|--------------------------|--------------------------|\n",
        "| 1     | feature_a, 0.8           | feature_b, 0.7           | feature_c, 0.6           |\n",
        "| 2     | feature_d, 0.7           | feature_e, 0.6           | feature_f, 0.5           |\n",
        "| 3     | feature_g, 0.6           | feature_h, 0.5           | feature_i, 0.4           |\n",
        "| 4     | feature_j, 0.5           | feature_k, 0.4           | feature_l, 0.3           |\n",
        "| 5     | feature_m, 0.4           | feature_n, 0.3           | feature_o, 0.2           |\n",
        "\n",
        "The easiest way is to create a dataframe for this table and print the dataframe."
      ]
    },
    {
      "cell_type": "code",
      "execution_count": 7,
      "metadata": {
        "id": "QhpNixB_Smdl"
      },
      "outputs": [],
      "source": [
        "#Your code goes here"
      ]
    },
    {
      "cell_type": "markdown",
      "metadata": {
        "id": "QMienw7hSpjn"
      },
      "source": [
        "## ✍️ Question\n",
        "\n",
        "1. Do you observe any difference is the top features with different $\\lambda$ values?\n",
        "2. Do you observe any difference in the weights of the top features for different $\\lambda$ values?\n",
        "3. Please provide your own explanation/interpretation of the observed differences."
      ]
    },
    {
      "cell_type": "markdown",
      "metadata": {
        "id": "qloa-NvMTKVH"
      },
      "source": [
        "**Your answer goes here**"
      ]
    },
    {
      "cell_type": "markdown",
      "metadata": {
        "id": "K_rCHiS4TVPt"
      },
      "source": [
        "## 🚧 Examine the impact on sparsity of weights\n",
        "\n",
        "For each different value of $\\lambda$, compute the sparsity of the learned classifier as the number of feature weights that approxmately equal zero ($\\leq 10^{-6}$) and report the sparsity number for each $\\lambda$ value."
      ]
    },
    {
      "cell_type": "code",
      "execution_count": 8,
      "metadata": {
        "id": "rkMFgQ38T96l"
      },
      "outputs": [],
      "source": [
        "# Your code goes here"
      ]
    },
    {
      "cell_type": "markdown",
      "metadata": {
        "id": "1qgi8wxLsLue"
      },
      "source": [
        "## ✍️Question\n",
        "\n",
        "1. When we have very small $\\lambda$ values (aka very weak regularization), does your learned model have zero weights for some features?  If so, why would it be that way?\n",
        "2. What trend do you observe for the sparsity of the model as we increase $\\lambda$? If we further increase $\\lambda$ to even larger values, what do you expect to happen to the sparsity value? Why?\n"
      ]
    },
    {
      "cell_type": "markdown",
      "metadata": {
        "id": "cUV1m5yeUJgw"
      },
      "source": [
        "**Your answer goes here**"
      ]
    },
    {
      "cell_type": "markdown",
      "metadata": {
        "id": "3DXrFWL_up5F"
      },
      "source": [
        "# Part 2. (38 pts) Logistic regression with L1 regularization.\n",
        "\n",
        "In this part, we will repeat the part 1 but with L1 regularization. Please refer to the algorithm 2 in the Assignment 2 Reference Information file for the details of the algorithm."
      ]
    },
    {
      "cell_type": "markdown",
      "metadata": {
        "id": "tjXJLpLNvLY1"
      },
      "source": [
        "## 🚧 Impelement Logistic regression with L1 regularization\n",
        "**Requirment.**\n",
        "Implement Algorithm 2 (Proximal gradient descent for LASSO logistic regression) for L1 regularized Logistic Regress, described in the IA2 reference information sheet provided on Canvas. Your implemented function should take the following inputs:\n",
        "1. The training data\n",
        "2. The regularization parameter $\\lambda$\n",
        "3. The learning rate\n",
        "4. Max iterations (recommend to start with 5000)\n",
        "5. Threshold for change in loss (this will be used for early stopping: if the change in loss is less than the threshold, it is considered to have converged. Please use a threshold of $10^{-7}$. )\n",
        "\n",
        "Your function should output the learned weight vector and the sequence of losses so that you can visualize the convergence process. You should also implement a divergence detection, if the loss starts to diverge, terminate and raise an alarm.\n"
      ]
    },
    {
      "cell_type": "code",
      "execution_count": 9,
      "metadata": {
        "id": "tZOt2YfzvY2V"
      },
      "outputs": [],
      "source": [
        "# Your code goes here."
      ]
    },
    {
      "cell_type": "markdown",
      "metadata": {
        "id": "o-ALab8qvbYO"
      },
      "source": [
        "## 🚧 Experiment with different regularization parameters\n",
        "For this part, you will need to apply your L1 logistic regression algorithm on the training data with different regularization parameters $\\lambda\\in \\{10^i: i\\in[-6, -1]\\}$. You are encouraged to experiment with more extreme or in-between values if it helps you in answering the questions. But be advised using larger $\\lambda$ values in this case makes it difficult to converge.\n",
        "\n",
        "**Learning Rate Tuning Guidelines:**\n",
        "For L1 regularization, I recommend starting with $\\gamma = 2$ for very small $\\lambda$s like $10^{-6}, 10^{-5}$, and decreasing the learning for larger $\\lambda$ values.\n",
        "\n",
        "**What to complete here.**\n",
        "For each $\\lambda$ value:\n",
        "* Run your L1 regularized logistic regression until it converges(using your early stopping critierion).\n",
        "* Record the final weight vector, which will be used later.\n",
        "* Compute and record the training and validation accuracies\n",
        "* Summarize your results in a clear table that lists each  λ  value, the corresponding training accuracy, and validation accuracy. You will use this data in the next part to create your plots."
      ]
    },
    {
      "cell_type": "code",
      "execution_count": 10,
      "metadata": {
        "id": "QruW29Nn1zFL"
      },
      "outputs": [],
      "source": [
        "# Your code goes here"
      ]
    },
    {
      "cell_type": "markdown",
      "metadata": {
        "id": "WP15VwDh11e6"
      },
      "source": [
        "## 🚧 Visualize and analyze  λ 's impact on training and validation accuracy\n",
        "Now, use the results from your experiments to visualize how model performance changes with the regularization strength. Plot both the training accuracy and validation accuracy of your L1 regularized logistic regression model as a function of $\\lambda$.\n",
        "* Use a logarithmic scale for the x-axis to represent $\\lambda$. Each tick mark on the x-axis should correspond to an integar $i$ and be labeled as $10^{i}$. This helps you clearly see performance trends across multiple orders of magnitude of $\\lambda$.  \n",
        "\n",
        "* Plot the two curves in the same figure, one for training accuracy and one for validation accuracy, using different colors for clarity.\n",
        "* Include a legend to indicate which curve corresponds to which accuracy measure, and label the axis clearly.\n",
        "\n",
        "Your final plot should make it easy to compare how regularization affects training vs. validation performance."
      ]
    },
    {
      "cell_type": "code",
      "execution_count": 11,
      "metadata": {
        "id": "njX32s4Q3xdy"
      },
      "outputs": [],
      "source": [
        "# Your code goes here"
      ]
    },
    {
      "cell_type": "markdown",
      "metadata": {
        "id": "dKpnfLh230m4"
      },
      "source": [
        "## ✍️Question\n",
        "Based on your results, answer the following questions.\n",
        "\n",
        "a. For L1 LR, which $\\lambda$ value leads to the best training and validatoin accuracy respectively? If you were to select a model for deployment, which\n",
        "$\\lambda$ would you choose, and why?\n",
        "\n",
        "b. What trend do you observe for the training and validation accuracy respectively as we increae $\\lambda$? Explain this trend and provide an intuitive reasoning for why it occurs.\n",
        "\n",
        "c. Comparing L1 and L2 regularized logistic regression, which one is more sensitive to the choice of the regularization parameter? An algorithm is considered sensitive if its performance or learned parameters change significantly when the regularization strength changes.\n",
        "Since your experiments may have used a smaller range of $\\lambda$ values for L1 regularization due to convergence concerns, you may use an off-the-shelf implementation (e.g., from scikit-learn) to explore this comparison more fully. Reflect on the differences you observe (or expect to observe) between L1 and L2 in terms of their sensitivity, and explain why.\n"
      ]
    },
    {
      "cell_type": "markdown",
      "metadata": {
        "id": "aH54ckNf5u9n"
      },
      "source": [
        "**Your answer goes here**"
      ]
    },
    {
      "cell_type": "markdown",
      "metadata": {
        "id": "9Czbhsql7x7v"
      },
      "source": [
        "## 🚧 Examine the impact on feature weights\n",
        "For each value of $\\lambda$, present the top five features based on the magnitude of their weights $|w_j|$, excluding the bias term $w_0$. Organize your results into a table. Each column should be dedicated to a specific $\\lambda$ value, and rows should indicate the rank of the feature. Ensure that each cell in the table contains both the feature name and its corresponding weight $w_j$.\n",
        "\n",
        "For example:\n",
        "\n",
        "| Rank  | $\\lambda = 10^{-4}$      | $\\lambda = 10^{-3}$      | $\\lambda = 10^{-2}$      |\n",
        "|-------|--------------------------|--------------------------|--------------------------|\n",
        "| 1     | feature_a, 0.8           | feature_b, 0.7           | feature_c, 0.6           |\n",
        "| 2     | feature_d, 0.7           | feature_e, 0.6           | feature_f, 0.5           |\n",
        "| 3     | feature_g, 0.6           | feature_h, 0.5           | feature_i, 0.4           |\n",
        "| 4     | feature_j, 0.5           | feature_k, 0.4           | feature_l, 0.3           |\n",
        "| 5     | feature_m, 0.4           | feature_n, 0.3           | feature_o, 0.2           |"
      ]
    },
    {
      "cell_type": "code",
      "execution_count": 12,
      "metadata": {
        "id": "1dWQcu5J76ZI"
      },
      "outputs": [],
      "source": [
        "# Your code goes here"
      ]
    },
    {
      "cell_type": "markdown",
      "metadata": {
        "id": "ibv19RIT791s"
      },
      "source": [
        "##✍️Question\n",
        "\n",
        "1. Do you observe any difference is the top features with different $\\lambda$ values?\n",
        "2. Do you observe any difference in the weights of the top features for different $\\lambda$ values?\n",
        "3. Please provide your own explanation/interpretation of the observed differences.\n",
        "4. What are some differences for this part of the results comparing L1 and L2 regularization? Provide your own explanation for such differences.\n"
      ]
    },
    {
      "cell_type": "markdown",
      "metadata": {
        "id": "7Azz6YUb8epJ"
      },
      "source": [
        "**Your answer goes here**"
      ]
    },
    {
      "cell_type": "markdown",
      "metadata": {
        "id": "pbEGWb2r8lT-"
      },
      "source": [
        "## 🚧 Examine the impact on sparsity of weights\n",
        "\n",
        "For each different value of $\\lambda$, compute the sparsity of the learned L1 regularized logistic regression classifier as the number of feature weights that approxmately equal zero ($\\leq 10^{-6}$) and report the sparsity number for each $\\lambda$ value."
      ]
    },
    {
      "cell_type": "code",
      "execution_count": 13,
      "metadata": {
        "id": "Fr7Z43bH8veX"
      },
      "outputs": [],
      "source": [
        "# Your code goes here"
      ]
    },
    {
      "cell_type": "markdown",
      "metadata": {
        "id": "HOW68szl8yNG"
      },
      "source": [
        "## ✍️Question\n",
        "\n",
        "1. What trend do you observe for the sparsity of the L1 regularized model as we change $\\lambda$? If we further increase $\\lambda$, what do you expect? Why?\n",
        "2. What are some differences for this part of the results comparing L1 and L2 regularization? Provide your own explanation for such differences.\n"
      ]
    },
    {
      "cell_type": "markdown",
      "metadata": {
        "id": "2B_am07d9Ei7"
      },
      "source": [
        "**Your answer goes here**"
      ]
    },
    {
      "cell_type": "markdown",
      "metadata": {
        "id": "u84B_DIRYdRy"
      },
      "source": [
        "# Part 3. (15 pts) Impact of Noise in Training Data\n",
        "For this part, you will be training both L1 and L2 logistic regression models using the noisy training data (IA2-train-noisy.csv)."
      ]
    },
    {
      "cell_type": "markdown",
      "metadata": {
        "id": "vTFA420-pNJq"
      },
      "source": [
        "## 🚧 Experiment L1 and L2 Logistic Regression on Noisy Training data.\n",
        "This experiment follows the same structure as Parts 1 and 2, so you can reuse your previous code—just provide the noisy training data (IA2-train-noisy.csv) as input.\n",
        "You may also use an off-the-shelf implementation such as sklearn.linear_model.LogisticRegression, which will typically be more efficient than your custom version.\n",
        "If you choose to use scikit-learn:\n",
        "* Set the penalty argument to 'l1' or 'l2'.\n",
        "\n",
        "* Use the 'liblinear' or 'saga' solver (required for L1).\n",
        "\n",
        "* Remember that scikit-learn’s regularization parameter is defined as C=$\\frac{1}{\\lambda}$, so smaller 𝐶 values correspond to stronger regularization.\n",
        "\n",
        "For each regularization type:\n",
        "\n",
        "* Train the model for each λ value as specified in each part. (For L1, you can exclude $\\lambda=0.1$, which can be difficult to converge)\n",
        "\n",
        "* Record the accuracies on the noisy training data and the clean validation data for each $\\lambda$ value.\n",
        "\n",
        "* Plot both accuracies as functions of λ on a logarithmic x-axis, using distinct colors and a clear legend.\n",
        "\n",
        "* Both curves (training and validation) should appear on the same figure for easy comparison.\n",
        "\n",
        "Your plots should clearly illustrate how model performance changes with different regularization strengths under noisy conditions."
      ]
    },
    {
      "cell_type": "code",
      "execution_count": 14,
      "metadata": {
        "id": "FC1GE-OkYPwL"
      },
      "outputs": [],
      "source": [
        "# Your code goes here\n",
        "\n"
      ]
    },
    {
      "cell_type": "markdown",
      "metadata": {
        "id": "OL-EIkrVizZb"
      },
      "source": [
        "## ✍️Question\n",
        "Your experiments should reveal that when trained with the noisy data, both L1 and L2 regulated logistic regression have substantially reduced training accuracies, but only a small drop in validation accuracy.\n",
        "\n",
        "Here I provide two possible explanations for this phenonmenon:\n",
        "1. This is due to the use of regularization, which limits the model's ability to overfit to the noise.\n",
        "2. This is due to the simplicity of the model, which prevents overfitting even without regularization.\n",
        "\n",
        "Which explanation better accounts for your results, and why? Support your reasoning using evidence from your plots (e.g., how accuracy changes with\n",
        "λ, or differences between L1 and L2).\n",
        "\n",
        "Design a brief experiment to figure which explanation fits in this particular case. between these two explanations. Describe what you would vary, what you would keep fixed, and what outcome would support each hypothesis. (You only need to describe the experiment, not run it.)"
      ]
    },
    {
      "cell_type": "markdown",
      "metadata": {
        "id": "EmKd-MT8u34x"
      },
      "source": [
        "**Your answer goes here.**"
      ]
    },
    {
      "cell_type": "markdown",
      "metadata": {
        "id": "Cu4q7E3CJTwu"
      },
      "source": [
        "# Part 4. (10 pts) In-class competition\n",
        "We will host a in-class competition using the IA2 data. To participate in this competition, use the following link:\n",
        "https://www.kaggle.com/competitions/ai534-ia2-25\n",
        "\n",
        "**Model restriction.** For this competition, you are required to use logistic regression models. You are welcome to use off-the-shelf implementations, such as sklearn.linear_model.LogisticRegression.\n",
        "\n",
        "**Exploration encouraged.** To improve your model's performance, you may:\n",
        "\n",
        "* Perform feature engineering (create, modify, or combine features).\n",
        "* Manipulate the data (upsample or downsample the training set)\n",
        "* Experiment with hyperparameter tuning.\n",
        "* Try different regularization methods (e.g., L1, L2).\n",
        "\n",
        "\n",
        "**Team work.** You should continue working in the same team for this competition. The training and validation data provided on the kaggle site are the same as the IA2 assignment.\n",
        "\n",
        "**Evaluation** To participate, you will apply your trained/tuned model to the test data provided on kaggle (which does not contian the response column), and submit prediction files to be scored, based on prediction accuracy.\n",
        "\n",
        "There are two parts to the score you will see on kaggle. The performance reported on the public leaderboard and a score reported on the private leaderboard. The public leader board scores are visible through out the competition and you can use it as an external validation to help you refine your model design and tune the model. The private leader board scores are evaluated using a separate set of test data as the final performance evaluation and will be released only after the competition is closed.\n",
        "\n",
        "**Points and bonus points.** You will get the full 10 points if you\n",
        "\n",
        "* participate in the competition (successful submissions)\n",
        "\n",
        "* achieve non-trivial performance (outperform some simple baseline)\n",
        "\n",
        "* complete the report on the competition below.\n",
        "\n",
        "You will get 3 **nonus points** if your team scored top 3 on the private leader board, or entered the largest number of unique submissions (unique sores).\n",
        "\n",
        "No late submission. The competition will be closed at 11:59 pm of the due date."
      ]
    },
    {
      "cell_type": "markdown",
      "metadata": {
        "id": "nUBFNWdVvP6g"
      },
      "source": [
        "##✍️ Report on the Kaggle competition\n",
        "1. Team name:\n",
        "2. Exploration Summary: Brief describe the approches you tried.\n",
        "3. Most Impactful Change: Which exploration led to the most performance improvement, and why do you think it helped?"
      ]
    },
    {
      "cell_type": "code",
      "execution_count": 15,
      "metadata": {
        "id": "VBJ-Uzzk7yIC"
      },
      "outputs": [
        {
          "name": "stdout",
          "output_type": "stream",
          "text": [
            "[NbConvertApp] WARNING | pattern '/content/gdrive/MyDrive/Colab Notebooks/IA2-2024.ipynb' matched no files\n",
            "This application is used to convert notebook files (*.ipynb)\n",
            "        to various other formats.\n",
            "\n",
            "        WARNING: THE COMMANDLINE INTERFACE MAY CHANGE IN FUTURE RELEASES.\n",
            "\n",
            "Options\n",
            "=======\n",
            "The options below are convenience aliases to configurable class-options,\n",
            "as listed in the \"Equivalent to\" description-line of the aliases.\n",
            "To see all configurable class-options for some <cmd>, use:\n",
            "    <cmd> --help-all\n",
            "\n",
            "--debug\n",
            "    set log level to logging.DEBUG (maximize logging output)\n",
            "    Equivalent to: [--Application.log_level=10]\n",
            "--show-config\n",
            "    Show the application's configuration (human-readable format)\n",
            "    Equivalent to: [--Application.show_config=True]\n",
            "--show-config-json\n",
            "    Show the application's configuration (json format)\n",
            "    Equivalent to: [--Application.show_config_json=True]\n",
            "--generate-config\n",
            "    generate default config file\n",
            "    Equivalent to: [--JupyterApp.generate_config=True]\n",
            "-y\n",
            "    Answer yes to any questions instead of prompting.\n",
            "    Equivalent to: [--JupyterApp.answer_yes=True]\n",
            "--execute\n",
            "    Execute the notebook prior to export.\n",
            "    Equivalent to: [--ExecutePreprocessor.enabled=True]\n",
            "--allow-errors\n",
            "    Continue notebook execution even if one of the cells throws an error and include the error message in the cell output (the default behaviour is to abort conversion). This flag is only relevant if '--execute' was specified, too.\n",
            "    Equivalent to: [--ExecutePreprocessor.allow_errors=True]\n",
            "--stdin\n",
            "    read a single notebook file from stdin. Write the resulting notebook with default basename 'notebook.*'\n",
            "    Equivalent to: [--NbConvertApp.from_stdin=True]\n",
            "--stdout\n",
            "    Write notebook output to stdout instead of files.\n",
            "    Equivalent to: [--NbConvertApp.writer_class=StdoutWriter]\n",
            "--inplace\n",
            "    Run nbconvert in place, overwriting the existing notebook (only\n",
            "            relevant when converting to notebook format)\n",
            "    Equivalent to: [--NbConvertApp.use_output_suffix=False --NbConvertApp.export_format=notebook --FilesWriter.build_directory=]\n",
            "--clear-output\n",
            "    Clear output of current file and save in place,\n",
            "            overwriting the existing notebook.\n",
            "    Equivalent to: [--NbConvertApp.use_output_suffix=False --NbConvertApp.export_format=notebook --FilesWriter.build_directory= --ClearOutputPreprocessor.enabled=True]\n",
            "--coalesce-streams\n",
            "    Coalesce consecutive stdout and stderr outputs into one stream (within each cell).\n",
            "    Equivalent to: [--NbConvertApp.use_output_suffix=False --NbConvertApp.export_format=notebook --FilesWriter.build_directory= --CoalesceStreamsPreprocessor.enabled=True]\n",
            "--no-prompt\n",
            "    Exclude input and output prompts from converted document.\n",
            "    Equivalent to: [--TemplateExporter.exclude_input_prompt=True --TemplateExporter.exclude_output_prompt=True]\n",
            "--no-input\n",
            "    Exclude input cells and output prompts from converted document.\n",
            "            This mode is ideal for generating code-free reports.\n",
            "    Equivalent to: [--TemplateExporter.exclude_output_prompt=True --TemplateExporter.exclude_input=True --TemplateExporter.exclude_input_prompt=True]\n",
            "--allow-chromium-download\n",
            "    Whether to allow downloading chromium if no suitable version is found on the system.\n",
            "    Equivalent to: [--WebPDFExporter.allow_chromium_download=True]\n",
            "--disable-chromium-sandbox\n",
            "    Disable chromium security sandbox when converting to PDF..\n",
            "    Equivalent to: [--WebPDFExporter.disable_sandbox=True]\n",
            "--show-input\n",
            "    Shows code input. This flag is only useful for dejavu users.\n",
            "    Equivalent to: [--TemplateExporter.exclude_input=False]\n",
            "--embed-images\n",
            "    Embed the images as base64 dataurls in the output. This flag is only useful for the HTML/WebPDF/Slides exports.\n",
            "    Equivalent to: [--HTMLExporter.embed_images=True]\n",
            "--sanitize-html\n",
            "    Whether the HTML in Markdown cells and cell outputs should be sanitized..\n",
            "    Equivalent to: [--HTMLExporter.sanitize_html=True]\n",
            "--log-level=<Enum>\n",
            "    Set the log level by value or name.\n",
            "    Choices: any of [0, 10, 20, 30, 40, 50, 'DEBUG', 'INFO', 'WARN', 'ERROR', 'CRITICAL']\n",
            "    Default: 30\n",
            "    Equivalent to: [--Application.log_level]\n",
            "--config=<Unicode>\n",
            "    Full path of a config file.\n",
            "    Default: ''\n",
            "    Equivalent to: [--JupyterApp.config_file]\n",
            "--to=<Unicode>\n",
            "    The export format to be used, either one of the built-in formats\n",
            "            ['asciidoc', 'custom', 'html', 'latex', 'markdown', 'notebook', 'pdf', 'python', 'qtpdf', 'qtpng', 'rst', 'script', 'slides', 'webpdf']\n",
            "            or a dotted object name that represents the import path for an\n",
            "            ``Exporter`` class\n",
            "    Default: ''\n",
            "    Equivalent to: [--NbConvertApp.export_format]\n",
            "--template=<Unicode>\n",
            "    Name of the template to use\n",
            "    Default: ''\n",
            "    Equivalent to: [--TemplateExporter.template_name]\n",
            "--template-file=<Unicode>\n",
            "    Name of the template file to use\n",
            "    Default: None\n",
            "    Equivalent to: [--TemplateExporter.template_file]\n",
            "--theme=<Unicode>\n",
            "    Template specific theme(e.g. the name of a JupyterLab CSS theme distributed\n",
            "    as prebuilt extension for the lab template)\n",
            "    Default: 'light'\n",
            "    Equivalent to: [--HTMLExporter.theme]\n",
            "--sanitize_html=<Bool>\n",
            "    Whether the HTML in Markdown cells and cell outputs should be sanitized.This\n",
            "    should be set to True by nbviewer or similar tools.\n",
            "    Default: False\n",
            "    Equivalent to: [--HTMLExporter.sanitize_html]\n",
            "--writer=<DottedObjectName>\n",
            "    Writer class used to write the\n",
            "                                        results of the conversion\n",
            "    Default: 'FilesWriter'\n",
            "    Equivalent to: [--NbConvertApp.writer_class]\n",
            "--post=<DottedOrNone>\n",
            "    PostProcessor class used to write the\n",
            "                                        results of the conversion\n",
            "    Default: ''\n",
            "    Equivalent to: [--NbConvertApp.postprocessor_class]\n",
            "--output=<Unicode>\n",
            "    Overwrite base name use for output files.\n",
            "                Supports pattern replacements '{notebook_name}'.\n",
            "    Default: '{notebook_name}'\n",
            "    Equivalent to: [--NbConvertApp.output_base]\n",
            "--output-dir=<Unicode>\n",
            "    Directory to write output(s) to. Defaults\n",
            "                                  to output to the directory of each notebook. To recover\n",
            "                                  previous default behaviour (outputting to the current\n",
            "                                  working directory) use . as the flag value.\n",
            "    Default: ''\n",
            "    Equivalent to: [--FilesWriter.build_directory]\n",
            "--reveal-prefix=<Unicode>\n",
            "    The URL prefix for reveal.js (version 3.x).\n",
            "            This defaults to the reveal CDN, but can be any url pointing to a copy\n",
            "            of reveal.js.\n",
            "            For speaker notes to work, this must be a relative path to a local\n",
            "            copy of reveal.js: e.g., \"reveal.js\".\n",
            "            If a relative path is given, it must be a subdirectory of the\n",
            "            current directory (from which the server is run).\n",
            "            See the usage documentation\n",
            "            (https://nbconvert.readthedocs.io/en/latest/usage.html#reveal-js-html-slideshow)\n",
            "            for more details.\n",
            "    Default: ''\n",
            "    Equivalent to: [--SlidesExporter.reveal_url_prefix]\n",
            "--nbformat=<Enum>\n",
            "    The nbformat version to write.\n",
            "            Use this to downgrade notebooks.\n",
            "    Choices: any of [1, 2, 3, 4]\n",
            "    Default: 4\n",
            "    Equivalent to: [--NotebookExporter.nbformat_version]\n",
            "\n",
            "Examples\n",
            "--------\n",
            "\n",
            "    The simplest way to use nbconvert is\n",
            "\n",
            "            > jupyter nbconvert mynotebook.ipynb --to html\n",
            "\n",
            "            Options include ['asciidoc', 'custom', 'html', 'latex', 'markdown', 'notebook', 'pdf', 'python', 'qtpdf', 'qtpng', 'rst', 'script', 'slides', 'webpdf'].\n",
            "\n",
            "            > jupyter nbconvert --to latex mynotebook.ipynb\n",
            "\n",
            "            Both HTML and LaTeX support multiple output templates. LaTeX includes\n",
            "            'base', 'article' and 'report'.  HTML includes 'basic', 'lab' and\n",
            "            'classic'. You can specify the flavor of the format used.\n",
            "\n",
            "            > jupyter nbconvert --to html --template lab mynotebook.ipynb\n",
            "\n",
            "            You can also pipe the output to stdout, rather than a file\n",
            "\n",
            "            > jupyter nbconvert mynotebook.ipynb --stdout\n",
            "\n",
            "            PDF is generated via latex\n",
            "\n",
            "            > jupyter nbconvert mynotebook.ipynb --to pdf\n",
            "\n",
            "            You can get (and serve) a Reveal.js-powered slideshow\n",
            "\n",
            "            > jupyter nbconvert myslides.ipynb --to slides --post serve\n",
            "\n",
            "            Multiple notebooks can be given at the command line in a couple of\n",
            "            different ways:\n",
            "\n",
            "            > jupyter nbconvert notebook*.ipynb\n",
            "            > jupyter nbconvert notebook1.ipynb notebook2.ipynb\n",
            "\n",
            "            or you can specify the notebooks list in a config file, containing::\n",
            "\n",
            "                c.NbConvertApp.notebooks = [\"my_notebook.ipynb\"]\n",
            "\n",
            "            > jupyter nbconvert --config mycfg.py\n",
            "\n",
            "To see all available configurables, use `--help-all`.\n",
            "\n"
          ]
        },
        {
          "ename": "OSError",
          "evalue": "No such file: /content/gdrive/MyDrive/Colab Notebooks/IA2-2024.html",
          "output_type": "error",
          "traceback": [
            "\u001b[31m---------------------------------------------------------------------------\u001b[39m",
            "\u001b[31mOSError\u001b[39m                                   Traceback (most recent call last)",
            "\u001b[36mCell\u001b[39m\u001b[36m \u001b[39m\u001b[32mIn[15]\u001b[39m\u001b[32m, line 8\u001b[39m\n\u001b[32m      5\u001b[39m output_pdf = \u001b[33m'\u001b[39m\u001b[33m/content/gdrive/MyDrive/Colab Notebooks/IA2output.pdf\u001b[39m\u001b[33m'\u001b[39m \u001b[38;5;66;03m#you might need to change this path or name accordingly\u001b[39;00m\n\u001b[32m      7\u001b[39m \u001b[38;5;66;03m# Convert HTML to PDF\u001b[39;00m\n\u001b[32m----> \u001b[39m\u001b[32m8\u001b[39m \u001b[43mpdfkit\u001b[49m\u001b[43m.\u001b[49m\u001b[43mfrom_file\u001b[49m\u001b[43m(\u001b[49m\u001b[43minput_html\u001b[49m\u001b[43m,\u001b[49m\u001b[43m \u001b[49m\u001b[43moutput_pdf\u001b[49m\u001b[43m)\u001b[49m\n\u001b[32m     10\u001b[39m \u001b[38;5;66;03m# Download the generated PDF\u001b[39;00m\n\u001b[32m     11\u001b[39m files.download(output_pdf)\n",
            "\u001b[36mFile \u001b[39m\u001b[32m~/venvs/ml_class/lib/python3.12/site-packages/pdfkit/api.py:48\u001b[39m, in \u001b[36mfrom_file\u001b[39m\u001b[34m(input, output_path, options, toc, cover, css, configuration, cover_first, verbose)\u001b[39m\n\u001b[32m     30\u001b[39m \u001b[38;5;28;01mdef\u001b[39;00m\u001b[38;5;250m \u001b[39m\u001b[34mfrom_file\u001b[39m(\u001b[38;5;28minput\u001b[39m, output_path=\u001b[38;5;28;01mNone\u001b[39;00m, options=\u001b[38;5;28;01mNone\u001b[39;00m, toc=\u001b[38;5;28;01mNone\u001b[39;00m, cover=\u001b[38;5;28;01mNone\u001b[39;00m, css=\u001b[38;5;28;01mNone\u001b[39;00m,\n\u001b[32m     31\u001b[39m               configuration=\u001b[38;5;28;01mNone\u001b[39;00m, cover_first=\u001b[38;5;28;01mFalse\u001b[39;00m, verbose=\u001b[38;5;28;01mFalse\u001b[39;00m):\n\u001b[32m     32\u001b[39m \u001b[38;5;250m    \u001b[39m\u001b[33;03m\"\"\"\u001b[39;00m\n\u001b[32m     33\u001b[39m \u001b[33;03m    Convert HTML file or files to PDF document\u001b[39;00m\n\u001b[32m     34\u001b[39m \n\u001b[32m   (...)\u001b[39m\u001b[32m     45\u001b[39m \u001b[33;03m    Returns: True on success\u001b[39;00m\n\u001b[32m     46\u001b[39m \u001b[33;03m    \"\"\"\u001b[39;00m\n\u001b[32m---> \u001b[39m\u001b[32m48\u001b[39m     r = \u001b[43mPDFKit\u001b[49m\u001b[43m(\u001b[49m\u001b[38;5;28;43minput\u001b[39;49m\u001b[43m,\u001b[49m\u001b[43m \u001b[49m\u001b[33;43m'\u001b[39;49m\u001b[33;43mfile\u001b[39;49m\u001b[33;43m'\u001b[39;49m\u001b[43m,\u001b[49m\u001b[43m \u001b[49m\u001b[43moptions\u001b[49m\u001b[43m=\u001b[49m\u001b[43moptions\u001b[49m\u001b[43m,\u001b[49m\u001b[43m \u001b[49m\u001b[43mtoc\u001b[49m\u001b[43m=\u001b[49m\u001b[43mtoc\u001b[49m\u001b[43m,\u001b[49m\u001b[43m \u001b[49m\u001b[43mcover\u001b[49m\u001b[43m=\u001b[49m\u001b[43mcover\u001b[49m\u001b[43m,\u001b[49m\u001b[43m \u001b[49m\u001b[43mcss\u001b[49m\u001b[43m=\u001b[49m\u001b[43mcss\u001b[49m\u001b[43m,\u001b[49m\n\u001b[32m     49\u001b[39m \u001b[43m               \u001b[49m\u001b[43mconfiguration\u001b[49m\u001b[43m=\u001b[49m\u001b[43mconfiguration\u001b[49m\u001b[43m,\u001b[49m\u001b[43m \u001b[49m\u001b[43mcover_first\u001b[49m\u001b[43m=\u001b[49m\u001b[43mcover_first\u001b[49m\u001b[43m,\u001b[49m\u001b[43m \u001b[49m\u001b[43mverbose\u001b[49m\u001b[43m=\u001b[49m\u001b[43mverbose\u001b[49m\u001b[43m)\u001b[49m\n\u001b[32m     51\u001b[39m     \u001b[38;5;28;01mreturn\u001b[39;00m r.to_pdf(output_path)\n",
            "\u001b[36mFile \u001b[39m\u001b[32m~/venvs/ml_class/lib/python3.12/site-packages/pdfkit/pdfkit.py:44\u001b[39m, in \u001b[36mPDFKit.__init__\u001b[39m\u001b[34m(self, url_or_file, type_, options, toc, cover, css, configuration, cover_first, verbose)\u001b[39m\n\u001b[32m     41\u001b[39m \u001b[38;5;28;01mdef\u001b[39;00m\u001b[38;5;250m \u001b[39m\u001b[34m__init__\u001b[39m(\u001b[38;5;28mself\u001b[39m, url_or_file, type_, options=\u001b[38;5;28;01mNone\u001b[39;00m, toc=\u001b[38;5;28;01mNone\u001b[39;00m, cover=\u001b[38;5;28;01mNone\u001b[39;00m,\n\u001b[32m     42\u001b[39m              css=\u001b[38;5;28;01mNone\u001b[39;00m, configuration=\u001b[38;5;28;01mNone\u001b[39;00m, cover_first=\u001b[38;5;28;01mFalse\u001b[39;00m, verbose=\u001b[38;5;28;01mFalse\u001b[39;00m):\n\u001b[32m---> \u001b[39m\u001b[32m44\u001b[39m     \u001b[38;5;28mself\u001b[39m.source = \u001b[43mSource\u001b[49m\u001b[43m(\u001b[49m\u001b[43murl_or_file\u001b[49m\u001b[43m,\u001b[49m\u001b[43m \u001b[49m\u001b[43mtype_\u001b[49m\u001b[43m)\u001b[49m\n\u001b[32m     45\u001b[39m     \u001b[38;5;28mself\u001b[39m.configuration = (Configuration() \u001b[38;5;28;01mif\u001b[39;00m configuration \u001b[38;5;129;01mis\u001b[39;00m \u001b[38;5;28;01mNone\u001b[39;00m\n\u001b[32m     46\u001b[39m                           \u001b[38;5;28;01melse\u001b[39;00m configuration)\n\u001b[32m     47\u001b[39m     \u001b[38;5;28;01mtry\u001b[39;00m:\n",
            "\u001b[36mFile \u001b[39m\u001b[32m~/venvs/ml_class/lib/python3.12/site-packages/pdfkit/source.py:20\u001b[39m, in \u001b[36mSource.__init__\u001b[39m\u001b[34m(self, url_or_file, type_)\u001b[39m\n\u001b[32m     17\u001b[39m \u001b[38;5;28mself\u001b[39m.type = type_\n\u001b[32m     19\u001b[39m \u001b[38;5;28;01mif\u001b[39;00m \u001b[38;5;28mself\u001b[39m.type == \u001b[33m'\u001b[39m\u001b[33mfile\u001b[39m\u001b[33m'\u001b[39m:\n\u001b[32m---> \u001b[39m\u001b[32m20\u001b[39m     \u001b[38;5;28;43mself\u001b[39;49m\u001b[43m.\u001b[49m\u001b[43mcheckFiles\u001b[49m\u001b[43m(\u001b[49m\u001b[43m)\u001b[49m\n",
            "\u001b[36mFile \u001b[39m\u001b[32m~/venvs/ml_class/lib/python3.12/site-packages/pdfkit/source.py:40\u001b[39m, in \u001b[36mSource.checkFiles\u001b[39m\u001b[34m(self)\u001b[39m\n\u001b[32m     38\u001b[39m \u001b[38;5;28;01melse\u001b[39;00m:\n\u001b[32m     39\u001b[39m     \u001b[38;5;28;01mif\u001b[39;00m \u001b[38;5;129;01mnot\u001b[39;00m \u001b[38;5;28mhasattr\u001b[39m(\u001b[38;5;28mself\u001b[39m.source, \u001b[33m'\u001b[39m\u001b[33mread\u001b[39m\u001b[33m'\u001b[39m) \u001b[38;5;129;01mand\u001b[39;00m \u001b[38;5;129;01mnot\u001b[39;00m os.path.exists(\u001b[38;5;28mself\u001b[39m.source):\n\u001b[32m---> \u001b[39m\u001b[32m40\u001b[39m         \u001b[38;5;28;01mraise\u001b[39;00m \u001b[38;5;167;01mIOError\u001b[39;00m(\u001b[33m'\u001b[39m\u001b[33mNo such file: \u001b[39m\u001b[38;5;132;01m%s\u001b[39;00m\u001b[33m'\u001b[39m % \u001b[38;5;28mself\u001b[39m.source)\n",
            "\u001b[31mOSError\u001b[39m: No such file: /content/gdrive/MyDrive/Colab Notebooks/IA2-2024.html"
          ]
        }
      ],
      "source": [
        "#running this code block will convert this notebook and its outputs into a pdf report.\n",
        "!jupyter nbconvert --to html /content/gdrive/MyDrive/Colab\\ Notebooks/IA2-2024.ipynb  # you might need to change this path to appropriate value to location your copy of the IA0 notebook\n",
        "\n",
        "input_html = '/content/gdrive/MyDrive/Colab Notebooks/IA2-2024.html' #you might need to change this path accordingly\n",
        "output_pdf = '/content/gdrive/MyDrive/Colab Notebooks/IA2output.pdf' #you might need to change this path or name accordingly\n",
        "\n",
        "# Convert HTML to PDF\n",
        "pdfkit.from_file(input_html, output_pdf)\n",
        "\n",
        "# Download the generated PDF\n",
        "files.download(output_pdf)"
      ]
    }
  ],
  "metadata": {
    "colab": {
      "provenance": [],
      "toc_visible": true
    },
    "kernelspec": {
      "display_name": "ml_class",
      "language": "python",
      "name": "python3"
    },
    "language_info": {
      "codemirror_mode": {
        "name": "ipython",
        "version": 3
      },
      "file_extension": ".py",
      "mimetype": "text/x-python",
      "name": "python",
      "nbconvert_exporter": "python",
      "pygments_lexer": "ipython3",
      "version": "3.12.3"
    }
  },
  "nbformat": 4,
  "nbformat_minor": 0
}
